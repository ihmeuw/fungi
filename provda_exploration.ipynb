{
 "cells": [
  {
   "cell_type": "code",
   "execution_count": 59,
   "metadata": {
    "collapsed": true
   },
   "outputs": [],
   "source": [
    "from collections import Counter\n",
    "from collections import defaultdict\n",
    "import datetime\n",
    "import itertools\n",
    "import json\n",
    "\n",
    "import numpy as np"
   ]
  },
  {
   "cell_type": "code",
   "execution_count": 2,
   "metadata": {
    "collapsed": true
   },
   "outputs": [],
   "source": [
    "# Path to file with JSON provenance documents, one per line.\n",
    "PATH_SAMPLE_DATA = \"/Users/vr24/logstash-5.0.0/make_history_output.log\"\n",
    "RELATIONSHIP_TYPE_KEYNAME = unicode(\"prov\")\n",
    "SEED = 0\n",
    "FIELDS_KEY = \"@fields\"\n",
    "INSTANCE_KEY = \"instance\"\n",
    "DOCUMENT_KEY = \"document\"\n",
    "MESSAGE_KEY = \"@message\""
   ]
  },
  {
   "cell_type": "code",
   "execution_count": 3,
   "metadata": {
    "collapsed": false
   },
   "outputs": [
    {
     "name": "stdout",
     "output_type": "stream",
     "text": [
      "There are 7103 logs.\n"
     ]
    }
   ],
   "source": [
    "# Load and count log records.\n",
    "with open(PATH_SAMPLE_DATA, \"r\") as logfile:\n",
    "    logs = [json.loads(line.strip()) for line in logfile]\n",
    "print(\"There are {} logs.\".format(len(logs)))"
   ]
  },
  {
   "cell_type": "code",
   "execution_count": 4,
   "metadata": {
    "collapsed": false
   },
   "outputs": [
    {
     "data": {
      "text/plain": [
       "{u'activity',\n",
       " u'agent',\n",
       " u'entity',\n",
       " u'hadMember',\n",
       " u'prefix',\n",
       " u'used',\n",
       " u'wasAssociatedWith',\n",
       " u'wasGeneratedBy',\n",
       " u'wasInfluencedBy'}"
      ]
     },
     "execution_count": 4,
     "metadata": {},
     "output_type": "execute_result"
    }
   ],
   "source": [
    "# What's the space of depicted relationships look like?\n",
    "relationship_type_names = {log[RELATIONSHIP_TYPE_KEYNAME] for log in logs}\n",
    "relationship_type_names"
   ]
  },
  {
   "cell_type": "code",
   "execution_count": 5,
   "metadata": {
    "collapsed": false
   },
   "outputs": [
    {
     "data": {
      "text/plain": [
       "array([ {u'@fields': {u'_:id5': {u'prov:collection': u'unk:processcollection', u'prov:entity': u'doc:102'}, u'_:id4': {u'prov:collection': u'unk:processcollection', u'prov:entity': u'doc:101'}, u'_:id6': {u'prov:collection': u'unk:processcollection', u'prov:entity': u'doc:103'}, u'_:id3': {u'prov:collection': u'unk:processcollection', u'prov:entity': u'doc:100'}, u'_:id9': {u'prov:collection': u'unk:processcollection', u'prov:entity': u'doc:111'}, u'_:id8': {u'prov:collection': u'unk:processcollection', u'prov:entity': u'doc:110'}, u'_:id11': {u'prov:collection': u'unk:processcollection', u'prov:entity': u'doc:113'}, u'_:id10': {u'prov:collection': u'unk:processcollection', u'prov:entity': u'doc:112'}, u'_:id13': {u'prov:collection': u'unk:processcollection', u'prov:entity': u'doc:121'}, u'_:id12': {u'prov:collection': u'unk:processcollection', u'prov:entity': u'doc:120'}}, u'prov': u'hadMember', u'@timestamp': u'2016-11-06T11:00:33.990Z', u'instance': u'_:id8', u'host': u'127.0.0.1', u'@source_host': u'withme', u'@message': u'create_file3', u'document': u'is:19928063-bbc3-449e-9526-a9355cdc5c82', u'@version': 1, u'port': 56866},\n",
       "       {u'@fields': {u'doc:gbd-read/schema/table': {}, u'code:tests/make_history.py': {u'unk:version_remote': u'https://vr24@stash.ihme.washington.edu/scm/~adolgert/provda.git', u'unk:version_branch_hash': u'372d74f21713f47642fc424e7e3289f38b2ed5a0', u'unk:script': u'/Users/vr24/code/provda/tests/make_history.py', u'unk:version_branch': u'tinkering'}, u'doc:gbd/first_history_test2/cvd_ihd.hdf': {}, u'doc:paf/first_history_test2/cvd_ihd.hdf': {}}, u'prov': u'entity', u'@timestamp': u'2016-11-06T11:00:31.658Z', u'instance': u'doc:gbd-read/schema/table', u'host': u'127.0.0.1', u'@source_host': u'withme', u'@message': u'create_file3', u'document': u'is:a521b192-6379-4be8-8cc5-3944c4b8b088', u'@version': 1, u'port': 56859},\n",
       "       {u'@fields': {u'is:fcfd1110-3c91-49c6-9da9-d396f426875f': {u'unk:process_id': {u'type': u'xsd:int', u'$': 42614}, u'unk:command': u'/Users/vr24/virtualenvs/general_personal_dev_env/bin/python', u'unk:group_id': {u'type': u'xsd:int', u'$': 42057}, u'unk:platform': u'Darwin-15.5.0-x86_64-i386-64bit', u'unk:hostname': u'Gladstone.domain', u'unk:interpreter': u'2.7.10 (default, Oct 23 2015, 19:19:21) ', u'unk:args': u'--child combine_scalars --tag first_history_test8', u'unk:date': u'2016-11-06T02:46:38-08:00', u'unk:sge_job_id': u'521'}}, u'prov': u'activity', u'@timestamp': u'2016-11-06T10:46:38.646Z', u'instance': u'is:fcfd1110-3c91-49c6-9da9-d396f426875f', u'host': u'127.0.0.1', u'@source_host': u'withme', u'@message': u'create_file3', u'document': u'is:fcfd1110-3c91-49c6-9da9-d396f426875f', u'@version': 1, u'port': 56435},\n",
       "       {u'@fields': {u'doc:gbd-read/schema/table': {}, u'doc:scalar/first_history_test2/cvd_ihd.hdf': {}, u'doc:fbd-write/fbd/model_entity': {}, u'doc:combined/first_history_test2/cvd_ihd.hdf': {}, u'code:tests/make_history.py': {u'unk:version_remote': u'https://vr24@stash.ihme.washington.edu/scm/~adolgert/provda.git', u'unk:version_branch_hash': u'372d74f21713f47642fc424e7e3289f38b2ed5a0', u'unk:script': u'/Users/vr24/code/provda/tests/make_history.py', u'unk:version_branch': u'tinkering'}}, u'prov': u'entity', u'@timestamp': u'2016-11-06T11:01:29.980Z', u'instance': u'doc:fbd-write/fbd/model_entity', u'host': u'127.0.0.1', u'@source_host': u'withme', u'@message': u'create_file3', u'document': u'is:c03cb940-a2a8-49c7-af63-51d4c9c366e9', u'@version': 1, u'port': 56903},\n",
       "       {u'@fields': {u'doc:gbd-read/schema/table': {}, u'doc:gbd/first_history_test0/cvd_ihd.hdf': {}, u'code:tests/make_history.py': {u'unk:version_remote': u'https://vr24@stash.ihme.washington.edu/scm/~adolgert/provda.git', u'unk:version_branch_hash': u'372d74f21713f47642fc424e7e3289f38b2ed5a0', u'unk:script': u'/Users/vr24/code/provda/tests/make_history.py', u'unk:version_branch': u'tinkering'}, u'doc:paf/first_history_test0/cvd_ihd.hdf': {}}, u'prov': u'entity', u'@timestamp': u'2016-11-06T11:04:18.984Z', u'instance': u'doc:paf/first_history_test0/cvd_ihd.hdf', u'host': u'127.0.0.1', u'@source_host': u'withme', u'@message': u'create_file3', u'document': u'is:1ca7c6ae-84a7-46db-bef2-67d39247990a', u'@version': 1, u'port': 56999}], dtype=object)"
      ]
     },
     "execution_count": 5,
     "metadata": {},
     "output_type": "execute_result"
    }
   ],
   "source": [
    "# Let's view some random records to see what we're up against.\n",
    "np.random.seed(SEED)\n",
    "sample_logs = np.asarray(logs)[np.random.randint(0, len(logs), 5)]\n",
    "sample_logs"
   ]
  },
  {
   "cell_type": "code",
   "execution_count": 6,
   "metadata": {
    "collapsed": false
   },
   "outputs": [
    {
     "data": {
      "text/plain": [
       "Counter({u'@fields': 7103,\n",
       "         u'@message': 7103,\n",
       "         u'@source_host': 7103,\n",
       "         u'@timestamp': 7103,\n",
       "         u'@version': 7103,\n",
       "         u'document': 7103,\n",
       "         u'host': 7103,\n",
       "         u'instance': 7103,\n",
       "         u'port': 7103,\n",
       "         u'prov': 7103})"
      ]
     },
     "execution_count": 6,
     "metadata": {},
     "output_type": "execute_result"
    }
   ],
   "source": [
    "# What's the total space of possible record fields?\n",
    "# In how many records is each field present?\n",
    "records_fields_histogram = Counter()\n",
    "for log in logs:\n",
    "    records_fields_histogram.update(log.keys())\n",
    "records_fields_histogram"
   ]
  },
  {
   "cell_type": "code",
   "execution_count": 7,
   "metadata": {
    "collapsed": false
   },
   "outputs": [
    {
     "data": {
      "text/plain": [
       "Counter({'activity': 358,\n",
       "         'agent': 361,\n",
       "         'entity': 1748,\n",
       "         'hadMember': 330,\n",
       "         'prefix': 2506,\n",
       "         'used': 1017,\n",
       "         'wasAssociatedWith': 361,\n",
       "         'wasGeneratedBy': 392,\n",
       "         'wasInfluencedBy': 30})"
      ]
     },
     "execution_count": 7,
     "metadata": {},
     "output_type": "execute_result"
    }
   ],
   "source": [
    "# Excellent, we have a standard at the record level!\n",
    "# What does the distribution of provenance document type name look like?\n",
    "log_type_histogram = Counter(str(log[RELATIONSHIP_TYPE_KEYNAME]) for log in logs)\n",
    "log_type_histogram"
   ]
  },
  {
   "cell_type": "code",
   "execution_count": 8,
   "metadata": {
    "collapsed": false
   },
   "outputs": [
    {
     "data": {
      "text/plain": [
       "{u'activity': [{u'@fields': {u'is:0a16324a-0017-47e9-a727-199d1f3e0fce': {u'unk:args': u'--child calculate_pafs --tag first_history_test0',\n",
       "     u'unk:command': u'/Users/vr24/virtualenvs/general_personal_dev_env/bin/python',\n",
       "     u'unk:date': u'2016-11-06T02:45:51-08:00',\n",
       "     u'unk:group_id': {u'$': 42057, u'type': u'xsd:int'},\n",
       "     u'unk:hostname': u'Gladstone.domain',\n",
       "     u'unk:interpreter': u'2.7.10 (default, Oct 23 2015, 19:19:21) ',\n",
       "     u'unk:platform': u'Darwin-15.5.0-x86_64-i386-64bit',\n",
       "     u'unk:process_id': {u'$': 42064, u'type': u'xsd:int'},\n",
       "     u'unk:sge_job_id': u'100'}},\n",
       "   u'@message': u'create_file3',\n",
       "   u'@source_host': u'withme',\n",
       "   u'@timestamp': u'2016-11-06T10:45:51.928Z',\n",
       "   u'@version': 1,\n",
       "   u'document': u'is:0a16324a-0017-47e9-a727-199d1f3e0fce',\n",
       "   u'host': u'127.0.0.1',\n",
       "   u'instance': u'is:0a16324a-0017-47e9-a727-199d1f3e0fce',\n",
       "   u'port': 56339,\n",
       "   u'prov': u'activity'},\n",
       "  {u'@fields': {u'is:5a4e5132-cf82-4bb1-99b6-d4a673391512': {u'unk:args': u'--child calculate_pafs --tag first_history_test0',\n",
       "     u'unk:command': u'/Users/vr24/virtualenvs/general_personal_dev_env/bin/python',\n",
       "     u'unk:date': u'2016-11-06T02:45:52-08:00',\n",
       "     u'unk:group_id': {u'$': 42057, u'type': u'xsd:int'},\n",
       "     u'unk:hostname': u'Gladstone.domain',\n",
       "     u'unk:interpreter': u'2.7.10 (default, Oct 23 2015, 19:19:21) ',\n",
       "     u'unk:platform': u'Darwin-15.5.0-x86_64-i386-64bit',\n",
       "     u'unk:process_id': {u'$': 42070, u'type': u'xsd:int'},\n",
       "     u'unk:sge_job_id': u'101'}},\n",
       "   u'@message': u'create_file3',\n",
       "   u'@source_host': u'withme',\n",
       "   u'@timestamp': u'2016-11-06T10:45:52.474Z',\n",
       "   u'@version': 1,\n",
       "   u'document': u'is:5a4e5132-cf82-4bb1-99b6-d4a673391512',\n",
       "   u'host': u'127.0.0.1',\n",
       "   u'instance': u'is:5a4e5132-cf82-4bb1-99b6-d4a673391512',\n",
       "   u'port': 56340,\n",
       "   u'prov': u'activity'},\n",
       "  {u'@fields': {u'is:10924aca-9781-4b51-8dd6-25a2344e2bcc': {u'unk:args': u'--child calculate_pafs --tag first_history_test0',\n",
       "     u'unk:command': u'/Users/vr24/virtualenvs/general_personal_dev_env/bin/python',\n",
       "     u'unk:date': u'2016-11-06T02:45:52-08:00',\n",
       "     u'unk:group_id': {u'$': 42057, u'type': u'xsd:int'},\n",
       "     u'unk:hostname': u'Gladstone.domain',\n",
       "     u'unk:interpreter': u'2.7.10 (default, Oct 23 2015, 19:19:21) ',\n",
       "     u'unk:platform': u'Darwin-15.5.0-x86_64-i386-64bit',\n",
       "     u'unk:process_id': {u'$': 42076, u'type': u'xsd:int'},\n",
       "     u'unk:sge_job_id': u'102'}},\n",
       "   u'@message': u'create_file3',\n",
       "   u'@source_host': u'withme',\n",
       "   u'@timestamp': u'2016-11-06T10:45:53.583Z',\n",
       "   u'@version': 1,\n",
       "   u'document': u'is:10924aca-9781-4b51-8dd6-25a2344e2bcc',\n",
       "   u'host': u'127.0.0.1',\n",
       "   u'instance': u'is:10924aca-9781-4b51-8dd6-25a2344e2bcc',\n",
       "   u'port': 56341,\n",
       "   u'prov': u'activity'}],\n",
       " u'agent': [{u'@fields': {u'people:vr24': {u'unk:fullname': u'Vincent Reuter',\n",
       "     u'unk:homedir': u'/Users/vr24'}},\n",
       "   u'@message': u'create_file3',\n",
       "   u'@source_host': u'withme',\n",
       "   u'@timestamp': u'2016-11-06T10:45:51.927Z',\n",
       "   u'@version': 1,\n",
       "   u'document': u'is:0a16324a-0017-47e9-a727-199d1f3e0fce',\n",
       "   u'host': u'127.0.0.1',\n",
       "   u'instance': u'people:vr24',\n",
       "   u'port': 56339,\n",
       "   u'prov': u'agent'},\n",
       "  {u'@fields': {u'people:vr24': {u'unk:fullname': u'Vincent Reuter',\n",
       "     u'unk:homedir': u'/Users/vr24'}},\n",
       "   u'@message': u'create_file3',\n",
       "   u'@source_host': u'withme',\n",
       "   u'@timestamp': u'2016-11-06T10:45:52.471Z',\n",
       "   u'@version': 1,\n",
       "   u'document': u'is:5a4e5132-cf82-4bb1-99b6-d4a673391512',\n",
       "   u'host': u'127.0.0.1',\n",
       "   u'instance': u'people:vr24',\n",
       "   u'port': 56340,\n",
       "   u'prov': u'agent'},\n",
       "  {u'@fields': {u'people:vr24': {u'unk:fullname': u'Vincent Reuter',\n",
       "     u'unk:homedir': u'/Users/vr24'}},\n",
       "   u'@message': u'create_file3',\n",
       "   u'@source_host': u'withme',\n",
       "   u'@timestamp': u'2016-11-06T10:45:53.581Z',\n",
       "   u'@version': 1,\n",
       "   u'document': u'is:10924aca-9781-4b51-8dd6-25a2344e2bcc',\n",
       "   u'host': u'127.0.0.1',\n",
       "   u'instance': u'people:vr24',\n",
       "   u'port': 56341,\n",
       "   u'prov': u'agent'}],\n",
       " u'entity': [{u'@fields': {u'code:tests/make_history.py': {u'unk:script': u'/Users/vr24/code/provda/tests/make_history.py',\n",
       "     u'unk:version_branch': u'tinkering',\n",
       "     u'unk:version_branch_hash': u'372d74f21713f47642fc424e7e3289f38b2ed5a0',\n",
       "     u'unk:version_remote': u'https://vr24@stash.ihme.washington.edu/scm/~adolgert/provda.git'},\n",
       "    u'doc:gbd-read/schema/table': {},\n",
       "    u'doc:gbd/first_history_test0/cvd_ihd.hdf': {},\n",
       "    u'doc:paf/first_history_test0/cvd_ihd.hdf': {}},\n",
       "   u'@message': u'create_file3',\n",
       "   u'@source_host': u'withme',\n",
       "   u'@timestamp': u'2016-11-06T10:45:51.927Z',\n",
       "   u'@version': 1,\n",
       "   u'document': u'is:0a16324a-0017-47e9-a727-199d1f3e0fce',\n",
       "   u'host': u'127.0.0.1',\n",
       "   u'instance': u'doc:gbd-read/schema/table',\n",
       "   u'port': 56339,\n",
       "   u'prov': u'entity'},\n",
       "  {u'@fields': {u'code:tests/make_history.py': {u'unk:script': u'/Users/vr24/code/provda/tests/make_history.py',\n",
       "     u'unk:version_branch': u'tinkering',\n",
       "     u'unk:version_branch_hash': u'372d74f21713f47642fc424e7e3289f38b2ed5a0',\n",
       "     u'unk:version_remote': u'https://vr24@stash.ihme.washington.edu/scm/~adolgert/provda.git'},\n",
       "    u'doc:gbd-read/schema/table': {},\n",
       "    u'doc:gbd/first_history_test0/cvd_ihd.hdf': {},\n",
       "    u'doc:paf/first_history_test0/cvd_ihd.hdf': {}},\n",
       "   u'@message': u'create_file3',\n",
       "   u'@source_host': u'withme',\n",
       "   u'@timestamp': u'2016-11-06T10:45:51.927Z',\n",
       "   u'@version': 1,\n",
       "   u'document': u'is:0a16324a-0017-47e9-a727-199d1f3e0fce',\n",
       "   u'host': u'127.0.0.1',\n",
       "   u'instance': u'doc:gbd/first_history_test0/cvd_ihd.hdf',\n",
       "   u'port': 56339,\n",
       "   u'prov': u'entity'},\n",
       "  {u'@fields': {u'code:tests/make_history.py': {u'unk:script': u'/Users/vr24/code/provda/tests/make_history.py',\n",
       "     u'unk:version_branch': u'tinkering',\n",
       "     u'unk:version_branch_hash': u'372d74f21713f47642fc424e7e3289f38b2ed5a0',\n",
       "     u'unk:version_remote': u'https://vr24@stash.ihme.washington.edu/scm/~adolgert/provda.git'},\n",
       "    u'doc:gbd-read/schema/table': {},\n",
       "    u'doc:gbd/first_history_test0/cvd_ihd.hdf': {},\n",
       "    u'doc:paf/first_history_test0/cvd_ihd.hdf': {}},\n",
       "   u'@message': u'create_file3',\n",
       "   u'@source_host': u'withme',\n",
       "   u'@timestamp': u'2016-11-06T10:45:51.927Z',\n",
       "   u'@version': 1,\n",
       "   u'document': u'is:0a16324a-0017-47e9-a727-199d1f3e0fce',\n",
       "   u'host': u'127.0.0.1',\n",
       "   u'instance': u'code:tests/make_history.py',\n",
       "   u'port': 56339,\n",
       "   u'prov': u'entity'}],\n",
       " u'hadMember': [{u'@fields': {u'_:id10': {u'prov:collection': u'unk:processcollection',\n",
       "     u'prov:entity': u'doc:562'},\n",
       "    u'_:id11': {u'prov:collection': u'unk:processcollection',\n",
       "     u'prov:entity': u'doc:563'},\n",
       "    u'_:id12': {u'prov:collection': u'unk:processcollection',\n",
       "     u'prov:entity': u'doc:570'},\n",
       "    u'_:id13': {u'prov:collection': u'unk:processcollection',\n",
       "     u'prov:entity': u'doc:571'},\n",
       "    u'_:id3': {u'prov:collection': u'unk:processcollection',\n",
       "     u'prov:entity': u'doc:550'},\n",
       "    u'_:id4': {u'prov:collection': u'unk:processcollection',\n",
       "     u'prov:entity': u'doc:551'},\n",
       "    u'_:id5': {u'prov:collection': u'unk:processcollection',\n",
       "     u'prov:entity': u'doc:552'},\n",
       "    u'_:id6': {u'prov:collection': u'unk:processcollection',\n",
       "     u'prov:entity': u'doc:553'},\n",
       "    u'_:id8': {u'prov:collection': u'unk:processcollection',\n",
       "     u'prov:entity': u'doc:560'},\n",
       "    u'_:id9': {u'prov:collection': u'unk:processcollection',\n",
       "     u'prov:entity': u'doc:561'}},\n",
       "   u'@message': u'create_file3',\n",
       "   u'@source_host': u'withme',\n",
       "   u'@timestamp': u'2016-11-06T10:46:43.199Z',\n",
       "   u'@version': 1,\n",
       "   u'document': u'is:005dde4e-5d43-4d5a-b761-4a336a03a0f2',\n",
       "   u'host': u'127.0.0.1',\n",
       "   u'instance': u'_:id5',\n",
       "   u'port': 56446,\n",
       "   u'prov': u'hadMember'},\n",
       "  {u'@fields': {u'_:id10': {u'prov:collection': u'unk:processcollection',\n",
       "     u'prov:entity': u'doc:562'},\n",
       "    u'_:id11': {u'prov:collection': u'unk:processcollection',\n",
       "     u'prov:entity': u'doc:563'},\n",
       "    u'_:id12': {u'prov:collection': u'unk:processcollection',\n",
       "     u'prov:entity': u'doc:570'},\n",
       "    u'_:id13': {u'prov:collection': u'unk:processcollection',\n",
       "     u'prov:entity': u'doc:571'},\n",
       "    u'_:id3': {u'prov:collection': u'unk:processcollection',\n",
       "     u'prov:entity': u'doc:550'},\n",
       "    u'_:id4': {u'prov:collection': u'unk:processcollection',\n",
       "     u'prov:entity': u'doc:551'},\n",
       "    u'_:id5': {u'prov:collection': u'unk:processcollection',\n",
       "     u'prov:entity': u'doc:552'},\n",
       "    u'_:id6': {u'prov:collection': u'unk:processcollection',\n",
       "     u'prov:entity': u'doc:553'},\n",
       "    u'_:id8': {u'prov:collection': u'unk:processcollection',\n",
       "     u'prov:entity': u'doc:560'},\n",
       "    u'_:id9': {u'prov:collection': u'unk:processcollection',\n",
       "     u'prov:entity': u'doc:561'}},\n",
       "   u'@message': u'create_file3',\n",
       "   u'@source_host': u'withme',\n",
       "   u'@timestamp': u'2016-11-06T10:46:43.199Z',\n",
       "   u'@version': 1,\n",
       "   u'document': u'is:005dde4e-5d43-4d5a-b761-4a336a03a0f2',\n",
       "   u'host': u'127.0.0.1',\n",
       "   u'instance': u'_:id4',\n",
       "   u'port': 56446,\n",
       "   u'prov': u'hadMember'},\n",
       "  {u'@fields': {u'_:id10': {u'prov:collection': u'unk:processcollection',\n",
       "     u'prov:entity': u'doc:562'},\n",
       "    u'_:id11': {u'prov:collection': u'unk:processcollection',\n",
       "     u'prov:entity': u'doc:563'},\n",
       "    u'_:id12': {u'prov:collection': u'unk:processcollection',\n",
       "     u'prov:entity': u'doc:570'},\n",
       "    u'_:id13': {u'prov:collection': u'unk:processcollection',\n",
       "     u'prov:entity': u'doc:571'},\n",
       "    u'_:id3': {u'prov:collection': u'unk:processcollection',\n",
       "     u'prov:entity': u'doc:550'},\n",
       "    u'_:id4': {u'prov:collection': u'unk:processcollection',\n",
       "     u'prov:entity': u'doc:551'},\n",
       "    u'_:id5': {u'prov:collection': u'unk:processcollection',\n",
       "     u'prov:entity': u'doc:552'},\n",
       "    u'_:id6': {u'prov:collection': u'unk:processcollection',\n",
       "     u'prov:entity': u'doc:553'},\n",
       "    u'_:id8': {u'prov:collection': u'unk:processcollection',\n",
       "     u'prov:entity': u'doc:560'},\n",
       "    u'_:id9': {u'prov:collection': u'unk:processcollection',\n",
       "     u'prov:entity': u'doc:561'}},\n",
       "   u'@message': u'create_file3',\n",
       "   u'@source_host': u'withme',\n",
       "   u'@timestamp': u'2016-11-06T10:46:43.199Z',\n",
       "   u'@version': 1,\n",
       "   u'document': u'is:005dde4e-5d43-4d5a-b761-4a336a03a0f2',\n",
       "   u'host': u'127.0.0.1',\n",
       "   u'instance': u'_:id6',\n",
       "   u'port': 56446,\n",
       "   u'prov': u'hadMember'}],\n",
       " u'prefix': [{u'@fields': {u'code': u'https://healthdata.org/code',\n",
       "    u'dct': u'http://purl.org/dc/terms/',\n",
       "    u'doc': u'https://healthdata.org/document',\n",
       "    u'foaf': u'http://xmlns.com/foaf/0.1/',\n",
       "    u'is': u'https://healthdata.org/instances',\n",
       "    u'people': u'https://healthdata.org/people',\n",
       "    u'unk': u'http://example.com/unknown'},\n",
       "   u'@message': u'create_file3',\n",
       "   u'@source_host': u'withme',\n",
       "   u'@timestamp': u'2016-11-06T10:45:51.927Z',\n",
       "   u'@version': 1,\n",
       "   u'document': u'is:0a16324a-0017-47e9-a727-199d1f3e0fce',\n",
       "   u'host': u'127.0.0.1',\n",
       "   u'instance': u'foaf',\n",
       "   u'port': 56339,\n",
       "   u'prov': u'prefix'},\n",
       "  {u'@fields': {u'code': u'https://healthdata.org/code',\n",
       "    u'dct': u'http://purl.org/dc/terms/',\n",
       "    u'doc': u'https://healthdata.org/document',\n",
       "    u'foaf': u'http://xmlns.com/foaf/0.1/',\n",
       "    u'is': u'https://healthdata.org/instances',\n",
       "    u'people': u'https://healthdata.org/people',\n",
       "    u'unk': u'http://example.com/unknown'},\n",
       "   u'@message': u'create_file3',\n",
       "   u'@source_host': u'withme',\n",
       "   u'@timestamp': u'2016-11-06T10:45:51.927Z',\n",
       "   u'@version': 1,\n",
       "   u'document': u'is:0a16324a-0017-47e9-a727-199d1f3e0fce',\n",
       "   u'host': u'127.0.0.1',\n",
       "   u'instance': u'code',\n",
       "   u'port': 56339,\n",
       "   u'prov': u'prefix'},\n",
       "  {u'@fields': {u'code': u'https://healthdata.org/code',\n",
       "    u'dct': u'http://purl.org/dc/terms/',\n",
       "    u'doc': u'https://healthdata.org/document',\n",
       "    u'foaf': u'http://xmlns.com/foaf/0.1/',\n",
       "    u'is': u'https://healthdata.org/instances',\n",
       "    u'people': u'https://healthdata.org/people',\n",
       "    u'unk': u'http://example.com/unknown'},\n",
       "   u'@message': u'create_file3',\n",
       "   u'@source_host': u'withme',\n",
       "   u'@timestamp': u'2016-11-06T10:45:51.927Z',\n",
       "   u'@version': 1,\n",
       "   u'document': u'is:0a16324a-0017-47e9-a727-199d1f3e0fce',\n",
       "   u'host': u'127.0.0.1',\n",
       "   u'instance': u'people',\n",
       "   u'port': 56339,\n",
       "   u'prov': u'prefix'}],\n",
       " u'used': [{u'@fields': {u'_:id1': {u'prov:activity': u'is:0a16324a-0017-47e9-a727-199d1f3e0fce',\n",
       "     u'prov:entity': u'code:tests/make_history.py'},\n",
       "    u'_:id3': {u'prov:activity': u'is:0a16324a-0017-47e9-a727-199d1f3e0fce',\n",
       "     u'prov:entity': u'doc:gbd/first_history_test0/cvd_ihd.hdf'},\n",
       "    u'_:id4': {u'prov:activity': u'is:0a16324a-0017-47e9-a727-199d1f3e0fce',\n",
       "     u'prov:entity': u'doc:gbd-read/schema/table'}},\n",
       "   u'@message': u'create_file3',\n",
       "   u'@source_host': u'withme',\n",
       "   u'@timestamp': u'2016-11-06T10:45:51.927Z',\n",
       "   u'@version': 1,\n",
       "   u'document': u'is:0a16324a-0017-47e9-a727-199d1f3e0fce',\n",
       "   u'host': u'127.0.0.1',\n",
       "   u'instance': u'_:id4',\n",
       "   u'port': 56339,\n",
       "   u'prov': u'used'},\n",
       "  {u'@fields': {u'_:id1': {u'prov:activity': u'is:0a16324a-0017-47e9-a727-199d1f3e0fce',\n",
       "     u'prov:entity': u'code:tests/make_history.py'},\n",
       "    u'_:id3': {u'prov:activity': u'is:0a16324a-0017-47e9-a727-199d1f3e0fce',\n",
       "     u'prov:entity': u'doc:gbd/first_history_test0/cvd_ihd.hdf'},\n",
       "    u'_:id4': {u'prov:activity': u'is:0a16324a-0017-47e9-a727-199d1f3e0fce',\n",
       "     u'prov:entity': u'doc:gbd-read/schema/table'}},\n",
       "   u'@message': u'create_file3',\n",
       "   u'@source_host': u'withme',\n",
       "   u'@timestamp': u'2016-11-06T10:45:51.927Z',\n",
       "   u'@version': 1,\n",
       "   u'document': u'is:0a16324a-0017-47e9-a727-199d1f3e0fce',\n",
       "   u'host': u'127.0.0.1',\n",
       "   u'instance': u'_:id1',\n",
       "   u'port': 56339,\n",
       "   u'prov': u'used'},\n",
       "  {u'@fields': {u'_:id1': {u'prov:activity': u'is:0a16324a-0017-47e9-a727-199d1f3e0fce',\n",
       "     u'prov:entity': u'code:tests/make_history.py'},\n",
       "    u'_:id3': {u'prov:activity': u'is:0a16324a-0017-47e9-a727-199d1f3e0fce',\n",
       "     u'prov:entity': u'doc:gbd/first_history_test0/cvd_ihd.hdf'},\n",
       "    u'_:id4': {u'prov:activity': u'is:0a16324a-0017-47e9-a727-199d1f3e0fce',\n",
       "     u'prov:entity': u'doc:gbd-read/schema/table'}},\n",
       "   u'@message': u'create_file3',\n",
       "   u'@source_host': u'withme',\n",
       "   u'@timestamp': u'2016-11-06T10:45:51.927Z',\n",
       "   u'@version': 1,\n",
       "   u'document': u'is:0a16324a-0017-47e9-a727-199d1f3e0fce',\n",
       "   u'host': u'127.0.0.1',\n",
       "   u'instance': u'_:id3',\n",
       "   u'port': 56339,\n",
       "   u'prov': u'used'}],\n",
       " u'wasAssociatedWith': [{u'@fields': {u'_:id2': {u'prov:activity': u'is:0a16324a-0017-47e9-a727-199d1f3e0fce',\n",
       "     u'prov:agent': u'people:vr24'}},\n",
       "   u'@message': u'create_file3',\n",
       "   u'@source_host': u'withme',\n",
       "   u'@timestamp': u'2016-11-06T10:45:51.927Z',\n",
       "   u'@version': 1,\n",
       "   u'document': u'is:0a16324a-0017-47e9-a727-199d1f3e0fce',\n",
       "   u'host': u'127.0.0.1',\n",
       "   u'instance': u'_:id2',\n",
       "   u'port': 56339,\n",
       "   u'prov': u'wasAssociatedWith'},\n",
       "  {u'@fields': {u'_:id2': {u'prov:activity': u'is:5a4e5132-cf82-4bb1-99b6-d4a673391512',\n",
       "     u'prov:agent': u'people:vr24'}},\n",
       "   u'@message': u'create_file3',\n",
       "   u'@source_host': u'withme',\n",
       "   u'@timestamp': u'2016-11-06T10:45:52.470Z',\n",
       "   u'@version': 1,\n",
       "   u'document': u'is:5a4e5132-cf82-4bb1-99b6-d4a673391512',\n",
       "   u'host': u'127.0.0.1',\n",
       "   u'instance': u'_:id2',\n",
       "   u'port': 56340,\n",
       "   u'prov': u'wasAssociatedWith'},\n",
       "  {u'@fields': {u'_:id2': {u'prov:activity': u'is:10924aca-9781-4b51-8dd6-25a2344e2bcc',\n",
       "     u'prov:agent': u'people:vr24'}},\n",
       "   u'@message': u'create_file3',\n",
       "   u'@source_host': u'withme',\n",
       "   u'@timestamp': u'2016-11-06T10:45:53.580Z',\n",
       "   u'@version': 1,\n",
       "   u'document': u'is:10924aca-9781-4b51-8dd6-25a2344e2bcc',\n",
       "   u'host': u'127.0.0.1',\n",
       "   u'instance': u'_:id2',\n",
       "   u'port': 56341,\n",
       "   u'prov': u'wasAssociatedWith'}],\n",
       " u'wasGeneratedBy': [{u'@fields': {u'_:id5': {u'prov:activity': u'is:0a16324a-0017-47e9-a727-199d1f3e0fce',\n",
       "     u'prov:entity': u'doc:paf/first_history_test0/cvd_ihd.hdf'}},\n",
       "   u'@message': u'create_file3',\n",
       "   u'@source_host': u'withme',\n",
       "   u'@timestamp': u'2016-11-06T10:45:51.928Z',\n",
       "   u'@version': 1,\n",
       "   u'document': u'is:0a16324a-0017-47e9-a727-199d1f3e0fce',\n",
       "   u'host': u'127.0.0.1',\n",
       "   u'instance': u'_:id5',\n",
       "   u'port': 56339,\n",
       "   u'prov': u'wasGeneratedBy'},\n",
       "  {u'@fields': {u'_:id5': {u'prov:activity': u'is:5a4e5132-cf82-4bb1-99b6-d4a673391512',\n",
       "     u'prov:entity': u'doc:paf/first_history_test0/cvd_ihd.hdf'}},\n",
       "   u'@message': u'create_file3',\n",
       "   u'@source_host': u'withme',\n",
       "   u'@timestamp': u'2016-11-06T10:45:52.474Z',\n",
       "   u'@version': 1,\n",
       "   u'document': u'is:5a4e5132-cf82-4bb1-99b6-d4a673391512',\n",
       "   u'host': u'127.0.0.1',\n",
       "   u'instance': u'_:id5',\n",
       "   u'port': 56340,\n",
       "   u'prov': u'wasGeneratedBy'},\n",
       "  {u'@fields': {u'_:id5': {u'prov:activity': u'is:10924aca-9781-4b51-8dd6-25a2344e2bcc',\n",
       "     u'prov:entity': u'doc:paf/first_history_test0/cvd_ihd.hdf'}},\n",
       "   u'@message': u'create_file3',\n",
       "   u'@source_host': u'withme',\n",
       "   u'@timestamp': u'2016-11-06T10:45:53.584Z',\n",
       "   u'@version': 1,\n",
       "   u'document': u'is:10924aca-9781-4b51-8dd6-25a2344e2bcc',\n",
       "   u'host': u'127.0.0.1',\n",
       "   u'instance': u'_:id5',\n",
       "   u'port': 56341,\n",
       "   u'prov': u'wasGeneratedBy'}],\n",
       " u'wasInfluencedBy': [{u'@fields': {u'_:id7': [{u'prov:influencee': u'unk:processcollection',\n",
       "      u'prov:influencer': u'is:005dde4e-5d43-4d5a-b761-4a336a03a0f2'},\n",
       "     {u'prov:influencee': u'unk:processcollection',\n",
       "      u'prov:influencer': u'is:005dde4e-5d43-4d5a-b761-4a336a03a0f2'},\n",
       "     {u'prov:influencee': u'unk:processcollection',\n",
       "      u'prov:influencer': u'is:005dde4e-5d43-4d5a-b761-4a336a03a0f2'}]},\n",
       "   u'@message': u'create_file3',\n",
       "   u'@source_host': u'withme',\n",
       "   u'@timestamp': u'2016-11-06T10:46:43.202Z',\n",
       "   u'@version': 1,\n",
       "   u'document': u'is:005dde4e-5d43-4d5a-b761-4a336a03a0f2',\n",
       "   u'host': u'127.0.0.1',\n",
       "   u'instance': u'_:id7',\n",
       "   u'port': 56446,\n",
       "   u'prov': u'wasInfluencedBy'},\n",
       "  {u'@fields': {u'_:id7': [{u'prov:influencee': u'unk:processcollection',\n",
       "      u'prov:influencer': u'is:a1fe4f84-2ca2-43f8-9624-5710cba7a22a'},\n",
       "     {u'prov:influencee': u'unk:processcollection',\n",
       "      u'prov:influencer': u'is:a1fe4f84-2ca2-43f8-9624-5710cba7a22a'},\n",
       "     {u'prov:influencee': u'unk:processcollection',\n",
       "      u'prov:influencer': u'is:a1fe4f84-2ca2-43f8-9624-5710cba7a22a'}]},\n",
       "   u'@message': u'create_file3',\n",
       "   u'@source_host': u'withme',\n",
       "   u'@timestamp': u'2016-11-06T10:46:43.213Z',\n",
       "   u'@version': 1,\n",
       "   u'document': u'is:a1fe4f84-2ca2-43f8-9624-5710cba7a22a',\n",
       "   u'host': u'127.0.0.1',\n",
       "   u'instance': u'_:id7',\n",
       "   u'port': 56447,\n",
       "   u'prov': u'wasInfluencedBy'},\n",
       "  {u'@fields': {u'_:id7': [{u'prov:influencee': u'unk:processcollection',\n",
       "      u'prov:influencer': u'is:a8a65416-3d9c-436c-9960-e9c4178ba8a3'},\n",
       "     {u'prov:influencee': u'unk:processcollection',\n",
       "      u'prov:influencer': u'is:a8a65416-3d9c-436c-9960-e9c4178ba8a3'},\n",
       "     {u'prov:influencee': u'unk:processcollection',\n",
       "      u'prov:influencer': u'is:a8a65416-3d9c-436c-9960-e9c4178ba8a3'}]},\n",
       "   u'@message': u'create_file3',\n",
       "   u'@source_host': u'withme',\n",
       "   u'@timestamp': u'2016-11-06T10:46:43.222Z',\n",
       "   u'@version': 1,\n",
       "   u'document': u'is:a8a65416-3d9c-436c-9960-e9c4178ba8a3',\n",
       "   u'host': u'127.0.0.1',\n",
       "   u'instance': u'_:id7',\n",
       "   u'port': 56448,\n",
       "   u'prov': u'wasInfluencedBy'}]}"
      ]
     },
     "execution_count": 8,
     "metadata": {},
     "output_type": "execute_result"
    }
   ],
   "source": [
    "# OK, we could consider using the provenance document type as the type within the ES index.\n",
    "# Let's get a trio of log record samples for each of the document types.\n",
    "logs_by_type = defaultdict(list)\n",
    "for log in logs:\n",
    "    logs_by_type[log[RELATIONSHIP_TYPE_KEYNAME]].append(log)\n",
    "log_trio_by_type = {log_type: logs[:3] for log_type, logs in logs_by_type.items()}\n",
    "log_trio_by_type"
   ]
  },
  {
   "cell_type": "code",
   "execution_count": 9,
   "metadata": {
    "collapsed": false
   },
   "outputs": [
    {
     "data": {
      "text/plain": [
       "{u'activity': {u'is:0a16324a-0017-47e9-a727-199d1f3e0fce': {u'unk:args': u'--child calculate_pafs --tag first_history_test0',\n",
       "   u'unk:command': u'/Users/vr24/virtualenvs/general_personal_dev_env/bin/python',\n",
       "   u'unk:date': u'2016-11-06T02:45:51-08:00',\n",
       "   u'unk:group_id': {u'$': 42057, u'type': u'xsd:int'},\n",
       "   u'unk:hostname': u'Gladstone.domain',\n",
       "   u'unk:interpreter': u'2.7.10 (default, Oct 23 2015, 19:19:21) ',\n",
       "   u'unk:platform': u'Darwin-15.5.0-x86_64-i386-64bit',\n",
       "   u'unk:process_id': {u'$': 42064, u'type': u'xsd:int'},\n",
       "   u'unk:sge_job_id': u'100'}},\n",
       " u'agent': {u'people:vr24': {u'unk:fullname': u'Vincent Reuter',\n",
       "   u'unk:homedir': u'/Users/vr24'}},\n",
       " u'entity': {u'code:tests/make_history.py': {u'unk:script': u'/Users/vr24/code/provda/tests/make_history.py',\n",
       "   u'unk:version_branch': u'tinkering',\n",
       "   u'unk:version_branch_hash': u'372d74f21713f47642fc424e7e3289f38b2ed5a0',\n",
       "   u'unk:version_remote': u'https://vr24@stash.ihme.washington.edu/scm/~adolgert/provda.git'},\n",
       "  u'doc:gbd-read/schema/table': {},\n",
       "  u'doc:gbd/first_history_test0/cvd_ihd.hdf': {},\n",
       "  u'doc:paf/first_history_test0/cvd_ihd.hdf': {}},\n",
       " u'hadMember': {u'_:id10': {u'prov:collection': u'unk:processcollection',\n",
       "   u'prov:entity': u'doc:562'},\n",
       "  u'_:id11': {u'prov:collection': u'unk:processcollection',\n",
       "   u'prov:entity': u'doc:563'},\n",
       "  u'_:id12': {u'prov:collection': u'unk:processcollection',\n",
       "   u'prov:entity': u'doc:570'},\n",
       "  u'_:id13': {u'prov:collection': u'unk:processcollection',\n",
       "   u'prov:entity': u'doc:571'},\n",
       "  u'_:id3': {u'prov:collection': u'unk:processcollection',\n",
       "   u'prov:entity': u'doc:550'},\n",
       "  u'_:id4': {u'prov:collection': u'unk:processcollection',\n",
       "   u'prov:entity': u'doc:551'},\n",
       "  u'_:id5': {u'prov:collection': u'unk:processcollection',\n",
       "   u'prov:entity': u'doc:552'},\n",
       "  u'_:id6': {u'prov:collection': u'unk:processcollection',\n",
       "   u'prov:entity': u'doc:553'},\n",
       "  u'_:id8': {u'prov:collection': u'unk:processcollection',\n",
       "   u'prov:entity': u'doc:560'},\n",
       "  u'_:id9': {u'prov:collection': u'unk:processcollection',\n",
       "   u'prov:entity': u'doc:561'}},\n",
       " u'prefix': {u'code': u'https://healthdata.org/code',\n",
       "  u'dct': u'http://purl.org/dc/terms/',\n",
       "  u'doc': u'https://healthdata.org/document',\n",
       "  u'foaf': u'http://xmlns.com/foaf/0.1/',\n",
       "  u'is': u'https://healthdata.org/instances',\n",
       "  u'people': u'https://healthdata.org/people',\n",
       "  u'unk': u'http://example.com/unknown'},\n",
       " u'used': {u'_:id1': {u'prov:activity': u'is:0a16324a-0017-47e9-a727-199d1f3e0fce',\n",
       "   u'prov:entity': u'code:tests/make_history.py'},\n",
       "  u'_:id3': {u'prov:activity': u'is:0a16324a-0017-47e9-a727-199d1f3e0fce',\n",
       "   u'prov:entity': u'doc:gbd/first_history_test0/cvd_ihd.hdf'},\n",
       "  u'_:id4': {u'prov:activity': u'is:0a16324a-0017-47e9-a727-199d1f3e0fce',\n",
       "   u'prov:entity': u'doc:gbd-read/schema/table'}},\n",
       " u'wasAssociatedWith': {u'_:id2': {u'prov:activity': u'is:0a16324a-0017-47e9-a727-199d1f3e0fce',\n",
       "   u'prov:agent': u'people:vr24'}},\n",
       " u'wasGeneratedBy': {u'_:id5': {u'prov:activity': u'is:0a16324a-0017-47e9-a727-199d1f3e0fce',\n",
       "   u'prov:entity': u'doc:paf/first_history_test0/cvd_ihd.hdf'}},\n",
       " u'wasInfluencedBy': {u'_:id7': [{u'prov:influencee': u'unk:processcollection',\n",
       "    u'prov:influencer': u'is:005dde4e-5d43-4d5a-b761-4a336a03a0f2'},\n",
       "   {u'prov:influencee': u'unk:processcollection',\n",
       "    u'prov:influencer': u'is:005dde4e-5d43-4d5a-b761-4a336a03a0f2'},\n",
       "   {u'prov:influencee': u'unk:processcollection',\n",
       "    u'prov:influencer': u'is:005dde4e-5d43-4d5a-b761-4a336a03a0f2'}]}}"
      ]
     },
     "execution_count": 9,
     "metadata": {},
     "output_type": "execute_result"
    }
   ],
   "source": [
    "# Let's go type-wise to figure out how the '@fields' field differs.\n",
    "fields_sample_by_doctype = {doctype: logs[0][FIELDS_KEY] \n",
    "                            for doctype, logs in logs_by_type.items()}\n",
    "fields_sample_by_doctype"
   ]
  },
  {
   "cell_type": "code",
   "execution_count": 10,
   "metadata": {
    "collapsed": false
   },
   "outputs": [
    {
     "data": {
      "text/plain": [
       "{'@message': 1, 'document': 361, 'instance': 523}"
      ]
     },
     "execution_count": 10,
     "metadata": {},
     "output_type": "execute_result"
    }
   ],
   "source": [
    "def get_unique_values(doc_key, logs):\n",
    "    return {log[doc_key] for log in logs}\n",
    "\n",
    "instances = get_unique_values(INSTANCE_KEY, logs)\n",
    "documents = get_unique_values(DOCUMENT_KEY, logs)\n",
    "messages = get_unique_values(MESSAGE_KEY, logs)\n",
    "num_values_by_key = {\n",
    "    INSTANCE_KEY: len(instances), \n",
    "    DOCUMENT_KEY: len(documents), \n",
    "    MESSAGE_KEY: len(messages)\n",
    "}\n",
    "num_values_by_key"
   ]
  },
  {
   "cell_type": "code",
   "execution_count": 11,
   "metadata": {
    "collapsed": false
   },
   "outputs": [],
   "source": [
    "# OK, let's actually go type-wise and try to define a mapping for each \"@fields\".\n",
    "fields_field_by_type = {doc_type: [log[\"@fields\"] for log in logs] \n",
    "                        for doc_type, logs in logs_by_type.items()}"
   ]
  },
  {
   "cell_type": "code",
   "execution_count": 12,
   "metadata": {
    "collapsed": false
   },
   "outputs": [
    {
     "data": {
      "text/plain": [
       "{u'is:00129b99-6eea-4b4d-9b61-8c6153c41b5d',\n",
       " u'is:005dde4e-5d43-4d5a-b761-4a336a03a0f2',\n",
       " u'is:00a2325e-95a0-4bb8-a14b-5f133a0f1608',\n",
       " u'is:00e6a7e2-5cd6-418b-b4de-d77e321d8e9c',\n",
       " u'is:0284f0ad-5357-4273-9c1f-0e2462581d4d',\n",
       " u'is:0416b8ba-89a3-4aad-ac51-9dcaa54dfb72',\n",
       " u'is:061806c9-32e1-44d1-aeaf-73aa90aa03ef',\n",
       " u'is:0629bae4-689b-44e6-be78-01ca5140ad08',\n",
       " u'is:076da3c1-8c6e-4038-afc5-fed7550c2587',\n",
       " u'is:07bb8d38-966d-4de2-a038-40e13ce4f0cc',\n",
       " u'is:07c2b9f3-e318-4344-9d61-7c47fcfd4cca',\n",
       " u'is:08be2178-0314-425e-8d3c-1ee510c5f93e',\n",
       " u'is:08ebd293-b123-46c2-91ed-4ad5384b94c4',\n",
       " u'is:0a16324a-0017-47e9-a727-199d1f3e0fce',\n",
       " u'is:0aefb9f0-c849-4bf6-b519-4d2dbcd92fd7',\n",
       " u'is:0bf11b61-d464-4621-a1ea-3c5704142255',\n",
       " u'is:0c135172-dd66-4a53-9d7d-332a376d8c38',\n",
       " u'is:0c3f93a9-9927-41b5-90b3-6c84dfa38adb',\n",
       " u'is:0cc6b959-1950-4b4b-9387-215fdf711d40',\n",
       " u'is:0cce5da9-f531-4717-9e1a-1ba0af3e8105',\n",
       " u'is:0d153790-4efd-4ac9-8ed4-ffbf3becb140',\n",
       " u'is:0da325e9-e56e-4003-b888-6db11eef436a',\n",
       " u'is:0ef59727-32f8-4d2b-8af0-4ed3d042cce5',\n",
       " u'is:0f63ea95-8d23-4790-83ba-ccd20def395f',\n",
       " u'is:1035f82c-8d93-4afd-ac67-e73f319a28ed',\n",
       " u'is:10924aca-9781-4b51-8dd6-25a2344e2bcc',\n",
       " u'is:10b355b4-2d09-45f4-9537-5f5786487b05',\n",
       " u'is:1186bd6a-956a-4848-8f3a-41b14263e5d1',\n",
       " u'is:14327e63-66fd-4fbf-b522-9fec93a65dc2',\n",
       " u'is:1551f206-ca49-4fda-ad3e-7a1bcd858641',\n",
       " u'is:160836a1-682d-4f5b-bf86-87fef2a8c44f',\n",
       " u'is:167afa44-39f6-4a9c-b9e3-f36845826af0',\n",
       " u'is:17afc91b-542a-4b31-90d1-533b38239809',\n",
       " u'is:180c4c18-9057-40a3-8f21-da089427905d',\n",
       " u'is:1852609c-ec26-4209-a2fd-165668863abb',\n",
       " u'is:18656e84-4dd1-44b0-a55e-0c37cc4132de',\n",
       " u'is:187a59f8-79fd-4245-94d2-ba255c2a76df',\n",
       " u'is:18ebc7b0-0311-468c-8445-7a19bd263423',\n",
       " u'is:1aa802b1-e8e9-4550-882f-6e9d98c50833',\n",
       " u'is:1ca7c6ae-84a7-46db-bef2-67d39247990a',\n",
       " u'is:1cf2083d-be3a-4c89-bfbd-d86ea952b2a3',\n",
       " u'is:1e0394a7-2eb3-477c-8d24-ecaadfdeb461',\n",
       " u'is:1e60f8bc-9657-4d12-9419-f0cec8b947cd',\n",
       " u'is:1f79d8ab-dba3-4653-9d0d-0c993dde1a6d',\n",
       " u'is:1f84186a-9e89-480c-8298-b2febce7b6c4',\n",
       " u'is:21d25c66-f325-48cf-bc63-ea8704c8a3d2',\n",
       " u'is:21dea295-d12d-49c8-b478-cd2692e69723',\n",
       " u'is:21e652b2-6d1b-4bb6-8fb9-35e64fd22677',\n",
       " u'is:2241bde8-a05d-47af-8188-ed423d61686e',\n",
       " u'is:22c7e7b1-9bc1-423d-8885-df2df20e8a7c',\n",
       " u'is:23fc7cb0-2ee9-4ea5-8cae-39bf11c318ba',\n",
       " u'is:247eb880-71d0-4d19-9f1d-79f82fd6db87',\n",
       " u'is:2480f55c-746e-4bab-b46e-c5b8dd937192',\n",
       " u'is:253ea941-eff3-4a8f-81c7-752cedc8c998',\n",
       " u'is:25ca41c3-a9a4-40f9-a9a1-02ebf4c94c9e',\n",
       " u'is:2634f0bf-5b56-4ba8-9316-41a6f8986ad8',\n",
       " u'is:264714ed-f4f6-4467-8c26-cb3d86937153',\n",
       " u'is:266b13f7-c1bd-48cb-bdaf-422aab33bd53',\n",
       " u'is:26c1ef8e-bbf1-45a1-9cb4-13a89697f611',\n",
       " u'is:26d2b1dc-ac77-41d6-8acf-5d33f979980a',\n",
       " u'is:27a3c094-9bb2-4a6e-a243-4fc9753ae84e',\n",
       " u'is:2814d45f-44ce-449b-8400-93b1c0c10230',\n",
       " u'is:28c5bbcc-c845-49ba-b94d-09d887d8b165',\n",
       " u'is:295d963b-8e09-400b-a250-414d7cabdd10',\n",
       " u'is:2a64195e-1aa7-4738-a0ea-f524d6c1cc8e',\n",
       " u'is:2b6854f1-ba87-4311-b9da-76fe28469faf',\n",
       " u'is:2bb748f3-757a-4342-91c8-e172847978ed',\n",
       " u'is:2c559a82-a1ae-4d27-8e66-ce7ffb320407',\n",
       " u'is:2c57ca16-7e36-4c08-bb5e-0aa66f023aae',\n",
       " u'is:2c775a8f-ff97-4cf0-8fa5-4227fb5dd3f8',\n",
       " u'is:2cc2f27b-42db-4705-8d52-f3de4615bde3',\n",
       " u'is:2ce89580-685a-437d-9d36-3930009a9185',\n",
       " u'is:2cea244c-e8c1-45fa-a3c5-5f74a3fb6ac8',\n",
       " u'is:2d4e4d08-84d7-4edb-bbfc-a1b4fd2542d8',\n",
       " u'is:2df298a6-7d39-4515-8055-879d6938b108',\n",
       " u'is:2e13e628-4849-4029-9061-6ab6e35d18f6',\n",
       " u'is:2f105431-ddd0-44fa-a748-69c4a3844075',\n",
       " u'is:2f1b2ced-4d09-49b0-9392-6f7983c52ee8',\n",
       " u'is:2f51859d-aaf8-4af9-94df-ca14785d7013',\n",
       " u'is:305340b3-a710-4eba-9a94-9998a36cb6ec',\n",
       " u'is:31180eed-5c62-4ac5-b2b7-2918882b4281',\n",
       " u'is:32b0fb6c-f4d8-469b-aa20-3f5d4a9c0ab0',\n",
       " u'is:32baa512-a5ac-4042-b0be-58ec3f5419d2',\n",
       " u'is:32f2f12f-0b87-47ff-ae36-c72ad6deaa0c',\n",
       " u'is:34b73803-69bf-4df4-8aa5-8c835821ecd2',\n",
       " u'is:35430f4c-d60a-4b2e-8b14-c32185abed2c',\n",
       " u'is:36c84efe-4222-4726-a2ea-98122b1cd9c8',\n",
       " u'is:377f97c2-fdfe-4438-8940-20c31fdc91e1',\n",
       " u'is:38484dfc-37ff-42db-9d1c-35c265d90797',\n",
       " u'is:393ecb52-4321-4d92-9dae-70a1ddcd9cdc',\n",
       " u'is:39515a36-44d0-4098-abab-2d54789a2b35',\n",
       " u'is:3a78ef8f-141a-4172-ae6f-a65923b67f06',\n",
       " u'is:3ab0f02c-2bfb-4d88-ad0c-603bf1d3f108',\n",
       " u'is:3b483474-3708-4565-83a8-6aa17f809c40',\n",
       " u'is:3c82017b-7c81-4b9b-a105-594ff793870a',\n",
       " u'is:3cea1a68-6eb7-4abe-8424-fb81c908a916',\n",
       " u'is:3d1f4970-7298-4ab3-88d0-6e64e1403ba1',\n",
       " u'is:3d476e78-4128-4dae-b4a9-6750b0d2b6a6',\n",
       " u'is:3d960750-12a7-4103-a245-016c5d4b1a64',\n",
       " u'is:3f0e1ce2-1245-4219-b622-5cf7232b03ca',\n",
       " u'is:3f5f00bf-c983-4be8-8bb5-e9cc2ea08755',\n",
       " u'is:3ffb6128-4e4d-417a-b745-f7c23695c6a5',\n",
       " u'is:41a4a644-45b2-4697-b74e-d056fe74271c',\n",
       " u'is:41dd735c-e446-4ff3-aa10-e7b6b94f0516',\n",
       " u'is:4370ab04-aeed-4709-b704-9ed6f5604300',\n",
       " u'is:44dc7615-26e0-4c5b-9958-9f7818a30710',\n",
       " u'is:4540daf0-a4d1-453c-9564-a170d3d888e6',\n",
       " u'is:471cc297-a50e-4a68-929d-79a0b25552eb',\n",
       " u'is:47cd6605-79c9-4b0f-b7ca-67649a6726f4',\n",
       " u'is:49504d1b-a401-4ab2-b231-a50be537b675',\n",
       " u'is:4afa5a04-fee2-401f-a909-452ba2bd1211',\n",
       " u'is:4cdac62a-529f-4ac8-968f-e773b8301c27',\n",
       " u'is:4dbe6c2c-d3f6-4008-93ca-78fa73a2e708',\n",
       " u'is:4dbf9801-16d8-41e6-a778-7e2b57cb7c53',\n",
       " u'is:4dc24a03-fd1b-4ff4-a75c-9d771c632377',\n",
       " u'is:4e9aef8d-643f-41f1-bc84-86b20258637b',\n",
       " u'is:4f320985-308a-4b86-8938-4592d6e5c4fc',\n",
       " u'is:4f6ab023-887d-41b5-b4a5-b3e55581dc53',\n",
       " u'is:502d543e-5a7d-4d11-a7d6-42c425129a68',\n",
       " u'is:50ac8e92-8b00-4e84-98f4-8875fe3d9215',\n",
       " u'is:50d95f1f-912e-4a36-8742-28f8106bb95b',\n",
       " u'is:52e4988d-b7ec-4c3b-9b11-eb70f6f9177a',\n",
       " u'is:544867fe-bea9-4190-a565-309a6b7ed72b',\n",
       " u'is:54a33ea6-a577-4094-ae2e-ae86ebe12654',\n",
       " u'is:54ed739e-e390-4219-9b34-27e8fd17f9ae',\n",
       " u'is:5593dee7-aabd-4a2c-a71c-35c7d8bdee5c',\n",
       " u'is:55e71889-9354-4de3-8d02-a47e2a313d49',\n",
       " u'is:57610e25-2798-42d6-b0c1-364e7b86e044',\n",
       " u'is:576f4a15-4edc-439a-98ad-f4c7b38e9ca4',\n",
       " u'is:589bd0c6-3775-4e52-a22f-76b6dfe56f03',\n",
       " u'is:597a2f04-1bf2-475e-8e6d-f7465b26d0ea',\n",
       " u'is:59d9c827-e935-4f79-a909-c846c51a0ce9',\n",
       " u'is:5a4e5132-cf82-4bb1-99b6-d4a673391512',\n",
       " u'is:5bef9e3d-b7bb-4c46-b38f-89b9190292d2',\n",
       " u'is:5d60d04f-9bf1-4090-b2a1-763594c0742a',\n",
       " u'is:5d778f02-1baa-4fb6-ac81-33e514f617da',\n",
       " u'is:5e14be18-4e46-403d-a223-02251a9f245a',\n",
       " u'is:5eb54bf7-b590-4be6-b7a8-404a30b82c17',\n",
       " u'is:5eefcfdd-59da-45ee-a6bb-b51b73b8de9f',\n",
       " u'is:5ef81b17-688b-449b-a1c5-46c38b51c31d',\n",
       " u'is:608b0724-0355-4e66-ab9a-200834f3ccf5',\n",
       " u'is:609b0e6a-cf5a-4b58-a4b9-752431c16cae',\n",
       " u'is:60af2a78-27c0-4fe8-9fae-a948b87997a2',\n",
       " u'is:62900afd-65e3-4dc4-b7d7-7dd69bf22da3',\n",
       " u'is:62da68dd-7b4b-475a-9778-c3c71f30a2a1',\n",
       " u'is:62fbdb8a-6813-4de6-8d42-27290a8281a9',\n",
       " u'is:6314c232-65d5-416d-b951-40b28c271fbb',\n",
       " u'is:6323ca9d-bc43-45ac-a73b-7f29e6bdb8c9',\n",
       " u'is:641c70cf-8096-40d9-a75b-da1a1e6407d8',\n",
       " u'is:64c85242-aa65-4aa8-9c73-79764dec2682',\n",
       " u'is:6609b33f-5976-4efd-b1bc-0f247fc63162',\n",
       " u'is:69106690-910b-4825-8dd4-5a5b32751e05',\n",
       " u'is:6b6b37da-f72e-4806-8dff-7202c5e34732',\n",
       " u'is:6c0b22fa-d0b0-4542-8196-ebf445fd71df',\n",
       " u'is:6c1e9f3e-8235-441a-a936-f9c5ba3bbe72',\n",
       " u'is:6c3b0742-63db-465a-bf53-7004cdf4e90e',\n",
       " u'is:6e2cff7f-cb52-426f-ac6c-a2d1a75fdc38',\n",
       " u'is:6e4a950b-c5e5-4b6c-871e-748d0c504cc0',\n",
       " u'is:6f40e3f5-26fd-48db-8d66-37f2be15794a',\n",
       " u'is:708fe826-3b54-406f-925e-ae4f21100ab3',\n",
       " u'is:70dcb45c-5eff-431f-92ea-dd2022b1df32',\n",
       " u'is:71b44fdf-22bc-4872-8d4b-2acc33b587d3',\n",
       " u'is:72053d1c-bc76-42d2-b951-57565ef8d9c3',\n",
       " u'is:72af45f0-abd5-48b5-853b-ad71af9a8393',\n",
       " u'is:7319f85e-28d8-44f9-b4ed-7e19d098a4e6',\n",
       " u'is:73527d5f-f1f4-4a6d-86ff-ba291a55ecec',\n",
       " u'is:73a7dad7-0664-4c1c-87b0-562fefa8780d',\n",
       " u'is:750339bd-f92b-405f-8f5f-69078347140c',\n",
       " u'is:754b0de0-604d-4e6e-9e7f-98309b7d5b41',\n",
       " u'is:75756437-785b-43a6-87da-3c49c32a8f43',\n",
       " u'is:758c0f85-b0e7-421d-bace-d74ba9d07a2d',\n",
       " u'is:75a37b26-f78b-4670-acdc-b9f2603fa11f',\n",
       " u'is:7790d658-738e-4310-9b1d-3c88519ecb39',\n",
       " u'is:7819a024-24d3-4ca5-b8c3-2fdb1b64de84',\n",
       " u'is:792d84ed-a96e-4e04-9868-b06d8be04923',\n",
       " u'is:79a3642e-9391-4764-91df-571adc7401c7',\n",
       " u'is:79c9798f-b825-4cfe-baae-276ed0d85a6f',\n",
       " u'is:7a444d51-1b60-4713-8426-c557a976eadd',\n",
       " u'is:7bcb5678-fb4d-4ef2-9443-55d68dd689d7',\n",
       " u'is:7bdcf3a7-dd2c-4e40-9551-30b728e1a15b',\n",
       " u'is:7c75654a-d022-4ec2-88fd-ec89f8491539',\n",
       " u'is:7d549f40-4cb7-44f6-9ff0-528f7a8d1512',\n",
       " u'is:7e90b66d-85e4-48d7-8691-f6104cedd7fc',\n",
       " u'is:7ee06bac-7390-4f04-bafc-4c0d042af9b6',\n",
       " u'is:7f8bd721-855f-443a-ab2e-685a5050c219',\n",
       " u'is:7fd3f930-6bc9-47f7-9c76-5cdf5784ca20',\n",
       " u'is:80a771f2-0f0d-4152-8edc-738b4fbd856a',\n",
       " u'is:8148aa56-22d8-4b00-9f0c-3459dca95411',\n",
       " u'is:820ce571-305e-4005-b958-fcb45528e9f8',\n",
       " u'is:82771b86-961c-4202-834d-75d9343dd780',\n",
       " u'is:8371885c-72cb-4eb0-91ca-61bbfd10d5d0',\n",
       " u'is:8422c68e-6a04-4b34-8852-bd78772f55c7',\n",
       " u'is:84609d5a-ba9e-4ace-97f7-5a22f357ce3d',\n",
       " u'is:84d701e0-bd2f-4beb-ac27-057415e58401',\n",
       " u'is:86122c81-3a0b-4f8a-b4ab-a76786d2be3d',\n",
       " u'is:861c4759-1d6b-4296-98d7-6e4aea6dc0ef',\n",
       " u'is:863087f6-1c94-41e8-8e9b-3487f9c2fca2',\n",
       " u'is:883e0d82-9dea-425b-a756-49f07a38e85c',\n",
       " u'is:88f64882-1f3b-46e7-a863-c98345973318',\n",
       " u'is:891615cd-200d-4818-8366-61bcb8d8ab05',\n",
       " u'is:89b769c7-34e4-4660-961c-f6506dba0807',\n",
       " u'is:89d0588e-6f9b-4f58-8e0b-275162a4eac3',\n",
       " u'is:8a1875fc-ea6d-411d-b174-2c09cde7a097',\n",
       " u'is:8a854354-9ebe-4c27-9ed0-5cac39f59806',\n",
       " u'is:8aa63d83-a28b-47f6-98c9-84e83efa0ef6',\n",
       " u'is:8b20602f-c213-4e70-805b-73805800d769',\n",
       " u'is:8b238dc1-a4f7-4fe0-afc3-244943c765ea',\n",
       " u'is:8b8887c9-ab22-482e-b7e4-cc7f47c2ad97',\n",
       " u'is:8bdc02ae-a5ea-424a-8515-a6b83eee6d9a',\n",
       " u'is:8bf9da41-a22d-4a6f-9f22-796259b147fe',\n",
       " u'is:8bfc324d-c62f-4cf8-9598-38a085acb8d2',\n",
       " u'is:8d9c8c14-0bda-41dc-8163-78eb4eb45625',\n",
       " u'is:8ea159eb-be50-4bab-bf8a-e3264f4b12ee',\n",
       " u'is:8f849647-37a7-424e-9388-4382db3ad7e6',\n",
       " u'is:920d9e3a-af50-4295-ad06-0bf99e0249bc',\n",
       " u'is:922b8713-28b1-4803-94a9-2b8d46d48556',\n",
       " u'is:936658d0-5b5f-4c2a-857d-fc4d3000ff50',\n",
       " u'is:940e2cbb-d19d-49d2-b877-c0b7319d905b',\n",
       " u'is:94ff307c-52be-459f-8400-8aa928eea0af',\n",
       " u'is:95708bfa-56af-4d10-a2f4-386f8267b0df',\n",
       " u'is:969bfff4-dd11-4d17-93e6-82bd9659c5b1',\n",
       " u'is:9898d2a2-7ce9-424d-8449-cebbb6341699',\n",
       " u'is:991a7ff3-e9e7-4f6b-9e42-9841f02faf69',\n",
       " u'is:99aa8e95-12e3-4627-8de1-b378e9f38e11',\n",
       " u'is:9b2dea7f-1217-4179-b053-5f7709e8e8a5',\n",
       " u'is:9c2f51a9-865a-45e3-a5c8-1afa9c04b602',\n",
       " u'is:9c3429ea-0d69-4beb-a620-50baec49cc7c',\n",
       " u'is:9c447b62-adb1-46c7-8496-936962750654',\n",
       " u'is:9cdef896-76ac-40ef-8c53-ddd0d1fd9bd1',\n",
       " u'is:9e3129ca-634a-4dbc-93b2-aa7ebe9e5450',\n",
       " u'is:9f41bbd6-1bfd-44c3-801c-253ba1e98432',\n",
       " u'is:9ff67465-787c-4602-a3a4-0f6e0514c4e6',\n",
       " u'is:a08e4248-9e0d-4935-94b5-d91f48404c1e',\n",
       " u'is:a0b9e434-13a0-4266-a6a6-6aa49da43612',\n",
       " u'is:a1ce27ef-2f5d-4a2f-96ce-83bceb9e11ce',\n",
       " u'is:a1fe4f84-2ca2-43f8-9624-5710cba7a22a',\n",
       " u'is:a2d618cb-7b49-417e-ad40-a168a9e2f146',\n",
       " u'is:a521b192-6379-4be8-8cc5-3944c4b8b088',\n",
       " u'is:a5712e19-9d05-41c0-95c6-d20660e6ed5b',\n",
       " u'is:a59bfa7c-f282-46da-b977-53136e33f1ef',\n",
       " u'is:a6e1f416-8979-4148-9381-ba53c89e1715',\n",
       " u'is:a78da002-0922-441a-802a-18a26c9e0b6a',\n",
       " u'is:a7d2f4a2-5026-428c-83ab-ade3495b85cb',\n",
       " u'is:a82954ba-0ce8-4a6a-863e-dafda728fac6',\n",
       " u'is:a8635621-638e-4ef6-bb00-f382b0a6f3aa',\n",
       " u'is:a8a65416-3d9c-436c-9960-e9c4178ba8a3',\n",
       " u'is:a8da8e51-ba09-4466-91d2-031c45d2da29',\n",
       " u'is:a8da9325-e836-414d-9f67-e90514decd14',\n",
       " u'is:a96234a7-5669-409f-b502-de4cd422d02b',\n",
       " u'is:a98f672c-f38a-4dc0-963b-3c7250624eb4',\n",
       " u'is:a9a37fa2-424c-4e3e-abb1-ba2fecadadf0',\n",
       " u'is:a9c6bc77-52a7-4ee0-88ca-a2486516bed5',\n",
       " u'is:aa648cfa-5e59-4fb4-aa14-8bf71abb0d4a',\n",
       " u'is:aa83eb14-a65f-47de-a479-dadbabd55aa1',\n",
       " u'is:aacbf1f3-3690-4ce6-83bf-616fa94ec0eb',\n",
       " u'is:ab4c5dc5-001d-410b-82ce-36e9ba6e9a10',\n",
       " u'is:ab63a6a6-8393-4a3f-a0ff-b5e26f105859',\n",
       " u'is:ab6965ec-322c-4238-8963-136db68882cb',\n",
       " u'is:abe81205-04f6-40c5-8693-fc54a3bfa077',\n",
       " u'is:ad109053-090f-4bea-9831-def4ba10ef2a',\n",
       " u'is:ae25acb9-0bec-4c85-99d8-e02129895c85',\n",
       " u'is:af26e25b-8860-470f-ac2d-9b9205073dc4',\n",
       " u'is:b01d7436-8567-49d4-9dd0-6474b5053ce7',\n",
       " u'is:b0c477d3-94c1-47e2-9393-1251c6229596',\n",
       " u'is:b18b4d53-6bb9-43ed-b9dc-b47a18ab9bb1',\n",
       " u'is:b2fc00c0-0feb-4bf8-a706-28f354c33d4f',\n",
       " u'is:b302aa45-3cd6-455c-918c-ef139706403b',\n",
       " u'is:b4310bcf-bd96-4746-988f-367e646a0d70',\n",
       " u'is:b5a99363-e7e1-4202-b1bc-9eb35c612ef9',\n",
       " u'is:b5f25c5e-263c-48e9-ad6f-03b483239b6b',\n",
       " u'is:b7af66b0-dd58-4821-a8bc-70ee279725d2',\n",
       " u'is:b9064c88-f676-4a48-a44a-1c68f40cffb4',\n",
       " u'is:b94f67b2-bf31-4649-9d5e-7bf2e8d0e14a',\n",
       " u'is:b97e3fc9-726a-48e0-b370-2f36c9943f31',\n",
       " u'is:ba3096d9-7694-4254-8971-1cd98e448c43',\n",
       " u'is:bbadcf16-5337-46f0-b576-5c299acc6216',\n",
       " u'is:bd4c8db3-0dab-4733-9dd5-3b9d8c11be09',\n",
       " u'is:bd69d7c4-0431-4538-8e99-16f186d43c0b',\n",
       " u'is:be1f0e21-a92e-45bf-9b4d-319165d21630',\n",
       " u'is:be21b209-1c0d-4064-ba6f-9d4bcad08e02',\n",
       " u'is:be9fbbe9-67c6-4407-aef7-c82cfed37cb4',\n",
       " u'is:bedd200a-7a51-4e14-b563-3ad85ed2970b',\n",
       " u'is:bfb310e9-26c7-48e3-95a2-6bf48e6a1804',\n",
       " u'is:bfd339d6-a8ff-42c2-b235-60d938d922db',\n",
       " u'is:c03cb940-a2a8-49c7-af63-51d4c9c366e9',\n",
       " u'is:c07dd485-abcb-4651-bc92-117214fbe579',\n",
       " u'is:c0c6d337-a32c-4b39-ad8d-08269e58a33e',\n",
       " u'is:c0d2d46e-d7e5-4e72-a896-f0910f1e1f9e',\n",
       " u'is:c0f21855-abdc-4277-97dd-519c9775ba8a',\n",
       " u'is:c27828f6-a2c4-45ff-a54e-1aeea0fda29d',\n",
       " u'is:c366a15e-8792-4682-b429-0216f5b0fc8e',\n",
       " u'is:c562f8de-c32e-475c-99b6-3a0d741d1f42',\n",
       " u'is:c758b4c2-54b2-4509-aaa7-5a833e772255',\n",
       " u'is:c894b880-0365-4960-88da-0b6b365d6b62',\n",
       " u'is:cd4b2b9b-e6ed-41b7-bc0a-370664a45935',\n",
       " u'is:cd8b1589-dea2-42b8-9f88-7978f2cd9b61',\n",
       " u'is:d035743d-1215-4a15-81b3-811624389bbe',\n",
       " u'is:d14ff8c6-6f06-4077-9018-ff250da56454',\n",
       " u'is:d294c6dd-502d-43d5-8130-01f929c420f3',\n",
       " u'is:d2b53ffe-a9d6-49a9-9f84-4af57377f73f',\n",
       " u'is:d319e80e-dce4-4b3f-8475-6e3e9320134d',\n",
       " u'is:d35a1c3f-c03c-415e-accf-a4dea92113b6',\n",
       " u'is:d37537af-4874-4d31-b7a3-65905922ec68',\n",
       " u'is:d426a314-e1a9-40bc-9b63-e4bb7bc8154b',\n",
       " u'is:d4cc3273-c239-4568-b9c8-b83b6ce50052',\n",
       " u'is:d691076f-72c5-4eeb-ba6e-ad9abdb6610e',\n",
       " u'is:db5b986a-73bb-4dee-bfac-394cc807c94f',\n",
       " u'is:dc069ec1-44ad-4ac2-8639-5453823b16ec',\n",
       " u'is:dc53cf1c-9ecd-45fe-8ac7-2e6293455c86',\n",
       " u'is:dc8020ad-b518-4905-99b5-5a71c78d4210',\n",
       " u'is:dd0c8e86-cb88-499f-abd2-db297bf15ae9',\n",
       " u'is:dd169616-1c40-4031-89f4-b3880827a0dd',\n",
       " u'is:dd92639a-6a21-495a-8f98-47260fcb6cd2',\n",
       " u'is:deb7d03e-c08d-4c74-85df-72f69ee15c09',\n",
       " u'is:df67f8f8-d28c-43f8-abdc-20f136e7947c',\n",
       " u'is:dfb52e8b-2860-4c34-9588-41b53f846939',\n",
       " u'is:e010c396-5c7e-4c95-9187-c535a500fb9e',\n",
       " u'is:e040f3da-8acb-428c-bb8e-0e2a7a599204',\n",
       " u'is:e19b8cf0-237e-4be2-8bfa-84c87376ae80',\n",
       " u'is:e28593be-3a5e-47b1-9558-0b3c8e3bc4d3',\n",
       " u'is:e2b976c4-44c2-4bae-aba1-ed96a3b59f38',\n",
       " u'is:e32b131a-9cb3-41ef-b697-6fa38448f822',\n",
       " u'is:e38d3c3b-20e9-495e-8602-cd4a8aa4bb0c',\n",
       " u'is:e444b555-eb7c-49e6-9289-0336559a6b8c',\n",
       " u'is:e46420ff-0f26-4a1b-aad7-5252259802b3',\n",
       " u'is:e4726b9f-523a-4d04-959f-074851b14b00',\n",
       " u'is:e4932a29-f40c-4e1e-ae58-b935db271827',\n",
       " u'is:e4c80800-31b0-4c7a-85dc-c438582e64a3',\n",
       " u'is:e4ca9bcc-b2b0-4e47-9cf1-63b98ea5ba74',\n",
       " u'is:e59a5aa6-0883-4fd3-b9d8-92af544afc9c',\n",
       " u'is:e5d525f7-eb2e-4d3c-a08f-c5cceafc97c4',\n",
       " u'is:e8761890-a3fe-4860-b56f-55eeb774a57a',\n",
       " u'is:e9001f69-7568-4ba1-b271-24fe69d52845',\n",
       " u'is:e91a353f-bf29-434f-aaf8-7bfe765f890d',\n",
       " u'is:e926ad18-5a9b-45d5-b227-425c1443e629',\n",
       " u'is:e980a5b2-1a8f-4100-9d00-bdaa7062a0a3',\n",
       " u'is:ebd1ae3b-b6e8-4840-88d2-b7d296420567',\n",
       " u'is:ee768fdd-106a-4416-b837-b82d2b1432df',\n",
       " u'is:ef3dbfb6-3b1a-4924-86ad-b1308609304e',\n",
       " u'is:ef423263-c049-45f0-b000-769fe1fffcfe',\n",
       " u'is:f143c95c-3ad4-463d-9ed2-fac33c677f1a',\n",
       " u'is:f17be44b-b17a-4745-af19-630ddd4f5c4a',\n",
       " u'is:f1b3e2b1-db52-4b7d-810f-13f90e299f79',\n",
       " u'is:f28b67ae-f8bf-4ad9-a5ef-9af4a74af574',\n",
       " u'is:f3ea9748-63b7-410d-9455-15402fe6a762',\n",
       " u'is:f5034c1a-d3ad-4717-b483-8b897ebcc08b',\n",
       " u'is:f76cc6df-d780-4318-8eb1-60ea89713fa0',\n",
       " u'is:f7d5d594-218b-4b9c-ae23-bc4f6d133a94',\n",
       " u'is:f7fd49f5-7111-4b02-bb7b-d26cfa0bdf59',\n",
       " u'is:f8f1450a-2249-41f4-9ac5-62e543988f72',\n",
       " u'is:f965dfe5-c474-477a-890c-2ce98b18387d',\n",
       " u'is:f96fa92f-060c-4e25-9b59-f8a5bc6aad0b',\n",
       " u'is:f9f311b7-437d-452b-b9bc-2702b96bf9b9',\n",
       " u'is:fb69e84f-1ddc-4ebc-882b-a38ac79bb3da',\n",
       " u'is:fb800936-f91f-4869-9323-cda2bd3f434a',\n",
       " u'is:fcfd1110-3c91-49c6-9da9-d396f426875f',\n",
       " u'is:fd701ede-6186-400d-bab7-41d4b17a2145',\n",
       " u'is:ff7bbc8c-fe2f-4b2a-b3c6-11801ff7c28a'}"
      ]
     },
     "execution_count": 12,
     "metadata": {},
     "output_type": "execute_result"
    }
   ],
   "source": [
    "# Let's check out the possibilities for an \"activity.\"\n",
    "activity_fields_keys = set()\n",
    "for fields in fields_field_by_type[\"activity\"]:\n",
    "    activity_fields_keys |= set(fields.keys())\n",
    "activity_fields_keys"
   ]
  },
  {
   "cell_type": "code",
   "execution_count": 13,
   "metadata": {
    "collapsed": true
   },
   "outputs": [],
   "source": [
    "# OK, each \"@fields\" value for an acitivity appears to be a single K-V pair mapping (object).\n",
    "# Let's check that hypothesis.\n",
    "assert all([1 == len(fields_object) for fields_object in fields_field_by_type[\"activity\"]])"
   ]
  },
  {
   "cell_type": "code",
   "execution_count": 14,
   "metadata": {
    "collapsed": false
   },
   "outputs": [
    {
     "data": {
      "text/plain": [
       "{u'unk:args',\n",
       " u'unk:command',\n",
       " u'unk:date',\n",
       " u'unk:group_id',\n",
       " u'unk:hostname',\n",
       " u'unk:interpreter',\n",
       " u'unk:platform',\n",
       " u'unk:process_id',\n",
       " u'unk:sge_job_id'}"
      ]
     },
     "execution_count": 14,
     "metadata": {},
     "output_type": "execute_result"
    }
   ],
   "source": [
    "# OK, let's investigate the values.\n",
    "activity_fields_object_values_keys = set()\n",
    "for instance in fields_field_by_type[\"activity\"]:\n",
    "    for kv_pairs in instance.values():\n",
    "        activity_fields_object_values_keys |= set(kv_pairs.keys())\n",
    "activity_fields_object_values_keys"
   ]
  },
  {
   "cell_type": "code",
   "execution_count": 15,
   "metadata": {
    "collapsed": false
   },
   "outputs": [
    {
     "data": {
      "text/plain": [
       "[u'wasAssociatedWith',\n",
       " u'hadMember',\n",
       " u'used',\n",
       " u'agent',\n",
       " u'entity',\n",
       " u'prefix',\n",
       " u'activity',\n",
       " u'wasInfluencedBy',\n",
       " u'wasGeneratedBy']"
      ]
     },
     "execution_count": 15,
     "metadata": {},
     "output_type": "execute_result"
    }
   ],
   "source": [
    "# Cool! It appears that each \"@fields\" instance is an object with uniform schema.\n",
    "# Let's look back at the space of document types to bifurcate the document types\n",
    "# as either relationship (edge) type or node type.\n",
    "logs_by_type.keys()"
   ]
  },
  {
   "cell_type": "code",
   "execution_count": 16,
   "metadata": {
    "collapsed": false
   },
   "outputs": [
    {
     "data": {
      "text/plain": [
       "2506"
      ]
     },
     "execution_count": 16,
     "metadata": {},
     "output_type": "execute_result"
    }
   ],
   "source": [
    "# What is going on with \"prefix?\"\n",
    "len(logs_by_type[\"prefix\"])"
   ]
  },
  {
   "cell_type": "code",
   "execution_count": 17,
   "metadata": {
    "collapsed": false
   },
   "outputs": [
    {
     "data": {
      "text/plain": [
       "358"
      ]
     },
     "execution_count": 17,
     "metadata": {},
     "output_type": "execute_result"
    }
   ],
   "source": [
    "len({log[\"document\"] for log in logs_by_type[\"prefix\"]})"
   ]
  },
  {
   "cell_type": "code",
   "execution_count": 18,
   "metadata": {
    "collapsed": false
   },
   "outputs": [
    {
     "data": {
      "text/plain": [
       "7103"
      ]
     },
     "execution_count": 18,
     "metadata": {},
     "output_type": "execute_result"
    }
   ],
   "source": [
    "len(logs)"
   ]
  },
  {
   "cell_type": "code",
   "execution_count": 19,
   "metadata": {
    "collapsed": false
   },
   "outputs": [
    {
     "data": {
      "text/plain": [
       "361"
      ]
     },
     "execution_count": 19,
     "metadata": {},
     "output_type": "execute_result"
    }
   ],
   "source": [
    "# Hmm, how many document tags are there within the collection of logs?\n",
    "unique_document_ids = {log[\"document\"] for log in logs}\n",
    "len(unique_document_ids)"
   ]
  },
  {
   "cell_type": "code",
   "execution_count": 20,
   "metadata": {
    "collapsed": false
   },
   "outputs": [
    {
     "data": {
      "text/plain": [
       "358"
      ]
     },
     "execution_count": 20,
     "metadata": {},
     "output_type": "execute_result"
    }
   ],
   "source": [
    "# How many prefixes are there?\n",
    "len(logs_by_type[\"activity\"])"
   ]
  },
  {
   "cell_type": "code",
   "execution_count": 21,
   "metadata": {
    "collapsed": false
   },
   "outputs": [
    {
     "data": {
      "text/plain": [
       "361"
      ]
     },
     "execution_count": 21,
     "metadata": {},
     "output_type": "execute_result"
    }
   ],
   "source": [
    "# What agents are out there?\n",
    "len(logs_by_type[\"agent\"])"
   ]
  },
  {
   "cell_type": "code",
   "execution_count": 22,
   "metadata": {
    "collapsed": false
   },
   "outputs": [
    {
     "data": {
      "text/plain": [
       "[{u'@fields': {u'people:vr24': {u'unk:fullname': u'Vincent Reuter',\n",
       "    u'unk:homedir': u'/Users/vr24'}},\n",
       "  u'@message': u'create_file3',\n",
       "  u'@source_host': u'withme',\n",
       "  u'@timestamp': u'2016-11-06T10:45:51.927Z',\n",
       "  u'@version': 1,\n",
       "  u'document': u'is:0a16324a-0017-47e9-a727-199d1f3e0fce',\n",
       "  u'host': u'127.0.0.1',\n",
       "  u'instance': u'people:vr24',\n",
       "  u'port': 56339,\n",
       "  u'prov': u'agent'},\n",
       " {u'@fields': {u'people:vr24': {u'unk:fullname': u'Vincent Reuter',\n",
       "    u'unk:homedir': u'/Users/vr24'}},\n",
       "  u'@message': u'create_file3',\n",
       "  u'@source_host': u'withme',\n",
       "  u'@timestamp': u'2016-11-06T10:45:52.471Z',\n",
       "  u'@version': 1,\n",
       "  u'document': u'is:5a4e5132-cf82-4bb1-99b6-d4a673391512',\n",
       "  u'host': u'127.0.0.1',\n",
       "  u'instance': u'people:vr24',\n",
       "  u'port': 56340,\n",
       "  u'prov': u'agent'},\n",
       " {u'@fields': {u'people:vr24': {u'unk:fullname': u'Vincent Reuter',\n",
       "    u'unk:homedir': u'/Users/vr24'}},\n",
       "  u'@message': u'create_file3',\n",
       "  u'@source_host': u'withme',\n",
       "  u'@timestamp': u'2016-11-06T10:45:53.581Z',\n",
       "  u'@version': 1,\n",
       "  u'document': u'is:10924aca-9781-4b51-8dd6-25a2344e2bcc',\n",
       "  u'host': u'127.0.0.1',\n",
       "  u'instance': u'people:vr24',\n",
       "  u'port': 56341,\n",
       "  u'prov': u'agent'}]"
      ]
     },
     "execution_count": 22,
     "metadata": {},
     "output_type": "execute_result"
    }
   ],
   "source": [
    "# What defines an agent?\n",
    "log_trio_by_type[\"agent\"]"
   ]
  },
  {
   "cell_type": "code",
   "execution_count": 23,
   "metadata": {
    "collapsed": false
   },
   "outputs": [
    {
     "data": {
      "text/plain": [
       "{1}"
      ]
     },
     "execution_count": 23,
     "metadata": {},
     "output_type": "execute_result"
    }
   ],
   "source": [
    "# Is an agent defined by its fields?\n",
    "agent_fields_lengths = {len(log[\"@fields\"]) for log in logs_by_type[\"agent\"]}\n",
    "agent_fields_lengths"
   ]
  },
  {
   "cell_type": "code",
   "execution_count": 24,
   "metadata": {
    "collapsed": true
   },
   "outputs": [],
   "source": [
    "# OK, let's assume that an agent is defined by its fields.\n",
    "# An agent also seems to be keyed on 'instance' (e.g., \"people:vr24\")\n",
    "# The fields is then a single-object key-value pair mapping, with key matching 'instance', \n",
    "# e.g. {\"people:vr24\": {\"unk:fullname\": \"Vincent Reuter\", \"unk:homedir\": \"/Users/vr24\"}}"
   ]
  },
  {
   "cell_type": "code",
   "execution_count": 25,
   "metadata": {
    "collapsed": false
   },
   "outputs": [
    {
     "data": {
      "text/plain": [
       "9"
      ]
     },
     "execution_count": 25,
     "metadata": {},
     "output_type": "execute_result"
    }
   ],
   "source": [
    "len(logs_by_type)"
   ]
  },
  {
   "cell_type": "code",
   "execution_count": 26,
   "metadata": {
    "collapsed": true
   },
   "outputs": [],
   "source": [
    "# Let's look at the other nodes, specifically, \"activity\" and \"entity.\""
   ]
  },
  {
   "cell_type": "code",
   "execution_count": 27,
   "metadata": {
    "collapsed": false
   },
   "outputs": [
    {
     "data": {
      "text/plain": [
       "[{u'@fields': {u'is:0a16324a-0017-47e9-a727-199d1f3e0fce': {u'unk:args': u'--child calculate_pafs --tag first_history_test0',\n",
       "    u'unk:command': u'/Users/vr24/virtualenvs/general_personal_dev_env/bin/python',\n",
       "    u'unk:date': u'2016-11-06T02:45:51-08:00',\n",
       "    u'unk:group_id': {u'$': 42057, u'type': u'xsd:int'},\n",
       "    u'unk:hostname': u'Gladstone.domain',\n",
       "    u'unk:interpreter': u'2.7.10 (default, Oct 23 2015, 19:19:21) ',\n",
       "    u'unk:platform': u'Darwin-15.5.0-x86_64-i386-64bit',\n",
       "    u'unk:process_id': {u'$': 42064, u'type': u'xsd:int'},\n",
       "    u'unk:sge_job_id': u'100'}},\n",
       "  u'@message': u'create_file3',\n",
       "  u'@source_host': u'withme',\n",
       "  u'@timestamp': u'2016-11-06T10:45:51.928Z',\n",
       "  u'@version': 1,\n",
       "  u'document': u'is:0a16324a-0017-47e9-a727-199d1f3e0fce',\n",
       "  u'host': u'127.0.0.1',\n",
       "  u'instance': u'is:0a16324a-0017-47e9-a727-199d1f3e0fce',\n",
       "  u'port': 56339,\n",
       "  u'prov': u'activity'},\n",
       " {u'@fields': {u'is:5a4e5132-cf82-4bb1-99b6-d4a673391512': {u'unk:args': u'--child calculate_pafs --tag first_history_test0',\n",
       "    u'unk:command': u'/Users/vr24/virtualenvs/general_personal_dev_env/bin/python',\n",
       "    u'unk:date': u'2016-11-06T02:45:52-08:00',\n",
       "    u'unk:group_id': {u'$': 42057, u'type': u'xsd:int'},\n",
       "    u'unk:hostname': u'Gladstone.domain',\n",
       "    u'unk:interpreter': u'2.7.10 (default, Oct 23 2015, 19:19:21) ',\n",
       "    u'unk:platform': u'Darwin-15.5.0-x86_64-i386-64bit',\n",
       "    u'unk:process_id': {u'$': 42070, u'type': u'xsd:int'},\n",
       "    u'unk:sge_job_id': u'101'}},\n",
       "  u'@message': u'create_file3',\n",
       "  u'@source_host': u'withme',\n",
       "  u'@timestamp': u'2016-11-06T10:45:52.474Z',\n",
       "  u'@version': 1,\n",
       "  u'document': u'is:5a4e5132-cf82-4bb1-99b6-d4a673391512',\n",
       "  u'host': u'127.0.0.1',\n",
       "  u'instance': u'is:5a4e5132-cf82-4bb1-99b6-d4a673391512',\n",
       "  u'port': 56340,\n",
       "  u'prov': u'activity'},\n",
       " {u'@fields': {u'is:10924aca-9781-4b51-8dd6-25a2344e2bcc': {u'unk:args': u'--child calculate_pafs --tag first_history_test0',\n",
       "    u'unk:command': u'/Users/vr24/virtualenvs/general_personal_dev_env/bin/python',\n",
       "    u'unk:date': u'2016-11-06T02:45:52-08:00',\n",
       "    u'unk:group_id': {u'$': 42057, u'type': u'xsd:int'},\n",
       "    u'unk:hostname': u'Gladstone.domain',\n",
       "    u'unk:interpreter': u'2.7.10 (default, Oct 23 2015, 19:19:21) ',\n",
       "    u'unk:platform': u'Darwin-15.5.0-x86_64-i386-64bit',\n",
       "    u'unk:process_id': {u'$': 42076, u'type': u'xsd:int'},\n",
       "    u'unk:sge_job_id': u'102'}},\n",
       "  u'@message': u'create_file3',\n",
       "  u'@source_host': u'withme',\n",
       "  u'@timestamp': u'2016-11-06T10:45:53.583Z',\n",
       "  u'@version': 1,\n",
       "  u'document': u'is:10924aca-9781-4b51-8dd6-25a2344e2bcc',\n",
       "  u'host': u'127.0.0.1',\n",
       "  u'instance': u'is:10924aca-9781-4b51-8dd6-25a2344e2bcc',\n",
       "  u'port': 56341,\n",
       "  u'prov': u'activity'}]"
      ]
     },
     "execution_count": 27,
     "metadata": {},
     "output_type": "execute_result"
    }
   ],
   "source": [
    "log_trio_by_type[\"activity\"]"
   ]
  },
  {
   "cell_type": "code",
   "execution_count": 28,
   "metadata": {
    "collapsed": false
   },
   "outputs": [
    {
     "data": {
      "text/plain": [
       "358"
      ]
     },
     "execution_count": 28,
     "metadata": {},
     "output_type": "execute_result"
    }
   ],
   "source": [
    "# For activities, what does the instance space look like?\n",
    "activity_instances = {log[\"instance\"] for log in logs_by_type[\"activity\"]}\n",
    "len(activity_instances)"
   ]
  },
  {
   "cell_type": "code",
   "execution_count": 29,
   "metadata": {
    "collapsed": false
   },
   "outputs": [
    {
     "data": {
      "text/plain": [
       "{u'is:00129b99-6eea-4b4d-9b61-8c6153c41b5d',\n",
       " u'is:005dde4e-5d43-4d5a-b761-4a336a03a0f2',\n",
       " u'is:00a2325e-95a0-4bb8-a14b-5f133a0f1608',\n",
       " u'is:00e6a7e2-5cd6-418b-b4de-d77e321d8e9c',\n",
       " u'is:0284f0ad-5357-4273-9c1f-0e2462581d4d',\n",
       " u'is:0416b8ba-89a3-4aad-ac51-9dcaa54dfb72',\n",
       " u'is:061806c9-32e1-44d1-aeaf-73aa90aa03ef',\n",
       " u'is:0629bae4-689b-44e6-be78-01ca5140ad08',\n",
       " u'is:076da3c1-8c6e-4038-afc5-fed7550c2587',\n",
       " u'is:07bb8d38-966d-4de2-a038-40e13ce4f0cc',\n",
       " u'is:07c2b9f3-e318-4344-9d61-7c47fcfd4cca',\n",
       " u'is:08be2178-0314-425e-8d3c-1ee510c5f93e',\n",
       " u'is:08ebd293-b123-46c2-91ed-4ad5384b94c4',\n",
       " u'is:0a16324a-0017-47e9-a727-199d1f3e0fce',\n",
       " u'is:0aefb9f0-c849-4bf6-b519-4d2dbcd92fd7',\n",
       " u'is:0bf11b61-d464-4621-a1ea-3c5704142255',\n",
       " u'is:0c135172-dd66-4a53-9d7d-332a376d8c38',\n",
       " u'is:0c3f93a9-9927-41b5-90b3-6c84dfa38adb',\n",
       " u'is:0cc6b959-1950-4b4b-9387-215fdf711d40',\n",
       " u'is:0cce5da9-f531-4717-9e1a-1ba0af3e8105',\n",
       " u'is:0d153790-4efd-4ac9-8ed4-ffbf3becb140',\n",
       " u'is:0da325e9-e56e-4003-b888-6db11eef436a',\n",
       " u'is:0ef59727-32f8-4d2b-8af0-4ed3d042cce5',\n",
       " u'is:0f63ea95-8d23-4790-83ba-ccd20def395f',\n",
       " u'is:1035f82c-8d93-4afd-ac67-e73f319a28ed',\n",
       " u'is:10924aca-9781-4b51-8dd6-25a2344e2bcc',\n",
       " u'is:10b355b4-2d09-45f4-9537-5f5786487b05',\n",
       " u'is:1186bd6a-956a-4848-8f3a-41b14263e5d1',\n",
       " u'is:14327e63-66fd-4fbf-b522-9fec93a65dc2',\n",
       " u'is:1551f206-ca49-4fda-ad3e-7a1bcd858641',\n",
       " u'is:160836a1-682d-4f5b-bf86-87fef2a8c44f',\n",
       " u'is:167afa44-39f6-4a9c-b9e3-f36845826af0',\n",
       " u'is:17afc91b-542a-4b31-90d1-533b38239809',\n",
       " u'is:180c4c18-9057-40a3-8f21-da089427905d',\n",
       " u'is:1852609c-ec26-4209-a2fd-165668863abb',\n",
       " u'is:18656e84-4dd1-44b0-a55e-0c37cc4132de',\n",
       " u'is:187a59f8-79fd-4245-94d2-ba255c2a76df',\n",
       " u'is:18ebc7b0-0311-468c-8445-7a19bd263423',\n",
       " u'is:1aa802b1-e8e9-4550-882f-6e9d98c50833',\n",
       " u'is:1ca7c6ae-84a7-46db-bef2-67d39247990a',\n",
       " u'is:1cf2083d-be3a-4c89-bfbd-d86ea952b2a3',\n",
       " u'is:1e0394a7-2eb3-477c-8d24-ecaadfdeb461',\n",
       " u'is:1e60f8bc-9657-4d12-9419-f0cec8b947cd',\n",
       " u'is:1f79d8ab-dba3-4653-9d0d-0c993dde1a6d',\n",
       " u'is:1f84186a-9e89-480c-8298-b2febce7b6c4',\n",
       " u'is:21d25c66-f325-48cf-bc63-ea8704c8a3d2',\n",
       " u'is:21dea295-d12d-49c8-b478-cd2692e69723',\n",
       " u'is:21e652b2-6d1b-4bb6-8fb9-35e64fd22677',\n",
       " u'is:2241bde8-a05d-47af-8188-ed423d61686e',\n",
       " u'is:22c7e7b1-9bc1-423d-8885-df2df20e8a7c',\n",
       " u'is:23fc7cb0-2ee9-4ea5-8cae-39bf11c318ba',\n",
       " u'is:247eb880-71d0-4d19-9f1d-79f82fd6db87',\n",
       " u'is:2480f55c-746e-4bab-b46e-c5b8dd937192',\n",
       " u'is:253ea941-eff3-4a8f-81c7-752cedc8c998',\n",
       " u'is:25ca41c3-a9a4-40f9-a9a1-02ebf4c94c9e',\n",
       " u'is:2634f0bf-5b56-4ba8-9316-41a6f8986ad8',\n",
       " u'is:264714ed-f4f6-4467-8c26-cb3d86937153',\n",
       " u'is:266b13f7-c1bd-48cb-bdaf-422aab33bd53',\n",
       " u'is:26c1ef8e-bbf1-45a1-9cb4-13a89697f611',\n",
       " u'is:26d2b1dc-ac77-41d6-8acf-5d33f979980a',\n",
       " u'is:27a3c094-9bb2-4a6e-a243-4fc9753ae84e',\n",
       " u'is:2814d45f-44ce-449b-8400-93b1c0c10230',\n",
       " u'is:28c5bbcc-c845-49ba-b94d-09d887d8b165',\n",
       " u'is:295d963b-8e09-400b-a250-414d7cabdd10',\n",
       " u'is:2a64195e-1aa7-4738-a0ea-f524d6c1cc8e',\n",
       " u'is:2b6854f1-ba87-4311-b9da-76fe28469faf',\n",
       " u'is:2bb748f3-757a-4342-91c8-e172847978ed',\n",
       " u'is:2c559a82-a1ae-4d27-8e66-ce7ffb320407',\n",
       " u'is:2c57ca16-7e36-4c08-bb5e-0aa66f023aae',\n",
       " u'is:2c775a8f-ff97-4cf0-8fa5-4227fb5dd3f8',\n",
       " u'is:2cc2f27b-42db-4705-8d52-f3de4615bde3',\n",
       " u'is:2ce89580-685a-437d-9d36-3930009a9185',\n",
       " u'is:2cea244c-e8c1-45fa-a3c5-5f74a3fb6ac8',\n",
       " u'is:2d4e4d08-84d7-4edb-bbfc-a1b4fd2542d8',\n",
       " u'is:2df298a6-7d39-4515-8055-879d6938b108',\n",
       " u'is:2e13e628-4849-4029-9061-6ab6e35d18f6',\n",
       " u'is:2f105431-ddd0-44fa-a748-69c4a3844075',\n",
       " u'is:2f1b2ced-4d09-49b0-9392-6f7983c52ee8',\n",
       " u'is:2f51859d-aaf8-4af9-94df-ca14785d7013',\n",
       " u'is:305340b3-a710-4eba-9a94-9998a36cb6ec',\n",
       " u'is:31180eed-5c62-4ac5-b2b7-2918882b4281',\n",
       " u'is:32b0fb6c-f4d8-469b-aa20-3f5d4a9c0ab0',\n",
       " u'is:32baa512-a5ac-4042-b0be-58ec3f5419d2',\n",
       " u'is:32f2f12f-0b87-47ff-ae36-c72ad6deaa0c',\n",
       " u'is:34b73803-69bf-4df4-8aa5-8c835821ecd2',\n",
       " u'is:35430f4c-d60a-4b2e-8b14-c32185abed2c',\n",
       " u'is:36c84efe-4222-4726-a2ea-98122b1cd9c8',\n",
       " u'is:377f97c2-fdfe-4438-8940-20c31fdc91e1',\n",
       " u'is:38484dfc-37ff-42db-9d1c-35c265d90797',\n",
       " u'is:393ecb52-4321-4d92-9dae-70a1ddcd9cdc',\n",
       " u'is:39515a36-44d0-4098-abab-2d54789a2b35',\n",
       " u'is:3a78ef8f-141a-4172-ae6f-a65923b67f06',\n",
       " u'is:3ab0f02c-2bfb-4d88-ad0c-603bf1d3f108',\n",
       " u'is:3b483474-3708-4565-83a8-6aa17f809c40',\n",
       " u'is:3c82017b-7c81-4b9b-a105-594ff793870a',\n",
       " u'is:3cea1a68-6eb7-4abe-8424-fb81c908a916',\n",
       " u'is:3d1f4970-7298-4ab3-88d0-6e64e1403ba1',\n",
       " u'is:3d476e78-4128-4dae-b4a9-6750b0d2b6a6',\n",
       " u'is:3d960750-12a7-4103-a245-016c5d4b1a64',\n",
       " u'is:3f0e1ce2-1245-4219-b622-5cf7232b03ca',\n",
       " u'is:3f5f00bf-c983-4be8-8bb5-e9cc2ea08755',\n",
       " u'is:3ffb6128-4e4d-417a-b745-f7c23695c6a5',\n",
       " u'is:41a4a644-45b2-4697-b74e-d056fe74271c',\n",
       " u'is:41dd735c-e446-4ff3-aa10-e7b6b94f0516',\n",
       " u'is:4370ab04-aeed-4709-b704-9ed6f5604300',\n",
       " u'is:44dc7615-26e0-4c5b-9958-9f7818a30710',\n",
       " u'is:4540daf0-a4d1-453c-9564-a170d3d888e6',\n",
       " u'is:471cc297-a50e-4a68-929d-79a0b25552eb',\n",
       " u'is:47cd6605-79c9-4b0f-b7ca-67649a6726f4',\n",
       " u'is:49504d1b-a401-4ab2-b231-a50be537b675',\n",
       " u'is:4afa5a04-fee2-401f-a909-452ba2bd1211',\n",
       " u'is:4cdac62a-529f-4ac8-968f-e773b8301c27',\n",
       " u'is:4dbe6c2c-d3f6-4008-93ca-78fa73a2e708',\n",
       " u'is:4dbf9801-16d8-41e6-a778-7e2b57cb7c53',\n",
       " u'is:4dc24a03-fd1b-4ff4-a75c-9d771c632377',\n",
       " u'is:4e9aef8d-643f-41f1-bc84-86b20258637b',\n",
       " u'is:4f320985-308a-4b86-8938-4592d6e5c4fc',\n",
       " u'is:4f6ab023-887d-41b5-b4a5-b3e55581dc53',\n",
       " u'is:502d543e-5a7d-4d11-a7d6-42c425129a68',\n",
       " u'is:50ac8e92-8b00-4e84-98f4-8875fe3d9215',\n",
       " u'is:50d95f1f-912e-4a36-8742-28f8106bb95b',\n",
       " u'is:52e4988d-b7ec-4c3b-9b11-eb70f6f9177a',\n",
       " u'is:544867fe-bea9-4190-a565-309a6b7ed72b',\n",
       " u'is:54a33ea6-a577-4094-ae2e-ae86ebe12654',\n",
       " u'is:54ed739e-e390-4219-9b34-27e8fd17f9ae',\n",
       " u'is:5593dee7-aabd-4a2c-a71c-35c7d8bdee5c',\n",
       " u'is:55e71889-9354-4de3-8d02-a47e2a313d49',\n",
       " u'is:57610e25-2798-42d6-b0c1-364e7b86e044',\n",
       " u'is:576f4a15-4edc-439a-98ad-f4c7b38e9ca4',\n",
       " u'is:589bd0c6-3775-4e52-a22f-76b6dfe56f03',\n",
       " u'is:597a2f04-1bf2-475e-8e6d-f7465b26d0ea',\n",
       " u'is:59d9c827-e935-4f79-a909-c846c51a0ce9',\n",
       " u'is:5a4e5132-cf82-4bb1-99b6-d4a673391512',\n",
       " u'is:5bef9e3d-b7bb-4c46-b38f-89b9190292d2',\n",
       " u'is:5d60d04f-9bf1-4090-b2a1-763594c0742a',\n",
       " u'is:5d778f02-1baa-4fb6-ac81-33e514f617da',\n",
       " u'is:5e14be18-4e46-403d-a223-02251a9f245a',\n",
       " u'is:5eb54bf7-b590-4be6-b7a8-404a30b82c17',\n",
       " u'is:5eefcfdd-59da-45ee-a6bb-b51b73b8de9f',\n",
       " u'is:5ef81b17-688b-449b-a1c5-46c38b51c31d',\n",
       " u'is:608b0724-0355-4e66-ab9a-200834f3ccf5',\n",
       " u'is:609b0e6a-cf5a-4b58-a4b9-752431c16cae',\n",
       " u'is:60af2a78-27c0-4fe8-9fae-a948b87997a2',\n",
       " u'is:62900afd-65e3-4dc4-b7d7-7dd69bf22da3',\n",
       " u'is:62da68dd-7b4b-475a-9778-c3c71f30a2a1',\n",
       " u'is:62fbdb8a-6813-4de6-8d42-27290a8281a9',\n",
       " u'is:6314c232-65d5-416d-b951-40b28c271fbb',\n",
       " u'is:6323ca9d-bc43-45ac-a73b-7f29e6bdb8c9',\n",
       " u'is:641c70cf-8096-40d9-a75b-da1a1e6407d8',\n",
       " u'is:64c85242-aa65-4aa8-9c73-79764dec2682',\n",
       " u'is:6609b33f-5976-4efd-b1bc-0f247fc63162',\n",
       " u'is:69106690-910b-4825-8dd4-5a5b32751e05',\n",
       " u'is:6b6b37da-f72e-4806-8dff-7202c5e34732',\n",
       " u'is:6c0b22fa-d0b0-4542-8196-ebf445fd71df',\n",
       " u'is:6c1e9f3e-8235-441a-a936-f9c5ba3bbe72',\n",
       " u'is:6c3b0742-63db-465a-bf53-7004cdf4e90e',\n",
       " u'is:6e2cff7f-cb52-426f-ac6c-a2d1a75fdc38',\n",
       " u'is:6e4a950b-c5e5-4b6c-871e-748d0c504cc0',\n",
       " u'is:6f40e3f5-26fd-48db-8d66-37f2be15794a',\n",
       " u'is:708fe826-3b54-406f-925e-ae4f21100ab3',\n",
       " u'is:70dcb45c-5eff-431f-92ea-dd2022b1df32',\n",
       " u'is:71b44fdf-22bc-4872-8d4b-2acc33b587d3',\n",
       " u'is:72053d1c-bc76-42d2-b951-57565ef8d9c3',\n",
       " u'is:72af45f0-abd5-48b5-853b-ad71af9a8393',\n",
       " u'is:7319f85e-28d8-44f9-b4ed-7e19d098a4e6',\n",
       " u'is:73527d5f-f1f4-4a6d-86ff-ba291a55ecec',\n",
       " u'is:73a7dad7-0664-4c1c-87b0-562fefa8780d',\n",
       " u'is:750339bd-f92b-405f-8f5f-69078347140c',\n",
       " u'is:754b0de0-604d-4e6e-9e7f-98309b7d5b41',\n",
       " u'is:75756437-785b-43a6-87da-3c49c32a8f43',\n",
       " u'is:758c0f85-b0e7-421d-bace-d74ba9d07a2d',\n",
       " u'is:75a37b26-f78b-4670-acdc-b9f2603fa11f',\n",
       " u'is:7790d658-738e-4310-9b1d-3c88519ecb39',\n",
       " u'is:7819a024-24d3-4ca5-b8c3-2fdb1b64de84',\n",
       " u'is:792d84ed-a96e-4e04-9868-b06d8be04923',\n",
       " u'is:79a3642e-9391-4764-91df-571adc7401c7',\n",
       " u'is:79c9798f-b825-4cfe-baae-276ed0d85a6f',\n",
       " u'is:7a444d51-1b60-4713-8426-c557a976eadd',\n",
       " u'is:7bcb5678-fb4d-4ef2-9443-55d68dd689d7',\n",
       " u'is:7bdcf3a7-dd2c-4e40-9551-30b728e1a15b',\n",
       " u'is:7c75654a-d022-4ec2-88fd-ec89f8491539',\n",
       " u'is:7d549f40-4cb7-44f6-9ff0-528f7a8d1512',\n",
       " u'is:7e90b66d-85e4-48d7-8691-f6104cedd7fc',\n",
       " u'is:7ee06bac-7390-4f04-bafc-4c0d042af9b6',\n",
       " u'is:7f8bd721-855f-443a-ab2e-685a5050c219',\n",
       " u'is:7fd3f930-6bc9-47f7-9c76-5cdf5784ca20',\n",
       " u'is:80a771f2-0f0d-4152-8edc-738b4fbd856a',\n",
       " u'is:8148aa56-22d8-4b00-9f0c-3459dca95411',\n",
       " u'is:820ce571-305e-4005-b958-fcb45528e9f8',\n",
       " u'is:82771b86-961c-4202-834d-75d9343dd780',\n",
       " u'is:8371885c-72cb-4eb0-91ca-61bbfd10d5d0',\n",
       " u'is:8422c68e-6a04-4b34-8852-bd78772f55c7',\n",
       " u'is:84609d5a-ba9e-4ace-97f7-5a22f357ce3d',\n",
       " u'is:84d701e0-bd2f-4beb-ac27-057415e58401',\n",
       " u'is:86122c81-3a0b-4f8a-b4ab-a76786d2be3d',\n",
       " u'is:861c4759-1d6b-4296-98d7-6e4aea6dc0ef',\n",
       " u'is:863087f6-1c94-41e8-8e9b-3487f9c2fca2',\n",
       " u'is:883e0d82-9dea-425b-a756-49f07a38e85c',\n",
       " u'is:88f64882-1f3b-46e7-a863-c98345973318',\n",
       " u'is:891615cd-200d-4818-8366-61bcb8d8ab05',\n",
       " u'is:89b769c7-34e4-4660-961c-f6506dba0807',\n",
       " u'is:89d0588e-6f9b-4f58-8e0b-275162a4eac3',\n",
       " u'is:8a1875fc-ea6d-411d-b174-2c09cde7a097',\n",
       " u'is:8a854354-9ebe-4c27-9ed0-5cac39f59806',\n",
       " u'is:8aa63d83-a28b-47f6-98c9-84e83efa0ef6',\n",
       " u'is:8b20602f-c213-4e70-805b-73805800d769',\n",
       " u'is:8b238dc1-a4f7-4fe0-afc3-244943c765ea',\n",
       " u'is:8b8887c9-ab22-482e-b7e4-cc7f47c2ad97',\n",
       " u'is:8bdc02ae-a5ea-424a-8515-a6b83eee6d9a',\n",
       " u'is:8bf9da41-a22d-4a6f-9f22-796259b147fe',\n",
       " u'is:8bfc324d-c62f-4cf8-9598-38a085acb8d2',\n",
       " u'is:8d9c8c14-0bda-41dc-8163-78eb4eb45625',\n",
       " u'is:8ea159eb-be50-4bab-bf8a-e3264f4b12ee',\n",
       " u'is:8f849647-37a7-424e-9388-4382db3ad7e6',\n",
       " u'is:920d9e3a-af50-4295-ad06-0bf99e0249bc',\n",
       " u'is:922b8713-28b1-4803-94a9-2b8d46d48556',\n",
       " u'is:936658d0-5b5f-4c2a-857d-fc4d3000ff50',\n",
       " u'is:940e2cbb-d19d-49d2-b877-c0b7319d905b',\n",
       " u'is:94ff307c-52be-459f-8400-8aa928eea0af',\n",
       " u'is:95708bfa-56af-4d10-a2f4-386f8267b0df',\n",
       " u'is:969bfff4-dd11-4d17-93e6-82bd9659c5b1',\n",
       " u'is:9898d2a2-7ce9-424d-8449-cebbb6341699',\n",
       " u'is:991a7ff3-e9e7-4f6b-9e42-9841f02faf69',\n",
       " u'is:99aa8e95-12e3-4627-8de1-b378e9f38e11',\n",
       " u'is:9b2dea7f-1217-4179-b053-5f7709e8e8a5',\n",
       " u'is:9c2f51a9-865a-45e3-a5c8-1afa9c04b602',\n",
       " u'is:9c3429ea-0d69-4beb-a620-50baec49cc7c',\n",
       " u'is:9c447b62-adb1-46c7-8496-936962750654',\n",
       " u'is:9cdef896-76ac-40ef-8c53-ddd0d1fd9bd1',\n",
       " u'is:9e3129ca-634a-4dbc-93b2-aa7ebe9e5450',\n",
       " u'is:9f41bbd6-1bfd-44c3-801c-253ba1e98432',\n",
       " u'is:9ff67465-787c-4602-a3a4-0f6e0514c4e6',\n",
       " u'is:a08e4248-9e0d-4935-94b5-d91f48404c1e',\n",
       " u'is:a0b9e434-13a0-4266-a6a6-6aa49da43612',\n",
       " u'is:a1ce27ef-2f5d-4a2f-96ce-83bceb9e11ce',\n",
       " u'is:a1fe4f84-2ca2-43f8-9624-5710cba7a22a',\n",
       " u'is:a2d618cb-7b49-417e-ad40-a168a9e2f146',\n",
       " u'is:a521b192-6379-4be8-8cc5-3944c4b8b088',\n",
       " u'is:a5712e19-9d05-41c0-95c6-d20660e6ed5b',\n",
       " u'is:a59bfa7c-f282-46da-b977-53136e33f1ef',\n",
       " u'is:a6e1f416-8979-4148-9381-ba53c89e1715',\n",
       " u'is:a78da002-0922-441a-802a-18a26c9e0b6a',\n",
       " u'is:a7d2f4a2-5026-428c-83ab-ade3495b85cb',\n",
       " u'is:a82954ba-0ce8-4a6a-863e-dafda728fac6',\n",
       " u'is:a8635621-638e-4ef6-bb00-f382b0a6f3aa',\n",
       " u'is:a8a65416-3d9c-436c-9960-e9c4178ba8a3',\n",
       " u'is:a8da8e51-ba09-4466-91d2-031c45d2da29',\n",
       " u'is:a8da9325-e836-414d-9f67-e90514decd14',\n",
       " u'is:a96234a7-5669-409f-b502-de4cd422d02b',\n",
       " u'is:a98f672c-f38a-4dc0-963b-3c7250624eb4',\n",
       " u'is:a9a37fa2-424c-4e3e-abb1-ba2fecadadf0',\n",
       " u'is:a9c6bc77-52a7-4ee0-88ca-a2486516bed5',\n",
       " u'is:aa648cfa-5e59-4fb4-aa14-8bf71abb0d4a',\n",
       " u'is:aa83eb14-a65f-47de-a479-dadbabd55aa1',\n",
       " u'is:aacbf1f3-3690-4ce6-83bf-616fa94ec0eb',\n",
       " u'is:ab4c5dc5-001d-410b-82ce-36e9ba6e9a10',\n",
       " u'is:ab63a6a6-8393-4a3f-a0ff-b5e26f105859',\n",
       " u'is:ab6965ec-322c-4238-8963-136db68882cb',\n",
       " u'is:abe81205-04f6-40c5-8693-fc54a3bfa077',\n",
       " u'is:ad109053-090f-4bea-9831-def4ba10ef2a',\n",
       " u'is:ae25acb9-0bec-4c85-99d8-e02129895c85',\n",
       " u'is:af26e25b-8860-470f-ac2d-9b9205073dc4',\n",
       " u'is:b01d7436-8567-49d4-9dd0-6474b5053ce7',\n",
       " u'is:b0c477d3-94c1-47e2-9393-1251c6229596',\n",
       " u'is:b18b4d53-6bb9-43ed-b9dc-b47a18ab9bb1',\n",
       " u'is:b2fc00c0-0feb-4bf8-a706-28f354c33d4f',\n",
       " u'is:b302aa45-3cd6-455c-918c-ef139706403b',\n",
       " u'is:b4310bcf-bd96-4746-988f-367e646a0d70',\n",
       " u'is:b5a99363-e7e1-4202-b1bc-9eb35c612ef9',\n",
       " u'is:b5f25c5e-263c-48e9-ad6f-03b483239b6b',\n",
       " u'is:b7af66b0-dd58-4821-a8bc-70ee279725d2',\n",
       " u'is:b9064c88-f676-4a48-a44a-1c68f40cffb4',\n",
       " u'is:b94f67b2-bf31-4649-9d5e-7bf2e8d0e14a',\n",
       " u'is:b97e3fc9-726a-48e0-b370-2f36c9943f31',\n",
       " u'is:ba3096d9-7694-4254-8971-1cd98e448c43',\n",
       " u'is:bbadcf16-5337-46f0-b576-5c299acc6216',\n",
       " u'is:bd4c8db3-0dab-4733-9dd5-3b9d8c11be09',\n",
       " u'is:bd69d7c4-0431-4538-8e99-16f186d43c0b',\n",
       " u'is:be1f0e21-a92e-45bf-9b4d-319165d21630',\n",
       " u'is:be21b209-1c0d-4064-ba6f-9d4bcad08e02',\n",
       " u'is:be9fbbe9-67c6-4407-aef7-c82cfed37cb4',\n",
       " u'is:bedd200a-7a51-4e14-b563-3ad85ed2970b',\n",
       " u'is:bfb310e9-26c7-48e3-95a2-6bf48e6a1804',\n",
       " u'is:bfd339d6-a8ff-42c2-b235-60d938d922db',\n",
       " u'is:c03cb940-a2a8-49c7-af63-51d4c9c366e9',\n",
       " u'is:c07dd485-abcb-4651-bc92-117214fbe579',\n",
       " u'is:c0c6d337-a32c-4b39-ad8d-08269e58a33e',\n",
       " u'is:c0d2d46e-d7e5-4e72-a896-f0910f1e1f9e',\n",
       " u'is:c0f21855-abdc-4277-97dd-519c9775ba8a',\n",
       " u'is:c27828f6-a2c4-45ff-a54e-1aeea0fda29d',\n",
       " u'is:c366a15e-8792-4682-b429-0216f5b0fc8e',\n",
       " u'is:c562f8de-c32e-475c-99b6-3a0d741d1f42',\n",
       " u'is:c758b4c2-54b2-4509-aaa7-5a833e772255',\n",
       " u'is:c894b880-0365-4960-88da-0b6b365d6b62',\n",
       " u'is:cd4b2b9b-e6ed-41b7-bc0a-370664a45935',\n",
       " u'is:cd8b1589-dea2-42b8-9f88-7978f2cd9b61',\n",
       " u'is:d035743d-1215-4a15-81b3-811624389bbe',\n",
       " u'is:d14ff8c6-6f06-4077-9018-ff250da56454',\n",
       " u'is:d294c6dd-502d-43d5-8130-01f929c420f3',\n",
       " u'is:d2b53ffe-a9d6-49a9-9f84-4af57377f73f',\n",
       " u'is:d319e80e-dce4-4b3f-8475-6e3e9320134d',\n",
       " u'is:d35a1c3f-c03c-415e-accf-a4dea92113b6',\n",
       " u'is:d37537af-4874-4d31-b7a3-65905922ec68',\n",
       " u'is:d426a314-e1a9-40bc-9b63-e4bb7bc8154b',\n",
       " u'is:d4cc3273-c239-4568-b9c8-b83b6ce50052',\n",
       " u'is:d691076f-72c5-4eeb-ba6e-ad9abdb6610e',\n",
       " u'is:db5b986a-73bb-4dee-bfac-394cc807c94f',\n",
       " u'is:dc069ec1-44ad-4ac2-8639-5453823b16ec',\n",
       " u'is:dc53cf1c-9ecd-45fe-8ac7-2e6293455c86',\n",
       " u'is:dc8020ad-b518-4905-99b5-5a71c78d4210',\n",
       " u'is:dd0c8e86-cb88-499f-abd2-db297bf15ae9',\n",
       " u'is:dd169616-1c40-4031-89f4-b3880827a0dd',\n",
       " u'is:dd92639a-6a21-495a-8f98-47260fcb6cd2',\n",
       " u'is:deb7d03e-c08d-4c74-85df-72f69ee15c09',\n",
       " u'is:df67f8f8-d28c-43f8-abdc-20f136e7947c',\n",
       " u'is:dfb52e8b-2860-4c34-9588-41b53f846939',\n",
       " u'is:e010c396-5c7e-4c95-9187-c535a500fb9e',\n",
       " u'is:e040f3da-8acb-428c-bb8e-0e2a7a599204',\n",
       " u'is:e19b8cf0-237e-4be2-8bfa-84c87376ae80',\n",
       " u'is:e28593be-3a5e-47b1-9558-0b3c8e3bc4d3',\n",
       " u'is:e2b976c4-44c2-4bae-aba1-ed96a3b59f38',\n",
       " u'is:e32b131a-9cb3-41ef-b697-6fa38448f822',\n",
       " u'is:e38d3c3b-20e9-495e-8602-cd4a8aa4bb0c',\n",
       " u'is:e444b555-eb7c-49e6-9289-0336559a6b8c',\n",
       " u'is:e46420ff-0f26-4a1b-aad7-5252259802b3',\n",
       " u'is:e4726b9f-523a-4d04-959f-074851b14b00',\n",
       " u'is:e4932a29-f40c-4e1e-ae58-b935db271827',\n",
       " u'is:e4c80800-31b0-4c7a-85dc-c438582e64a3',\n",
       " u'is:e4ca9bcc-b2b0-4e47-9cf1-63b98ea5ba74',\n",
       " u'is:e59a5aa6-0883-4fd3-b9d8-92af544afc9c',\n",
       " u'is:e5d525f7-eb2e-4d3c-a08f-c5cceafc97c4',\n",
       " u'is:e8761890-a3fe-4860-b56f-55eeb774a57a',\n",
       " u'is:e9001f69-7568-4ba1-b271-24fe69d52845',\n",
       " u'is:e91a353f-bf29-434f-aaf8-7bfe765f890d',\n",
       " u'is:e926ad18-5a9b-45d5-b227-425c1443e629',\n",
       " u'is:e980a5b2-1a8f-4100-9d00-bdaa7062a0a3',\n",
       " u'is:ebd1ae3b-b6e8-4840-88d2-b7d296420567',\n",
       " u'is:ee768fdd-106a-4416-b837-b82d2b1432df',\n",
       " u'is:ef3dbfb6-3b1a-4924-86ad-b1308609304e',\n",
       " u'is:ef423263-c049-45f0-b000-769fe1fffcfe',\n",
       " u'is:f143c95c-3ad4-463d-9ed2-fac33c677f1a',\n",
       " u'is:f17be44b-b17a-4745-af19-630ddd4f5c4a',\n",
       " u'is:f1b3e2b1-db52-4b7d-810f-13f90e299f79',\n",
       " u'is:f28b67ae-f8bf-4ad9-a5ef-9af4a74af574',\n",
       " u'is:f3ea9748-63b7-410d-9455-15402fe6a762',\n",
       " u'is:f5034c1a-d3ad-4717-b483-8b897ebcc08b',\n",
       " u'is:f76cc6df-d780-4318-8eb1-60ea89713fa0',\n",
       " u'is:f7d5d594-218b-4b9c-ae23-bc4f6d133a94',\n",
       " u'is:f7fd49f5-7111-4b02-bb7b-d26cfa0bdf59',\n",
       " u'is:f8f1450a-2249-41f4-9ac5-62e543988f72',\n",
       " u'is:f965dfe5-c474-477a-890c-2ce98b18387d',\n",
       " u'is:f96fa92f-060c-4e25-9b59-f8a5bc6aad0b',\n",
       " u'is:f9f311b7-437d-452b-b9bc-2702b96bf9b9',\n",
       " u'is:fb69e84f-1ddc-4ebc-882b-a38ac79bb3da',\n",
       " u'is:fb800936-f91f-4869-9323-cda2bd3f434a',\n",
       " u'is:fcfd1110-3c91-49c6-9da9-d396f426875f',\n",
       " u'is:fd701ede-6186-400d-bab7-41d4b17a2145',\n",
       " u'is:ff7bbc8c-fe2f-4b2a-b3c6-11801ff7c28a'}"
      ]
     },
     "execution_count": 29,
     "metadata": {},
     "output_type": "execute_result"
    }
   ],
   "source": [
    "activity_instances"
   ]
  },
  {
   "cell_type": "code",
   "execution_count": 30,
   "metadata": {
    "collapsed": false
   },
   "outputs": [
    {
     "data": {
      "text/plain": [
       "{u'@fields': {u'is:0a16324a-0017-47e9-a727-199d1f3e0fce': {u'unk:args': u'--child calculate_pafs --tag first_history_test0',\n",
       "   u'unk:command': u'/Users/vr24/virtualenvs/general_personal_dev_env/bin/python',\n",
       "   u'unk:date': u'2016-11-06T02:45:51-08:00',\n",
       "   u'unk:group_id': {u'$': 42057, u'type': u'xsd:int'},\n",
       "   u'unk:hostname': u'Gladstone.domain',\n",
       "   u'unk:interpreter': u'2.7.10 (default, Oct 23 2015, 19:19:21) ',\n",
       "   u'unk:platform': u'Darwin-15.5.0-x86_64-i386-64bit',\n",
       "   u'unk:process_id': {u'$': 42064, u'type': u'xsd:int'},\n",
       "   u'unk:sge_job_id': u'100'}},\n",
       " u'@message': u'create_file3',\n",
       " u'@source_host': u'withme',\n",
       " u'@timestamp': u'2016-11-06T10:45:51.928Z',\n",
       " u'@version': 1,\n",
       " u'document': u'is:0a16324a-0017-47e9-a727-199d1f3e0fce',\n",
       " u'host': u'127.0.0.1',\n",
       " u'instance': u'is:0a16324a-0017-47e9-a727-199d1f3e0fce',\n",
       " u'port': 56339,\n",
       " u'prov': u'activity'}"
      ]
     },
     "execution_count": 30,
     "metadata": {},
     "output_type": "execute_result"
    }
   ],
   "source": [
    "# OK great, each activity instance tag seems to be a single, hash-like string prefixed with 'is:' (perhaps namespace?)\n",
    "# Let's investigage the fields for an activity\n",
    "logs_by_type[\"activity\"][0]"
   ]
  },
  {
   "cell_type": "code",
   "execution_count": 31,
   "metadata": {
    "collapsed": false
   },
   "outputs": [
    {
     "data": {
      "text/plain": [
       "9"
      ]
     },
     "execution_count": 31,
     "metadata": {},
     "output_type": "execute_result"
    }
   ],
   "source": [
    "# OK, there are many more properties than for an agent, but this is manageable.\n",
    "# Activity is defined by \"@fields\" object, too.\n",
    "# Is there any variability in the prefix for each of the field names for an activity instance?\n",
    "activity_fields_object_values_keys = set()\n",
    "for activity_document in logs_by_type[\"activity\"]:\n",
    "    fields_object_values = activity_document[\"@fields\"].values()\n",
    "    assert 1 == sum(1 for _ in fields_object_values)\n",
    "    activity_fields_object_values_keys.update(fields_object_values[0].keys())\n",
    "len(activity_fields_object_values_keys)"
   ]
  },
  {
   "cell_type": "code",
   "execution_count": 32,
   "metadata": {
    "collapsed": false
   },
   "outputs": [
    {
     "data": {
      "text/plain": [
       "{u'unk:args',\n",
       " u'unk:command',\n",
       " u'unk:date',\n",
       " u'unk:group_id',\n",
       " u'unk:hostname',\n",
       " u'unk:interpreter',\n",
       " u'unk:platform',\n",
       " u'unk:process_id',\n",
       " u'unk:sge_job_id'}"
      ]
     },
     "execution_count": 32,
     "metadata": {},
     "output_type": "execute_result"
    }
   ],
   "source": [
    "activity_fields_object_values_keys"
   ]
  },
  {
   "cell_type": "code",
   "execution_count": 33,
   "metadata": {
    "collapsed": false
   },
   "outputs": [
    {
     "data": {
      "text/plain": [
       "[{u'@fields': {u'code:tests/make_history.py': {u'unk:script': u'/Users/vr24/code/provda/tests/make_history.py',\n",
       "    u'unk:version_branch': u'tinkering',\n",
       "    u'unk:version_branch_hash': u'372d74f21713f47642fc424e7e3289f38b2ed5a0',\n",
       "    u'unk:version_remote': u'https://vr24@stash.ihme.washington.edu/scm/~adolgert/provda.git'},\n",
       "   u'doc:gbd-read/schema/table': {},\n",
       "   u'doc:gbd/first_history_test0/cvd_ihd.hdf': {},\n",
       "   u'doc:paf/first_history_test0/cvd_ihd.hdf': {}},\n",
       "  u'@message': u'create_file3',\n",
       "  u'@source_host': u'withme',\n",
       "  u'@timestamp': u'2016-11-06T10:45:51.927Z',\n",
       "  u'@version': 1,\n",
       "  u'document': u'is:0a16324a-0017-47e9-a727-199d1f3e0fce',\n",
       "  u'host': u'127.0.0.1',\n",
       "  u'instance': u'doc:gbd-read/schema/table',\n",
       "  u'port': 56339,\n",
       "  u'prov': u'entity'},\n",
       " {u'@fields': {u'code:tests/make_history.py': {u'unk:script': u'/Users/vr24/code/provda/tests/make_history.py',\n",
       "    u'unk:version_branch': u'tinkering',\n",
       "    u'unk:version_branch_hash': u'372d74f21713f47642fc424e7e3289f38b2ed5a0',\n",
       "    u'unk:version_remote': u'https://vr24@stash.ihme.washington.edu/scm/~adolgert/provda.git'},\n",
       "   u'doc:gbd-read/schema/table': {},\n",
       "   u'doc:gbd/first_history_test0/cvd_ihd.hdf': {},\n",
       "   u'doc:paf/first_history_test0/cvd_ihd.hdf': {}},\n",
       "  u'@message': u'create_file3',\n",
       "  u'@source_host': u'withme',\n",
       "  u'@timestamp': u'2016-11-06T10:45:51.927Z',\n",
       "  u'@version': 1,\n",
       "  u'document': u'is:0a16324a-0017-47e9-a727-199d1f3e0fce',\n",
       "  u'host': u'127.0.0.1',\n",
       "  u'instance': u'doc:gbd/first_history_test0/cvd_ihd.hdf',\n",
       "  u'port': 56339,\n",
       "  u'prov': u'entity'},\n",
       " {u'@fields': {u'code:tests/make_history.py': {u'unk:script': u'/Users/vr24/code/provda/tests/make_history.py',\n",
       "    u'unk:version_branch': u'tinkering',\n",
       "    u'unk:version_branch_hash': u'372d74f21713f47642fc424e7e3289f38b2ed5a0',\n",
       "    u'unk:version_remote': u'https://vr24@stash.ihme.washington.edu/scm/~adolgert/provda.git'},\n",
       "   u'doc:gbd-read/schema/table': {},\n",
       "   u'doc:gbd/first_history_test0/cvd_ihd.hdf': {},\n",
       "   u'doc:paf/first_history_test0/cvd_ihd.hdf': {}},\n",
       "  u'@message': u'create_file3',\n",
       "  u'@source_host': u'withme',\n",
       "  u'@timestamp': u'2016-11-06T10:45:51.927Z',\n",
       "  u'@version': 1,\n",
       "  u'document': u'is:0a16324a-0017-47e9-a727-199d1f3e0fce',\n",
       "  u'host': u'127.0.0.1',\n",
       "  u'instance': u'code:tests/make_history.py',\n",
       "  u'port': 56339,\n",
       "  u'prov': u'entity'}]"
      ]
     },
     "execution_count": 33,
     "metadata": {},
     "output_type": "execute_result"
    }
   ],
   "source": [
    "# What about an entity?\n",
    "log_trio_by_type[\"entity\"]"
   ]
  },
  {
   "cell_type": "code",
   "execution_count": 34,
   "metadata": {
    "collapsed": false
   },
   "outputs": [
    {
     "data": {
      "text/plain": [
       "{u'@fields': {u'_:id2': {u'prov:activity': u'is:0a16324a-0017-47e9-a727-199d1f3e0fce',\n",
       "   u'prov:agent': u'people:vr24'}},\n",
       " u'@message': u'create_file3',\n",
       " u'@source_host': u'withme',\n",
       " u'@timestamp': u'2016-11-06T10:45:51.927Z',\n",
       " u'@version': 1,\n",
       " u'document': u'is:0a16324a-0017-47e9-a727-199d1f3e0fce',\n",
       " u'host': u'127.0.0.1',\n",
       " u'instance': u'_:id2',\n",
       " u'port': 56339,\n",
       " u'prov': u'wasAssociatedWith'}"
      ]
     },
     "execution_count": 34,
     "metadata": {},
     "output_type": "execute_result"
    }
   ],
   "source": [
    "logs[0]"
   ]
  },
  {
   "cell_type": "code",
   "execution_count": 39,
   "metadata": {
    "collapsed": false
   },
   "outputs": [
    {
     "data": {
      "text/plain": [
       "1"
      ]
     },
     "execution_count": 39,
     "metadata": {},
     "output_type": "execute_result"
    }
   ],
   "source": [
    "instance_id = 'is:0a16324a-0017-47e9-a727-199d1f3e0fce'\n",
    "specific_instance_logs = \\\n",
    "    filter(lambda log: log[\"instance\"] == instance_id, logs)\n",
    "len(specific_instance_logs)"
   ]
  },
  {
   "cell_type": "code",
   "execution_count": 40,
   "metadata": {
    "collapsed": false
   },
   "outputs": [
    {
     "data": {
      "text/plain": [
       "{u'@fields': {u'is:0a16324a-0017-47e9-a727-199d1f3e0fce': {u'unk:args': u'--child calculate_pafs --tag first_history_test0',\n",
       "   u'unk:command': u'/Users/vr24/virtualenvs/general_personal_dev_env/bin/python',\n",
       "   u'unk:date': u'2016-11-06T02:45:51-08:00',\n",
       "   u'unk:group_id': {u'$': 42057, u'type': u'xsd:int'},\n",
       "   u'unk:hostname': u'Gladstone.domain',\n",
       "   u'unk:interpreter': u'2.7.10 (default, Oct 23 2015, 19:19:21) ',\n",
       "   u'unk:platform': u'Darwin-15.5.0-x86_64-i386-64bit',\n",
       "   u'unk:process_id': {u'$': 42064, u'type': u'xsd:int'},\n",
       "   u'unk:sge_job_id': u'100'}},\n",
       " u'@message': u'create_file3',\n",
       " u'@source_host': u'withme',\n",
       " u'@timestamp': u'2016-11-06T10:45:51.928Z',\n",
       " u'@version': 1,\n",
       " u'document': u'is:0a16324a-0017-47e9-a727-199d1f3e0fce',\n",
       " u'host': u'127.0.0.1',\n",
       " u'instance': u'is:0a16324a-0017-47e9-a727-199d1f3e0fce',\n",
       " u'port': 56339,\n",
       " u'prov': u'activity'}"
      ]
     },
     "execution_count": 40,
     "metadata": {},
     "output_type": "execute_result"
    }
   ],
   "source": [
    "specific_instance_logs[0]"
   ]
  },
  {
   "cell_type": "code",
   "execution_count": 42,
   "metadata": {
    "collapsed": false
   },
   "outputs": [
    {
     "data": {
      "text/plain": [
       "18"
      ]
     },
     "execution_count": 42,
     "metadata": {},
     "output_type": "execute_result"
    }
   ],
   "source": [
    "document_id = 'is:0a16324a-0017-47e9-a727-199d1f3e0fce'\n",
    "specific_document_logs = \\\n",
    "    filter(lambda log: log[\"document\"] == document_id, logs)\n",
    "len(specific_document_logs)"
   ]
  },
  {
   "cell_type": "code",
   "execution_count": 43,
   "metadata": {
    "collapsed": false
   },
   "outputs": [
    {
     "data": {
      "text/plain": [
       "[{u'@fields': {u'_:id2': {u'prov:activity': u'is:0a16324a-0017-47e9-a727-199d1f3e0fce',\n",
       "    u'prov:agent': u'people:vr24'}},\n",
       "  u'@message': u'create_file3',\n",
       "  u'@source_host': u'withme',\n",
       "  u'@timestamp': u'2016-11-06T10:45:51.927Z',\n",
       "  u'@version': 1,\n",
       "  u'document': u'is:0a16324a-0017-47e9-a727-199d1f3e0fce',\n",
       "  u'host': u'127.0.0.1',\n",
       "  u'instance': u'_:id2',\n",
       "  u'port': 56339,\n",
       "  u'prov': u'wasAssociatedWith'},\n",
       " {u'@fields': {u'_:id1': {u'prov:activity': u'is:0a16324a-0017-47e9-a727-199d1f3e0fce',\n",
       "    u'prov:entity': u'code:tests/make_history.py'},\n",
       "   u'_:id3': {u'prov:activity': u'is:0a16324a-0017-47e9-a727-199d1f3e0fce',\n",
       "    u'prov:entity': u'doc:gbd/first_history_test0/cvd_ihd.hdf'},\n",
       "   u'_:id4': {u'prov:activity': u'is:0a16324a-0017-47e9-a727-199d1f3e0fce',\n",
       "    u'prov:entity': u'doc:gbd-read/schema/table'}},\n",
       "  u'@message': u'create_file3',\n",
       "  u'@source_host': u'withme',\n",
       "  u'@timestamp': u'2016-11-06T10:45:51.927Z',\n",
       "  u'@version': 1,\n",
       "  u'document': u'is:0a16324a-0017-47e9-a727-199d1f3e0fce',\n",
       "  u'host': u'127.0.0.1',\n",
       "  u'instance': u'_:id4',\n",
       "  u'port': 56339,\n",
       "  u'prov': u'used'},\n",
       " {u'@fields': {u'_:id1': {u'prov:activity': u'is:0a16324a-0017-47e9-a727-199d1f3e0fce',\n",
       "    u'prov:entity': u'code:tests/make_history.py'},\n",
       "   u'_:id3': {u'prov:activity': u'is:0a16324a-0017-47e9-a727-199d1f3e0fce',\n",
       "    u'prov:entity': u'doc:gbd/first_history_test0/cvd_ihd.hdf'},\n",
       "   u'_:id4': {u'prov:activity': u'is:0a16324a-0017-47e9-a727-199d1f3e0fce',\n",
       "    u'prov:entity': u'doc:gbd-read/schema/table'}},\n",
       "  u'@message': u'create_file3',\n",
       "  u'@source_host': u'withme',\n",
       "  u'@timestamp': u'2016-11-06T10:45:51.927Z',\n",
       "  u'@version': 1,\n",
       "  u'document': u'is:0a16324a-0017-47e9-a727-199d1f3e0fce',\n",
       "  u'host': u'127.0.0.1',\n",
       "  u'instance': u'_:id1',\n",
       "  u'port': 56339,\n",
       "  u'prov': u'used'},\n",
       " {u'@fields': {u'_:id1': {u'prov:activity': u'is:0a16324a-0017-47e9-a727-199d1f3e0fce',\n",
       "    u'prov:entity': u'code:tests/make_history.py'},\n",
       "   u'_:id3': {u'prov:activity': u'is:0a16324a-0017-47e9-a727-199d1f3e0fce',\n",
       "    u'prov:entity': u'doc:gbd/first_history_test0/cvd_ihd.hdf'},\n",
       "   u'_:id4': {u'prov:activity': u'is:0a16324a-0017-47e9-a727-199d1f3e0fce',\n",
       "    u'prov:entity': u'doc:gbd-read/schema/table'}},\n",
       "  u'@message': u'create_file3',\n",
       "  u'@source_host': u'withme',\n",
       "  u'@timestamp': u'2016-11-06T10:45:51.927Z',\n",
       "  u'@version': 1,\n",
       "  u'document': u'is:0a16324a-0017-47e9-a727-199d1f3e0fce',\n",
       "  u'host': u'127.0.0.1',\n",
       "  u'instance': u'_:id3',\n",
       "  u'port': 56339,\n",
       "  u'prov': u'used'},\n",
       " {u'@fields': {u'people:vr24': {u'unk:fullname': u'Vincent Reuter',\n",
       "    u'unk:homedir': u'/Users/vr24'}},\n",
       "  u'@message': u'create_file3',\n",
       "  u'@source_host': u'withme',\n",
       "  u'@timestamp': u'2016-11-06T10:45:51.927Z',\n",
       "  u'@version': 1,\n",
       "  u'document': u'is:0a16324a-0017-47e9-a727-199d1f3e0fce',\n",
       "  u'host': u'127.0.0.1',\n",
       "  u'instance': u'people:vr24',\n",
       "  u'port': 56339,\n",
       "  u'prov': u'agent'},\n",
       " {u'@fields': {u'code:tests/make_history.py': {u'unk:script': u'/Users/vr24/code/provda/tests/make_history.py',\n",
       "    u'unk:version_branch': u'tinkering',\n",
       "    u'unk:version_branch_hash': u'372d74f21713f47642fc424e7e3289f38b2ed5a0',\n",
       "    u'unk:version_remote': u'https://vr24@stash.ihme.washington.edu/scm/~adolgert/provda.git'},\n",
       "   u'doc:gbd-read/schema/table': {},\n",
       "   u'doc:gbd/first_history_test0/cvd_ihd.hdf': {},\n",
       "   u'doc:paf/first_history_test0/cvd_ihd.hdf': {}},\n",
       "  u'@message': u'create_file3',\n",
       "  u'@source_host': u'withme',\n",
       "  u'@timestamp': u'2016-11-06T10:45:51.927Z',\n",
       "  u'@version': 1,\n",
       "  u'document': u'is:0a16324a-0017-47e9-a727-199d1f3e0fce',\n",
       "  u'host': u'127.0.0.1',\n",
       "  u'instance': u'doc:gbd-read/schema/table',\n",
       "  u'port': 56339,\n",
       "  u'prov': u'entity'},\n",
       " {u'@fields': {u'code:tests/make_history.py': {u'unk:script': u'/Users/vr24/code/provda/tests/make_history.py',\n",
       "    u'unk:version_branch': u'tinkering',\n",
       "    u'unk:version_branch_hash': u'372d74f21713f47642fc424e7e3289f38b2ed5a0',\n",
       "    u'unk:version_remote': u'https://vr24@stash.ihme.washington.edu/scm/~adolgert/provda.git'},\n",
       "   u'doc:gbd-read/schema/table': {},\n",
       "   u'doc:gbd/first_history_test0/cvd_ihd.hdf': {},\n",
       "   u'doc:paf/first_history_test0/cvd_ihd.hdf': {}},\n",
       "  u'@message': u'create_file3',\n",
       "  u'@source_host': u'withme',\n",
       "  u'@timestamp': u'2016-11-06T10:45:51.927Z',\n",
       "  u'@version': 1,\n",
       "  u'document': u'is:0a16324a-0017-47e9-a727-199d1f3e0fce',\n",
       "  u'host': u'127.0.0.1',\n",
       "  u'instance': u'doc:gbd/first_history_test0/cvd_ihd.hdf',\n",
       "  u'port': 56339,\n",
       "  u'prov': u'entity'},\n",
       " {u'@fields': {u'code:tests/make_history.py': {u'unk:script': u'/Users/vr24/code/provda/tests/make_history.py',\n",
       "    u'unk:version_branch': u'tinkering',\n",
       "    u'unk:version_branch_hash': u'372d74f21713f47642fc424e7e3289f38b2ed5a0',\n",
       "    u'unk:version_remote': u'https://vr24@stash.ihme.washington.edu/scm/~adolgert/provda.git'},\n",
       "   u'doc:gbd-read/schema/table': {},\n",
       "   u'doc:gbd/first_history_test0/cvd_ihd.hdf': {},\n",
       "   u'doc:paf/first_history_test0/cvd_ihd.hdf': {}},\n",
       "  u'@message': u'create_file3',\n",
       "  u'@source_host': u'withme',\n",
       "  u'@timestamp': u'2016-11-06T10:45:51.927Z',\n",
       "  u'@version': 1,\n",
       "  u'document': u'is:0a16324a-0017-47e9-a727-199d1f3e0fce',\n",
       "  u'host': u'127.0.0.1',\n",
       "  u'instance': u'code:tests/make_history.py',\n",
       "  u'port': 56339,\n",
       "  u'prov': u'entity'},\n",
       " {u'@fields': {u'code:tests/make_history.py': {u'unk:script': u'/Users/vr24/code/provda/tests/make_history.py',\n",
       "    u'unk:version_branch': u'tinkering',\n",
       "    u'unk:version_branch_hash': u'372d74f21713f47642fc424e7e3289f38b2ed5a0',\n",
       "    u'unk:version_remote': u'https://vr24@stash.ihme.washington.edu/scm/~adolgert/provda.git'},\n",
       "   u'doc:gbd-read/schema/table': {},\n",
       "   u'doc:gbd/first_history_test0/cvd_ihd.hdf': {},\n",
       "   u'doc:paf/first_history_test0/cvd_ihd.hdf': {}},\n",
       "  u'@message': u'create_file3',\n",
       "  u'@source_host': u'withme',\n",
       "  u'@timestamp': u'2016-11-06T10:45:51.927Z',\n",
       "  u'@version': 1,\n",
       "  u'document': u'is:0a16324a-0017-47e9-a727-199d1f3e0fce',\n",
       "  u'host': u'127.0.0.1',\n",
       "  u'instance': u'doc:paf/first_history_test0/cvd_ihd.hdf',\n",
       "  u'port': 56339,\n",
       "  u'prov': u'entity'},\n",
       " {u'@fields': {u'code': u'https://healthdata.org/code',\n",
       "   u'dct': u'http://purl.org/dc/terms/',\n",
       "   u'doc': u'https://healthdata.org/document',\n",
       "   u'foaf': u'http://xmlns.com/foaf/0.1/',\n",
       "   u'is': u'https://healthdata.org/instances',\n",
       "   u'people': u'https://healthdata.org/people',\n",
       "   u'unk': u'http://example.com/unknown'},\n",
       "  u'@message': u'create_file3',\n",
       "  u'@source_host': u'withme',\n",
       "  u'@timestamp': u'2016-11-06T10:45:51.927Z',\n",
       "  u'@version': 1,\n",
       "  u'document': u'is:0a16324a-0017-47e9-a727-199d1f3e0fce',\n",
       "  u'host': u'127.0.0.1',\n",
       "  u'instance': u'foaf',\n",
       "  u'port': 56339,\n",
       "  u'prov': u'prefix'},\n",
       " {u'@fields': {u'code': u'https://healthdata.org/code',\n",
       "   u'dct': u'http://purl.org/dc/terms/',\n",
       "   u'doc': u'https://healthdata.org/document',\n",
       "   u'foaf': u'http://xmlns.com/foaf/0.1/',\n",
       "   u'is': u'https://healthdata.org/instances',\n",
       "   u'people': u'https://healthdata.org/people',\n",
       "   u'unk': u'http://example.com/unknown'},\n",
       "  u'@message': u'create_file3',\n",
       "  u'@source_host': u'withme',\n",
       "  u'@timestamp': u'2016-11-06T10:45:51.927Z',\n",
       "  u'@version': 1,\n",
       "  u'document': u'is:0a16324a-0017-47e9-a727-199d1f3e0fce',\n",
       "  u'host': u'127.0.0.1',\n",
       "  u'instance': u'code',\n",
       "  u'port': 56339,\n",
       "  u'prov': u'prefix'},\n",
       " {u'@fields': {u'code': u'https://healthdata.org/code',\n",
       "   u'dct': u'http://purl.org/dc/terms/',\n",
       "   u'doc': u'https://healthdata.org/document',\n",
       "   u'foaf': u'http://xmlns.com/foaf/0.1/',\n",
       "   u'is': u'https://healthdata.org/instances',\n",
       "   u'people': u'https://healthdata.org/people',\n",
       "   u'unk': u'http://example.com/unknown'},\n",
       "  u'@message': u'create_file3',\n",
       "  u'@source_host': u'withme',\n",
       "  u'@timestamp': u'2016-11-06T10:45:51.927Z',\n",
       "  u'@version': 1,\n",
       "  u'document': u'is:0a16324a-0017-47e9-a727-199d1f3e0fce',\n",
       "  u'host': u'127.0.0.1',\n",
       "  u'instance': u'people',\n",
       "  u'port': 56339,\n",
       "  u'prov': u'prefix'},\n",
       " {u'@fields': {u'code': u'https://healthdata.org/code',\n",
       "   u'dct': u'http://purl.org/dc/terms/',\n",
       "   u'doc': u'https://healthdata.org/document',\n",
       "   u'foaf': u'http://xmlns.com/foaf/0.1/',\n",
       "   u'is': u'https://healthdata.org/instances',\n",
       "   u'people': u'https://healthdata.org/people',\n",
       "   u'unk': u'http://example.com/unknown'},\n",
       "  u'@message': u'create_file3',\n",
       "  u'@source_host': u'withme',\n",
       "  u'@timestamp': u'2016-11-06T10:45:51.927Z',\n",
       "  u'@version': 1,\n",
       "  u'document': u'is:0a16324a-0017-47e9-a727-199d1f3e0fce',\n",
       "  u'host': u'127.0.0.1',\n",
       "  u'instance': u'doc',\n",
       "  u'port': 56339,\n",
       "  u'prov': u'prefix'},\n",
       " {u'@fields': {u'code': u'https://healthdata.org/code',\n",
       "   u'dct': u'http://purl.org/dc/terms/',\n",
       "   u'doc': u'https://healthdata.org/document',\n",
       "   u'foaf': u'http://xmlns.com/foaf/0.1/',\n",
       "   u'is': u'https://healthdata.org/instances',\n",
       "   u'people': u'https://healthdata.org/people',\n",
       "   u'unk': u'http://example.com/unknown'},\n",
       "  u'@message': u'create_file3',\n",
       "  u'@source_host': u'withme',\n",
       "  u'@timestamp': u'2016-11-06T10:45:51.927Z',\n",
       "  u'@version': 1,\n",
       "  u'document': u'is:0a16324a-0017-47e9-a727-199d1f3e0fce',\n",
       "  u'host': u'127.0.0.1',\n",
       "  u'instance': u'is',\n",
       "  u'port': 56339,\n",
       "  u'prov': u'prefix'},\n",
       " {u'@fields': {u'code': u'https://healthdata.org/code',\n",
       "   u'dct': u'http://purl.org/dc/terms/',\n",
       "   u'doc': u'https://healthdata.org/document',\n",
       "   u'foaf': u'http://xmlns.com/foaf/0.1/',\n",
       "   u'is': u'https://healthdata.org/instances',\n",
       "   u'people': u'https://healthdata.org/people',\n",
       "   u'unk': u'http://example.com/unknown'},\n",
       "  u'@message': u'create_file3',\n",
       "  u'@source_host': u'withme',\n",
       "  u'@timestamp': u'2016-11-06T10:45:51.927Z',\n",
       "  u'@version': 1,\n",
       "  u'document': u'is:0a16324a-0017-47e9-a727-199d1f3e0fce',\n",
       "  u'host': u'127.0.0.1',\n",
       "  u'instance': u'dct',\n",
       "  u'port': 56339,\n",
       "  u'prov': u'prefix'},\n",
       " {u'@fields': {u'code': u'https://healthdata.org/code',\n",
       "   u'dct': u'http://purl.org/dc/terms/',\n",
       "   u'doc': u'https://healthdata.org/document',\n",
       "   u'foaf': u'http://xmlns.com/foaf/0.1/',\n",
       "   u'is': u'https://healthdata.org/instances',\n",
       "   u'people': u'https://healthdata.org/people',\n",
       "   u'unk': u'http://example.com/unknown'},\n",
       "  u'@message': u'create_file3',\n",
       "  u'@source_host': u'withme',\n",
       "  u'@timestamp': u'2016-11-06T10:45:51.927Z',\n",
       "  u'@version': 1,\n",
       "  u'document': u'is:0a16324a-0017-47e9-a727-199d1f3e0fce',\n",
       "  u'host': u'127.0.0.1',\n",
       "  u'instance': u'unk',\n",
       "  u'port': 56339,\n",
       "  u'prov': u'prefix'},\n",
       " {u'@fields': {u'is:0a16324a-0017-47e9-a727-199d1f3e0fce': {u'unk:args': u'--child calculate_pafs --tag first_history_test0',\n",
       "    u'unk:command': u'/Users/vr24/virtualenvs/general_personal_dev_env/bin/python',\n",
       "    u'unk:date': u'2016-11-06T02:45:51-08:00',\n",
       "    u'unk:group_id': {u'$': 42057, u'type': u'xsd:int'},\n",
       "    u'unk:hostname': u'Gladstone.domain',\n",
       "    u'unk:interpreter': u'2.7.10 (default, Oct 23 2015, 19:19:21) ',\n",
       "    u'unk:platform': u'Darwin-15.5.0-x86_64-i386-64bit',\n",
       "    u'unk:process_id': {u'$': 42064, u'type': u'xsd:int'},\n",
       "    u'unk:sge_job_id': u'100'}},\n",
       "  u'@message': u'create_file3',\n",
       "  u'@source_host': u'withme',\n",
       "  u'@timestamp': u'2016-11-06T10:45:51.928Z',\n",
       "  u'@version': 1,\n",
       "  u'document': u'is:0a16324a-0017-47e9-a727-199d1f3e0fce',\n",
       "  u'host': u'127.0.0.1',\n",
       "  u'instance': u'is:0a16324a-0017-47e9-a727-199d1f3e0fce',\n",
       "  u'port': 56339,\n",
       "  u'prov': u'activity'},\n",
       " {u'@fields': {u'_:id5': {u'prov:activity': u'is:0a16324a-0017-47e9-a727-199d1f3e0fce',\n",
       "    u'prov:entity': u'doc:paf/first_history_test0/cvd_ihd.hdf'}},\n",
       "  u'@message': u'create_file3',\n",
       "  u'@source_host': u'withme',\n",
       "  u'@timestamp': u'2016-11-06T10:45:51.928Z',\n",
       "  u'@version': 1,\n",
       "  u'document': u'is:0a16324a-0017-47e9-a727-199d1f3e0fce',\n",
       "  u'host': u'127.0.0.1',\n",
       "  u'instance': u'_:id5',\n",
       "  u'port': 56339,\n",
       "  u'prov': u'wasGeneratedBy'}]"
      ]
     },
     "execution_count": 43,
     "metadata": {},
     "output_type": "execute_result"
    }
   ],
   "source": [
    "specific_document_logs"
   ]
  },
  {
   "cell_type": "code",
   "execution_count": 44,
   "metadata": {
    "collapsed": false
   },
   "outputs": [
    {
     "data": {
      "text/plain": [
       "361"
      ]
     },
     "execution_count": 44,
     "metadata": {},
     "output_type": "execute_result"
    }
   ],
   "source": [
    "# Does the space of documents account for the total log collection? Let's investigate!\n",
    "document_ids = {log[\"document\"] for log in logs}\n",
    "len(document_ids)"
   ]
  },
  {
   "cell_type": "code",
   "execution_count": 45,
   "metadata": {
    "collapsed": false
   },
   "outputs": [
    {
     "data": {
      "text/plain": [
       "defaultdict(int, {17: 3, 18: 264, 20: 64, 34: 30})"
      ]
     },
     "execution_count": 45,
     "metadata": {},
     "output_type": "execute_result"
    }
   ],
   "source": [
    "def filter_records(logs, field, match_value):\n",
    "    return [log for log in logs if log[field] == match_value]\n",
    "\n",
    "# What's the distribution of number of records per document ID?\n",
    "num_docs_by_record_count = defaultdict(int)\n",
    "for doc_id in document_ids:\n",
    "    num_docs_by_record_count[sum(1 for _ in filter_records(logs, \"document\", doc_id))] += 1\n",
    "num_docs_by_record_count"
   ]
  },
  {
   "cell_type": "code",
   "execution_count": 46,
   "metadata": {
    "collapsed": false
   },
   "outputs": [
    {
     "data": {
      "text/plain": [
       "{u'activity',\n",
       " u'agent',\n",
       " u'entity',\n",
       " u'hadMember',\n",
       " u'prefix',\n",
       " u'used',\n",
       " u'wasAssociatedWith',\n",
       " u'wasGeneratedBy',\n",
       " u'wasInfluencedBy'}"
      ]
     },
     "execution_count": 46,
     "metadata": {},
     "output_type": "execute_result"
    }
   ],
   "source": [
    "{log[\"prov\"] for log in logs}"
   ]
  },
  {
   "cell_type": "code",
   "execution_count": 50,
   "metadata": {
    "collapsed": true
   },
   "outputs": [],
   "source": [
    "# What's the range on timestamps?\n",
    "timestamp_histogram = Counter([log[\"@timestamp\"].split(\".\")[0] for log in logs])"
   ]
  },
  {
   "cell_type": "code",
   "execution_count": 51,
   "metadata": {
    "collapsed": false
   },
   "outputs": [
    {
     "data": {
      "text/plain": [
       "Counter({u'2016-11-06T10:45:51': 18,\n",
       "         u'2016-11-06T10:45:52': 18,\n",
       "         u'2016-11-06T10:45:53': 18,\n",
       "         u'2016-11-06T10:45:54': 36,\n",
       "         u'2016-11-06T10:45:55': 18,\n",
       "         u'2016-11-06T10:45:56': 36,\n",
       "         u'2016-11-06T10:45:57': 20,\n",
       "         u'2016-11-06T10:45:58': 38,\n",
       "         u'2016-11-06T10:45:59': 36,\n",
       "         u'2016-11-06T10:46:00': 36,\n",
       "         u'2016-11-06T10:46:01': 36,\n",
       "         u'2016-11-06T10:46:02': 18,\n",
       "         u'2016-11-06T10:46:03': 40,\n",
       "         u'2016-11-06T10:46:05': 36,\n",
       "         u'2016-11-06T10:46:06': 36,\n",
       "         u'2016-11-06T10:46:07': 36,\n",
       "         u'2016-11-06T10:46:08': 36,\n",
       "         u'2016-11-06T10:46:09': 40,\n",
       "         u'2016-11-06T10:46:10': 18,\n",
       "         u'2016-11-06T10:46:11': 36,\n",
       "         u'2016-11-06T10:46:12': 36,\n",
       "         u'2016-11-06T10:46:13': 54,\n",
       "         u'2016-11-06T10:46:14': 20,\n",
       "         u'2016-11-06T10:46:15': 38,\n",
       "         u'2016-11-06T10:46:16': 36,\n",
       "         u'2016-11-06T10:46:17': 36,\n",
       "         u'2016-11-06T10:46:18': 54,\n",
       "         u'2016-11-06T10:46:19': 20,\n",
       "         u'2016-11-06T10:46:20': 38,\n",
       "         u'2016-11-06T10:46:21': 36,\n",
       "         u'2016-11-06T10:46:22': 36,\n",
       "         u'2016-11-06T10:46:23': 36,\n",
       "         u'2016-11-06T10:46:24': 58,\n",
       "         u'2016-11-06T10:46:25': 36,\n",
       "         u'2016-11-06T10:46:26': 36,\n",
       "         u'2016-11-06T10:46:27': 36,\n",
       "         u'2016-11-06T10:46:28': 36,\n",
       "         u'2016-11-06T10:46:29': 40,\n",
       "         u'2016-11-06T10:46:30': 54,\n",
       "         u'2016-11-06T10:46:31': 36,\n",
       "         u'2016-11-06T10:46:32': 36,\n",
       "         u'2016-11-06T10:46:33': 38,\n",
       "         u'2016-11-06T10:46:34': 38,\n",
       "         u'2016-11-06T10:46:35': 36,\n",
       "         u'2016-11-06T10:46:36': 54,\n",
       "         u'2016-11-06T10:46:37': 36,\n",
       "         u'2016-11-06T10:46:38': 40,\n",
       "         u'2016-11-06T10:46:39': 54,\n",
       "         u'2016-11-06T10:46:40': 36,\n",
       "         u'2016-11-06T10:46:41': 36,\n",
       "         u'2016-11-06T10:46:42': 58,\n",
       "         u'2016-11-06T10:46:43': 340,\n",
       "         u'2016-11-06T11:00:20': 18,\n",
       "         u'2016-11-06T11:00:21': 36,\n",
       "         u'2016-11-06T11:00:22': 18,\n",
       "         u'2016-11-06T11:00:23': 36,\n",
       "         u'2016-11-06T11:00:24': 36,\n",
       "         u'2016-11-06T11:00:25': 58,\n",
       "         u'2016-11-06T11:00:26': 36,\n",
       "         u'2016-11-06T11:00:27': 36,\n",
       "         u'2016-11-06T11:00:28': 36,\n",
       "         u'2016-11-06T11:00:29': 58,\n",
       "         u'2016-11-06T11:00:30': 36,\n",
       "         u'2016-11-06T11:00:31': 36,\n",
       "         u'2016-11-06T11:00:32': 36,\n",
       "         u'2016-11-06T11:00:33': 87,\n",
       "         u'2016-11-06T11:01:17': 18,\n",
       "         u'2016-11-06T11:01:18': 54,\n",
       "         u'2016-11-06T11:01:19': 36,\n",
       "         u'2016-11-06T11:01:20': 36,\n",
       "         u'2016-11-06T11:01:21': 40,\n",
       "         u'2016-11-06T11:01:22': 36,\n",
       "         u'2016-11-06T11:01:23': 54,\n",
       "         u'2016-11-06T11:01:24': 36,\n",
       "         u'2016-11-06T11:01:25': 38,\n",
       "         u'2016-11-06T11:01:26': 56,\n",
       "         u'2016-11-06T11:01:27': 36,\n",
       "         u'2016-11-06T11:01:28': 36,\n",
       "         u'2016-11-06T11:01:29': 56,\n",
       "         u'2016-11-06T11:01:30': 38,\n",
       "         u'2016-11-06T11:01:31': 36,\n",
       "         u'2016-11-06T11:01:32': 36,\n",
       "         u'2016-11-06T11:01:33': 54,\n",
       "         u'2016-11-06T11:01:34': 40,\n",
       "         u'2016-11-06T11:01:35': 36,\n",
       "         u'2016-11-06T11:01:36': 54,\n",
       "         u'2016-11-06T11:01:37': 36,\n",
       "         u'2016-11-06T11:01:38': 38,\n",
       "         u'2016-11-06T11:01:39': 38,\n",
       "         u'2016-11-06T11:01:40': 54,\n",
       "         u'2016-11-06T11:01:41': 36,\n",
       "         u'2016-11-06T11:01:42': 56,\n",
       "         u'2016-11-06T11:01:43': 38,\n",
       "         u'2016-11-06T11:01:44': 54,\n",
       "         u'2016-11-06T11:01:45': 36,\n",
       "         u'2016-11-06T11:01:46': 36,\n",
       "         u'2016-11-06T11:01:47': 58,\n",
       "         u'2016-11-06T11:01:48': 36,\n",
       "         u'2016-11-06T11:01:49': 54,\n",
       "         u'2016-11-06T11:01:50': 36,\n",
       "         u'2016-11-06T11:01:51': 40,\n",
       "         u'2016-11-06T11:01:52': 54,\n",
       "         u'2016-11-06T11:01:53': 36,\n",
       "         u'2016-11-06T11:01:54': 54,\n",
       "         u'2016-11-06T11:01:55': 40,\n",
       "         u'2016-11-06T11:01:56': 54,\n",
       "         u'2016-11-06T11:01:57': 36,\n",
       "         u'2016-11-06T11:01:58': 36,\n",
       "         u'2016-11-06T11:01:59': 58,\n",
       "         u'2016-11-06T11:02:00': 340,\n",
       "         u'2016-11-06T11:04:18': 18,\n",
       "         u'2016-11-06T11:04:19': 18,\n",
       "         u'2016-11-06T11:04:20': 54,\n",
       "         u'2016-11-06T11:04:21': 36,\n",
       "         u'2016-11-06T11:04:22': 58,\n",
       "         u'2016-11-06T11:04:23': 36,\n",
       "         u'2016-11-06T11:04:24': 36,\n",
       "         u'2016-11-06T11:04:25': 36,\n",
       "         u'2016-11-06T11:04:26': 56,\n",
       "         u'2016-11-06T11:04:27': 38,\n",
       "         u'2016-11-06T11:04:28': 54,\n",
       "         u'2016-11-06T11:04:29': 36,\n",
       "         u'2016-11-06T11:04:30': 36,\n",
       "         u'2016-11-06T11:04:31': 58,\n",
       "         u'2016-11-06T11:04:32': 36,\n",
       "         u'2016-11-06T11:04:33': 36,\n",
       "         u'2016-11-06T11:04:34': 54,\n",
       "         u'2016-11-06T11:04:35': 40,\n",
       "         u'2016-11-06T11:04:36': 54,\n",
       "         u'2016-11-06T11:04:37': 36,\n",
       "         u'2016-11-06T11:04:38': 54,\n",
       "         u'2016-11-06T11:04:39': 40,\n",
       "         u'2016-11-06T11:04:40': 18,\n",
       "         u'2016-11-06T11:04:41': 54,\n",
       "         u'2016-11-06T11:04:42': 36,\n",
       "         u'2016-11-06T11:04:43': 36,\n",
       "         u'2016-11-06T11:04:44': 58,\n",
       "         u'2016-11-06T11:04:45': 36,\n",
       "         u'2016-11-06T11:04:46': 54,\n",
       "         u'2016-11-06T11:04:47': 56,\n",
       "         u'2016-11-06T11:04:48': 56,\n",
       "         u'2016-11-06T11:04:49': 36,\n",
       "         u'2016-11-06T11:04:50': 36,\n",
       "         u'2016-11-06T11:04:51': 56,\n",
       "         u'2016-11-06T11:04:52': 56,\n",
       "         u'2016-11-06T11:04:53': 36,\n",
       "         u'2016-11-06T11:04:54': 36,\n",
       "         u'2016-11-06T11:04:55': 56,\n",
       "         u'2016-11-06T11:04:56': 38,\n",
       "         u'2016-11-06T11:04:57': 54,\n",
       "         u'2016-11-06T11:04:58': 36,\n",
       "         u'2016-11-06T11:04:59': 56,\n",
       "         u'2016-11-06T11:05:00': 360})"
      ]
     },
     "execution_count": 51,
     "metadata": {},
     "output_type": "execute_result"
    }
   ],
   "source": [
    "timestamp_histogram"
   ]
  },
  {
   "cell_type": "code",
   "execution_count": 52,
   "metadata": {
    "collapsed": false
   },
   "outputs": [
    {
     "data": {
      "text/plain": [
       "718"
      ]
     },
     "execution_count": 52,
     "metadata": {},
     "output_type": "execute_result"
    }
   ],
   "source": [
    "code_logs = filter(lambda log: log[\"instance\"].startswith(\"code\"), logs)\n",
    "len(code_logs)"
   ]
  },
  {
   "cell_type": "code",
   "execution_count": 53,
   "metadata": {
    "collapsed": false
   },
   "outputs": [
    {
     "data": {
      "text/plain": [
       "7103"
      ]
     },
     "execution_count": 53,
     "metadata": {},
     "output_type": "execute_result"
    }
   ],
   "source": [
    "len(logs)"
   ]
  },
  {
   "cell_type": "code",
   "execution_count": 56,
   "metadata": {
    "collapsed": false
   },
   "outputs": [
    {
     "data": {
      "text/plain": [
       "{u'@fields': {u'code:tests/make_history.py': {u'unk:script': u'/Users/vr24/code/provda/tests/make_history.py',\n",
       "   u'unk:version_branch': u'tinkering',\n",
       "   u'unk:version_branch_hash': u'372d74f21713f47642fc424e7e3289f38b2ed5a0',\n",
       "   u'unk:version_remote': u'https://vr24@stash.ihme.washington.edu/scm/~adolgert/provda.git'},\n",
       "  u'doc:gbd-read/schema/table': {},\n",
       "  u'doc:gbd/first_history_test0/cvd_ihd.hdf': {},\n",
       "  u'doc:paf/first_history_test0/cvd_ihd.hdf': {}},\n",
       " u'@message': u'create_file3',\n",
       " u'@source_host': u'withme',\n",
       " u'@timestamp': u'2016-11-06T10:45:51.927Z',\n",
       " u'@version': 1,\n",
       " u'document': u'is:0a16324a-0017-47e9-a727-199d1f3e0fce',\n",
       " u'host': u'127.0.0.1',\n",
       " u'instance': u'code:tests/make_history.py',\n",
       " u'port': 56339,\n",
       " u'prov': u'entity'}"
      ]
     },
     "execution_count": 56,
     "metadata": {},
     "output_type": "execute_result"
    }
   ],
   "source": [
    "code_logs[0]"
   ]
  },
  {
   "cell_type": "code",
   "execution_count": 67,
   "metadata": {
    "collapsed": true
   },
   "outputs": [],
   "source": [
    "def dt_from_record(record):\n",
    "    dt_text = record[\"@timestamp\"]\n",
    "    return datetime.datetime.strptime(dt_text, \"%Y-%m-%dT%H:%M:%S.%fZ\")"
   ]
  },
  {
   "cell_type": "code",
   "execution_count": 68,
   "metadata": {
    "collapsed": false
   },
   "outputs": [
    {
     "data": {
      "text/plain": [
       "datetime.datetime(2016, 11, 6, 10, 45, 51, 927000)"
      ]
     },
     "execution_count": 68,
     "metadata": {},
     "output_type": "execute_result"
    }
   ],
   "source": [
    "dt_from_record(code_logs[0])"
   ]
  },
  {
   "cell_type": "code",
   "execution_count": 66,
   "metadata": {
    "collapsed": false
   },
   "outputs": [
    {
     "data": {
      "text/plain": [
       "datetime.datetime(2016, 11, 6, 10, 45, 51)"
      ]
     },
     "execution_count": 66,
     "metadata": {},
     "output_type": "execute_result"
    }
   ],
   "source": [
    "datetime.datetime.strptime('2016-11-06T10:45:51Z', '%Y-%m-%dT%H:%M:%SZ')"
   ]
  },
  {
   "cell_type": "code",
   "execution_count": 70,
   "metadata": {
    "collapsed": false
   },
   "outputs": [
    {
     "data": {
      "text/plain": [
       "datetime.datetime(2016, 11, 6, 10, 45, 51, 927000)"
      ]
     },
     "execution_count": 70,
     "metadata": {},
     "output_type": "execute_result"
    }
   ],
   "source": [
    "code_logs_times = sorted(map(dt_from_record, code_logs))\n",
    "code_logs_times[0]"
   ]
  },
  {
   "cell_type": "code",
   "execution_count": 71,
   "metadata": {
    "collapsed": false
   },
   "outputs": [
    {
     "data": {
      "text/plain": [
       "datetime.datetime(2016, 11, 6, 10, 45, 51, 927000)"
      ]
     },
     "execution_count": 71,
     "metadata": {},
     "output_type": "execute_result"
    }
   ],
   "source": [
    "min(code_logs_times)"
   ]
  },
  {
   "cell_type": "code",
   "execution_count": 72,
   "metadata": {
    "collapsed": false
   },
   "outputs": [
    {
     "data": {
      "text/plain": [
       "datetime.datetime(2016, 11, 6, 11, 5, 0, 596000)"
      ]
     },
     "execution_count": 72,
     "metadata": {},
     "output_type": "execute_result"
    }
   ],
   "source": [
    "max(code_logs_times)"
   ]
  },
  {
   "cell_type": "code",
   "execution_count": null,
   "metadata": {
    "collapsed": true
   },
   "outputs": [],
   "source": []
  }
 ],
 "metadata": {
  "kernelspec": {
   "display_name": "Python 2",
   "language": "python",
   "name": "python2"
  },
  "language_info": {
   "codemirror_mode": {
    "name": "ipython",
    "version": 2
   },
   "file_extension": ".py",
   "mimetype": "text/x-python",
   "name": "python",
   "nbconvert_exporter": "python",
   "pygments_lexer": "ipython2",
   "version": "2.7.10"
  }
 },
 "nbformat": 4,
 "nbformat_minor": 1
}
