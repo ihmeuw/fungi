{
 "cells": [
  {
   "cell_type": "code",
   "execution_count": 21,
   "metadata": {
    "collapsed": true
   },
   "outputs": [],
   "source": [
    "from collections import Counter\n",
    "from collections import defaultdict\n",
    "import itertools\n",
    "import json\n",
    "\n",
    "import numpy as np"
   ]
  },
  {
   "cell_type": "code",
   "execution_count": 39,
   "metadata": {
    "collapsed": true
   },
   "outputs": [],
   "source": [
    "# Path to file with JSON provenance documents, one per line.\n",
    "PATH_SAMPLE_DATA = \"/Users/vr24/logstash-5.0.0/make_history_output.log\"\n",
    "RELATIONSHIP_TYPE_KEYNAME = unicode(\"prov\")\n",
    "SEED = 0\n",
    "FIELDS_KEY = \"@fields\"\n",
    "INSTANCE_KEY = \"instance\"\n",
    "DOCUMENT_KEY = \"document\"\n",
    "MESSAGE_KEY = \"@message\""
   ]
  },
  {
   "cell_type": "code",
   "execution_count": 3,
   "metadata": {
    "collapsed": false
   },
   "outputs": [
    {
     "name": "stdout",
     "output_type": "stream",
     "text": [
      "There are 4360 logs.\n"
     ]
    }
   ],
   "source": [
    "# Load and count log records.\n",
    "with open(PATH_SAMPLE_DATA, \"r\") as logfile:\n",
    "    logs = [json.loads(line.strip()) for line in logfile]\n",
    "print(\"There are {} logs.\".format(len(logs)))"
   ]
  },
  {
   "cell_type": "code",
   "execution_count": 4,
   "metadata": {
    "collapsed": false
   },
   "outputs": [
    {
     "data": {
      "text/plain": [
       "{u'activity',\n",
       " u'agent',\n",
       " u'entity',\n",
       " u'hadMember',\n",
       " u'prefix',\n",
       " u'used',\n",
       " u'wasAssociatedWith',\n",
       " u'wasGeneratedBy',\n",
       " u'wasInfluencedBy'}"
      ]
     },
     "execution_count": 4,
     "metadata": {},
     "output_type": "execute_result"
    }
   ],
   "source": [
    "# What's the space of depicted relationships look like?\n",
    "relationship_type_names = {log[RELATIONSHIP_TYPE_KEYNAME] for log in logs}\n",
    "relationship_type_names"
   ]
  },
  {
   "cell_type": "code",
   "execution_count": 13,
   "metadata": {
    "collapsed": false
   },
   "outputs": [
    {
     "data": {
      "text/plain": [
       "array([ {u'@fields': {u'_:id2': {u'prov:agent': u'people:vr24', u'prov:activity': u'is:97e270b8-7fd6-48b0-a8e2-13e1bdde8771'}}, u'prov': u'wasAssociatedWith', u'@timestamp': u'2016-11-06T00:34:29.709Z', u'instance': u'_:id2', u'host': u'127.0.0.1', u'@source_host': u'withme', u'@message': u'create_file3', u'document': u'is:97e270b8-7fd6-48b0-a8e2-13e1bdde8771', u'@version': 1, u'port': 65079},\n",
       "       {u'@fields': {u'doc:gbd-read/schema/table': {}, u'code:tests/make_history.py': {u'unk:version_remote': u'https://vr24@stash.ihme.washington.edu/scm/~adolgert/provda.git', u'unk:version_branch_hash': u'372d74f21713f47642fc424e7e3289f38b2ed5a0', u'unk:script': u'/Users/vr24/code/provda/tests/make_history.py', u'unk:version_branch': u'tinkering'}, u'doc:gbd/first_history_test2/cvd_ihd.hdf': {}, u'doc:paf/first_history_test2/cvd_ihd.hdf': {}}, u'prov': u'entity', u'@timestamp': u'2016-11-06T00:34:26.834Z', u'instance': u'doc:gbd-read/schema/table', u'host': u'127.0.0.1', u'@source_host': u'withme', u'@message': u'create_file3', u'document': u'is:f7a29a86-822b-4b4c-a2b2-425dcbe4a69b', u'@version': 1, u'port': 65072},\n",
       "       {u'@fields': {u'is:1f9c3152-f556-43a9-8b6b-691cf2645558': {u'unk:process_id': {u'type': u'xsd:int', u'$': 37813}, u'unk:command': u'/Users/vr24/virtualenvs/general_personal_dev_env/bin/python', u'unk:group_id': {u'type': u'xsd:int', u'$': 37253}, u'unk:platform': u'Darwin-15.5.0-x86_64-i386-64bit', u'unk:hostname': u'Gladstone.domain', u'unk:interpreter': u'2.7.10 (default, Oct 23 2015, 19:19:21) ', u'unk:args': u'--child combine_scalars --tag first_history_test8', u'unk:date': u'2016-11-05T16:53:45-07:00', u'unk:sge_job_id': u'521'}}, u'prov': u'activity', u'@timestamp': u'2016-11-05T23:53:45.705Z', u'instance': u'is:1f9c3152-f556-43a9-8b6b-691cf2645558', u'host': u'127.0.0.1', u'@source_host': u'withme', u'@message': u'create_file3', u'document': u'is:1f9c3152-f556-43a9-8b6b-691cf2645558', u'@version': 1, u'port': 64766},\n",
       "       {u'@fields': {u'_:id2': {u'prov:agent': u'people:vr24', u'prov:activity': u'is:159a3e8f-0a8b-4b9e-99b1-6d21129dabf3'}}, u'prov': u'wasAssociatedWith', u'@timestamp': u'2016-11-06T00:34:41.743Z', u'instance': u'_:id2', u'host': u'127.0.0.1', u'@source_host': u'withme', u'@message': u'create_file3', u'document': u'is:159a3e8f-0a8b-4b9e-99b1-6d21129dabf3', u'@version': 1, u'port': 65108},\n",
       "       {u'@fields': {u'doc:paf/first_history_test5/cvd_ihd.hdf': {}, u'doc:gbd-read/schema/table': {}, u'code:tests/make_history.py': {u'unk:version_remote': u'https://vr24@stash.ihme.washington.edu/scm/~adolgert/provda.git', u'unk:version_branch_hash': u'372d74f21713f47642fc424e7e3289f38b2ed5a0', u'unk:script': u'/Users/vr24/code/provda/tests/make_history.py', u'unk:version_branch': u'tinkering'}, u'doc:scalar/first_history_test5/cvd_ihd.hdf': {}}, u'prov': u'entity', u'@timestamp': u'2016-11-05T23:53:33.293Z', u'instance': u'doc:paf/first_history_test5/cvd_ihd.hdf', u'host': u'127.0.0.1', u'@source_host': u'withme', u'@message': u'create_file3', u'document': u'is:8ea25586-2194-495f-9b2f-d041f0cf1525', u'@version': 1, u'port': 64733}], dtype=object)"
      ]
     },
     "execution_count": 13,
     "metadata": {},
     "output_type": "execute_result"
    }
   ],
   "source": [
    "# Let's view some random records to see what we're up against.\n",
    "np.random.seed(SEED)\n",
    "sample_logs = np.asarray(logs)[np.random.randint(0, len(logs), 5)]\n",
    "sample_logs"
   ]
  },
  {
   "cell_type": "code",
   "execution_count": 16,
   "metadata": {
    "collapsed": false
   },
   "outputs": [
    {
     "data": {
      "text/plain": [
       "Counter({u'@fields': 4360,\n",
       "         u'@message': 4360,\n",
       "         u'@source_host': 4360,\n",
       "         u'@timestamp': 4360,\n",
       "         u'@version': 4360,\n",
       "         u'document': 4360,\n",
       "         u'host': 4360,\n",
       "         u'instance': 4360,\n",
       "         u'port': 4360,\n",
       "         u'prov': 4360})"
      ]
     },
     "execution_count": 16,
     "metadata": {},
     "output_type": "execute_result"
    }
   ],
   "source": [
    "# What's the total space of possible record fields?\n",
    "# In how many records is each field present?\n",
    "records_fields_histogram = Counter()\n",
    "for log in logs:\n",
    "    records_fields_histogram.update(log.keys())\n",
    "records_fields_histogram"
   ]
  },
  {
   "cell_type": "code",
   "execution_count": 18,
   "metadata": {
    "collapsed": false
   },
   "outputs": [
    {
     "data": {
      "text/plain": [
       "Counter({'activity': 220,\n",
       "         'agent': 220,\n",
       "         'entity': 1080,\n",
       "         'hadMember': 200,\n",
       "         'prefix': 1540,\n",
       "         'used': 620,\n",
       "         'wasAssociatedWith': 220,\n",
       "         'wasGeneratedBy': 240,\n",
       "         'wasInfluencedBy': 20})"
      ]
     },
     "execution_count": 18,
     "metadata": {},
     "output_type": "execute_result"
    }
   ],
   "source": [
    "# Excellent, we have a standard at the record level!\n",
    "# What does the distribution of provenance document type name look like?\n",
    "log_type_histogram = Counter(str(log[RELATIONSHIP_TYPE_KEYNAME]) for log in logs)\n",
    "log_type_histogram"
   ]
  },
  {
   "cell_type": "code",
   "execution_count": 20,
   "metadata": {
    "collapsed": false
   },
   "outputs": [
    {
     "data": {
      "text/plain": [
       "{u'activity': [{u'@fields': {u'is:21090197-6cce-4b66-8bc9-12e03029d84e': {u'unk:args': u'--child calculate_pafs --tag first_history_test0',\n",
       "     u'unk:command': u'/Users/vr24/virtualenvs/general_personal_dev_env/bin/python',\n",
       "     u'unk:date': u'2016-11-05T16:53:06-07:00',\n",
       "     u'unk:group_id': {u'$': 37253, u'type': u'xsd:int'},\n",
       "     u'unk:hostname': u'Gladstone.domain',\n",
       "     u'unk:interpreter': u'2.7.10 (default, Oct 23 2015, 19:19:21) ',\n",
       "     u'unk:platform': u'Darwin-15.5.0-x86_64-i386-64bit',\n",
       "     u'unk:process_id': {u'$': 37260, u'type': u'xsd:int'},\n",
       "     u'unk:sge_job_id': u'100'}},\n",
       "   u'@message': u'create_file3',\n",
       "   u'@source_host': u'withme',\n",
       "   u'@timestamp': u'2016-11-05T23:53:07.028Z',\n",
       "   u'@version': 1,\n",
       "   u'document': u'is:21090197-6cce-4b66-8bc9-12e03029d84e',\n",
       "   u'host': u'127.0.0.1',\n",
       "   u'instance': u'is:21090197-6cce-4b66-8bc9-12e03029d84e',\n",
       "   u'port': 64675,\n",
       "   u'prov': u'activity'},\n",
       "  {u'@fields': {u'is:88a9ac0e-c9aa-408f-8f16-5b2e964d3661': {u'unk:args': u'--child calculate_pafs --tag first_history_test0',\n",
       "     u'unk:command': u'/Users/vr24/virtualenvs/general_personal_dev_env/bin/python',\n",
       "     u'unk:date': u'2016-11-05T16:53:07-07:00',\n",
       "     u'unk:group_id': {u'$': 37253, u'type': u'xsd:int'},\n",
       "     u'unk:hostname': u'Gladstone.domain',\n",
       "     u'unk:interpreter': u'2.7.10 (default, Oct 23 2015, 19:19:21) ',\n",
       "     u'unk:platform': u'Darwin-15.5.0-x86_64-i386-64bit',\n",
       "     u'unk:process_id': {u'$': 37266, u'type': u'xsd:int'},\n",
       "     u'unk:sge_job_id': u'101'}},\n",
       "   u'@message': u'create_file3',\n",
       "   u'@source_host': u'withme',\n",
       "   u'@timestamp': u'2016-11-05T23:53:07.526Z',\n",
       "   u'@version': 1,\n",
       "   u'document': u'is:88a9ac0e-c9aa-408f-8f16-5b2e964d3661',\n",
       "   u'host': u'127.0.0.1',\n",
       "   u'instance': u'is:88a9ac0e-c9aa-408f-8f16-5b2e964d3661',\n",
       "   u'port': 64676,\n",
       "   u'prov': u'activity'},\n",
       "  {u'@fields': {u'is:48d9015b-edd9-4c4d-9a4b-42b171fa543d': {u'unk:args': u'--child calculate_pafs --tag first_history_test0',\n",
       "     u'unk:command': u'/Users/vr24/virtualenvs/general_personal_dev_env/bin/python',\n",
       "     u'unk:date': u'2016-11-05T16:53:07-07:00',\n",
       "     u'unk:group_id': {u'$': 37253, u'type': u'xsd:int'},\n",
       "     u'unk:hostname': u'Gladstone.domain',\n",
       "     u'unk:interpreter': u'2.7.10 (default, Oct 23 2015, 19:19:21) ',\n",
       "     u'unk:platform': u'Darwin-15.5.0-x86_64-i386-64bit',\n",
       "     u'unk:process_id': {u'$': 37272, u'type': u'xsd:int'},\n",
       "     u'unk:sge_job_id': u'102'}},\n",
       "   u'@message': u'create_file3',\n",
       "   u'@source_host': u'withme',\n",
       "   u'@timestamp': u'2016-11-05T23:53:08.252Z',\n",
       "   u'@version': 1,\n",
       "   u'document': u'is:48d9015b-edd9-4c4d-9a4b-42b171fa543d',\n",
       "   u'host': u'127.0.0.1',\n",
       "   u'instance': u'is:48d9015b-edd9-4c4d-9a4b-42b171fa543d',\n",
       "   u'port': 64677,\n",
       "   u'prov': u'activity'}],\n",
       " u'agent': [{u'@fields': {u'people:vr24': {u'unk:fullname': u'Vincent Reuter',\n",
       "     u'unk:homedir': u'/Users/vr24'}},\n",
       "   u'@message': u'create_file3',\n",
       "   u'@source_host': u'withme',\n",
       "   u'@timestamp': u'2016-11-05T23:53:07.027Z',\n",
       "   u'@version': 1,\n",
       "   u'document': u'is:21090197-6cce-4b66-8bc9-12e03029d84e',\n",
       "   u'host': u'127.0.0.1',\n",
       "   u'instance': u'people:vr24',\n",
       "   u'port': 64675,\n",
       "   u'prov': u'agent'},\n",
       "  {u'@fields': {u'people:vr24': {u'unk:fullname': u'Vincent Reuter',\n",
       "     u'unk:homedir': u'/Users/vr24'}},\n",
       "   u'@message': u'create_file3',\n",
       "   u'@source_host': u'withme',\n",
       "   u'@timestamp': u'2016-11-05T23:53:07.525Z',\n",
       "   u'@version': 1,\n",
       "   u'document': u'is:88a9ac0e-c9aa-408f-8f16-5b2e964d3661',\n",
       "   u'host': u'127.0.0.1',\n",
       "   u'instance': u'people:vr24',\n",
       "   u'port': 64676,\n",
       "   u'prov': u'agent'},\n",
       "  {u'@fields': {u'people:vr24': {u'unk:fullname': u'Vincent Reuter',\n",
       "     u'unk:homedir': u'/Users/vr24'}},\n",
       "   u'@message': u'create_file3',\n",
       "   u'@source_host': u'withme',\n",
       "   u'@timestamp': u'2016-11-05T23:53:08.250Z',\n",
       "   u'@version': 1,\n",
       "   u'document': u'is:48d9015b-edd9-4c4d-9a4b-42b171fa543d',\n",
       "   u'host': u'127.0.0.1',\n",
       "   u'instance': u'people:vr24',\n",
       "   u'port': 64677,\n",
       "   u'prov': u'agent'}],\n",
       " u'entity': [{u'@fields': {u'code:tests/make_history.py': {u'unk:script': u'/Users/vr24/code/provda/tests/make_history.py',\n",
       "     u'unk:version_branch': u'tinkering',\n",
       "     u'unk:version_branch_hash': u'372d74f21713f47642fc424e7e3289f38b2ed5a0',\n",
       "     u'unk:version_remote': u'https://vr24@stash.ihme.washington.edu/scm/~adolgert/provda.git'},\n",
       "    u'doc:gbd-read/schema/table': {},\n",
       "    u'doc:gbd/first_history_test0/cvd_ihd.hdf': {},\n",
       "    u'doc:paf/first_history_test0/cvd_ihd.hdf': {}},\n",
       "   u'@message': u'create_file3',\n",
       "   u'@source_host': u'withme',\n",
       "   u'@timestamp': u'2016-11-05T23:53:07.027Z',\n",
       "   u'@version': 1,\n",
       "   u'document': u'is:21090197-6cce-4b66-8bc9-12e03029d84e',\n",
       "   u'host': u'127.0.0.1',\n",
       "   u'instance': u'doc:gbd-read/schema/table',\n",
       "   u'port': 64675,\n",
       "   u'prov': u'entity'},\n",
       "  {u'@fields': {u'code:tests/make_history.py': {u'unk:script': u'/Users/vr24/code/provda/tests/make_history.py',\n",
       "     u'unk:version_branch': u'tinkering',\n",
       "     u'unk:version_branch_hash': u'372d74f21713f47642fc424e7e3289f38b2ed5a0',\n",
       "     u'unk:version_remote': u'https://vr24@stash.ihme.washington.edu/scm/~adolgert/provda.git'},\n",
       "    u'doc:gbd-read/schema/table': {},\n",
       "    u'doc:gbd/first_history_test0/cvd_ihd.hdf': {},\n",
       "    u'doc:paf/first_history_test0/cvd_ihd.hdf': {}},\n",
       "   u'@message': u'create_file3',\n",
       "   u'@source_host': u'withme',\n",
       "   u'@timestamp': u'2016-11-05T23:53:07.027Z',\n",
       "   u'@version': 1,\n",
       "   u'document': u'is:21090197-6cce-4b66-8bc9-12e03029d84e',\n",
       "   u'host': u'127.0.0.1',\n",
       "   u'instance': u'doc:gbd/first_history_test0/cvd_ihd.hdf',\n",
       "   u'port': 64675,\n",
       "   u'prov': u'entity'},\n",
       "  {u'@fields': {u'code:tests/make_history.py': {u'unk:script': u'/Users/vr24/code/provda/tests/make_history.py',\n",
       "     u'unk:version_branch': u'tinkering',\n",
       "     u'unk:version_branch_hash': u'372d74f21713f47642fc424e7e3289f38b2ed5a0',\n",
       "     u'unk:version_remote': u'https://vr24@stash.ihme.washington.edu/scm/~adolgert/provda.git'},\n",
       "    u'doc:gbd-read/schema/table': {},\n",
       "    u'doc:gbd/first_history_test0/cvd_ihd.hdf': {},\n",
       "    u'doc:paf/first_history_test0/cvd_ihd.hdf': {}},\n",
       "   u'@message': u'create_file3',\n",
       "   u'@source_host': u'withme',\n",
       "   u'@timestamp': u'2016-11-05T23:53:07.028Z',\n",
       "   u'@version': 1,\n",
       "   u'document': u'is:21090197-6cce-4b66-8bc9-12e03029d84e',\n",
       "   u'host': u'127.0.0.1',\n",
       "   u'instance': u'code:tests/make_history.py',\n",
       "   u'port': 64675,\n",
       "   u'prov': u'entity'}],\n",
       " u'hadMember': [{u'@fields': {u'_:id10': {u'prov:collection': u'unk:processcollection',\n",
       "     u'prov:entity': u'doc:562'},\n",
       "    u'_:id11': {u'prov:collection': u'unk:processcollection',\n",
       "     u'prov:entity': u'doc:563'},\n",
       "    u'_:id12': {u'prov:collection': u'unk:processcollection',\n",
       "     u'prov:entity': u'doc:570'},\n",
       "    u'_:id13': {u'prov:collection': u'unk:processcollection',\n",
       "     u'prov:entity': u'doc:571'},\n",
       "    u'_:id3': {u'prov:collection': u'unk:processcollection',\n",
       "     u'prov:entity': u'doc:550'},\n",
       "    u'_:id4': {u'prov:collection': u'unk:processcollection',\n",
       "     u'prov:entity': u'doc:551'},\n",
       "    u'_:id5': {u'prov:collection': u'unk:processcollection',\n",
       "     u'prov:entity': u'doc:552'},\n",
       "    u'_:id6': {u'prov:collection': u'unk:processcollection',\n",
       "     u'prov:entity': u'doc:553'},\n",
       "    u'_:id8': {u'prov:collection': u'unk:processcollection',\n",
       "     u'prov:entity': u'doc:560'},\n",
       "    u'_:id9': {u'prov:collection': u'unk:processcollection',\n",
       "     u'prov:entity': u'doc:561'}},\n",
       "   u'@message': u'create_file3',\n",
       "   u'@source_host': u'withme',\n",
       "   u'@timestamp': u'2016-11-05T23:53:49.698Z',\n",
       "   u'@version': 1,\n",
       "   u'document': u'is:0bf9b8ca-4cee-420b-a7cc-b9ab2da9aed3',\n",
       "   u'host': u'127.0.0.1',\n",
       "   u'instance': u'_:id5',\n",
       "   u'port': 64779,\n",
       "   u'prov': u'hadMember'},\n",
       "  {u'@fields': {u'_:id10': {u'prov:collection': u'unk:processcollection',\n",
       "     u'prov:entity': u'doc:562'},\n",
       "    u'_:id11': {u'prov:collection': u'unk:processcollection',\n",
       "     u'prov:entity': u'doc:563'},\n",
       "    u'_:id12': {u'prov:collection': u'unk:processcollection',\n",
       "     u'prov:entity': u'doc:570'},\n",
       "    u'_:id13': {u'prov:collection': u'unk:processcollection',\n",
       "     u'prov:entity': u'doc:571'},\n",
       "    u'_:id3': {u'prov:collection': u'unk:processcollection',\n",
       "     u'prov:entity': u'doc:550'},\n",
       "    u'_:id4': {u'prov:collection': u'unk:processcollection',\n",
       "     u'prov:entity': u'doc:551'},\n",
       "    u'_:id5': {u'prov:collection': u'unk:processcollection',\n",
       "     u'prov:entity': u'doc:552'},\n",
       "    u'_:id6': {u'prov:collection': u'unk:processcollection',\n",
       "     u'prov:entity': u'doc:553'},\n",
       "    u'_:id8': {u'prov:collection': u'unk:processcollection',\n",
       "     u'prov:entity': u'doc:560'},\n",
       "    u'_:id9': {u'prov:collection': u'unk:processcollection',\n",
       "     u'prov:entity': u'doc:561'}},\n",
       "   u'@message': u'create_file3',\n",
       "   u'@source_host': u'withme',\n",
       "   u'@timestamp': u'2016-11-05T23:53:49.698Z',\n",
       "   u'@version': 1,\n",
       "   u'document': u'is:0bf9b8ca-4cee-420b-a7cc-b9ab2da9aed3',\n",
       "   u'host': u'127.0.0.1',\n",
       "   u'instance': u'_:id4',\n",
       "   u'port': 64779,\n",
       "   u'prov': u'hadMember'},\n",
       "  {u'@fields': {u'_:id10': {u'prov:collection': u'unk:processcollection',\n",
       "     u'prov:entity': u'doc:562'},\n",
       "    u'_:id11': {u'prov:collection': u'unk:processcollection',\n",
       "     u'prov:entity': u'doc:563'},\n",
       "    u'_:id12': {u'prov:collection': u'unk:processcollection',\n",
       "     u'prov:entity': u'doc:570'},\n",
       "    u'_:id13': {u'prov:collection': u'unk:processcollection',\n",
       "     u'prov:entity': u'doc:571'},\n",
       "    u'_:id3': {u'prov:collection': u'unk:processcollection',\n",
       "     u'prov:entity': u'doc:550'},\n",
       "    u'_:id4': {u'prov:collection': u'unk:processcollection',\n",
       "     u'prov:entity': u'doc:551'},\n",
       "    u'_:id5': {u'prov:collection': u'unk:processcollection',\n",
       "     u'prov:entity': u'doc:552'},\n",
       "    u'_:id6': {u'prov:collection': u'unk:processcollection',\n",
       "     u'prov:entity': u'doc:553'},\n",
       "    u'_:id8': {u'prov:collection': u'unk:processcollection',\n",
       "     u'prov:entity': u'doc:560'},\n",
       "    u'_:id9': {u'prov:collection': u'unk:processcollection',\n",
       "     u'prov:entity': u'doc:561'}},\n",
       "   u'@message': u'create_file3',\n",
       "   u'@source_host': u'withme',\n",
       "   u'@timestamp': u'2016-11-05T23:53:49.698Z',\n",
       "   u'@version': 1,\n",
       "   u'document': u'is:0bf9b8ca-4cee-420b-a7cc-b9ab2da9aed3',\n",
       "   u'host': u'127.0.0.1',\n",
       "   u'instance': u'_:id6',\n",
       "   u'port': 64779,\n",
       "   u'prov': u'hadMember'}],\n",
       " u'prefix': [{u'@fields': {u'code': u'https://healthdata.org/code',\n",
       "    u'dct': u'http://purl.org/dc/terms/',\n",
       "    u'doc': u'https://healthdata.org/document',\n",
       "    u'foaf': u'http://xmlns.com/foaf/0.1/',\n",
       "    u'is': u'https://healthdata.org/instances',\n",
       "    u'people': u'https://healthdata.org/people',\n",
       "    u'unk': u'http://example.com/unknown'},\n",
       "   u'@message': u'create_file3',\n",
       "   u'@source_host': u'withme',\n",
       "   u'@timestamp': u'2016-11-05T23:53:07.028Z',\n",
       "   u'@version': 1,\n",
       "   u'document': u'is:21090197-6cce-4b66-8bc9-12e03029d84e',\n",
       "   u'host': u'127.0.0.1',\n",
       "   u'instance': u'foaf',\n",
       "   u'port': 64675,\n",
       "   u'prov': u'prefix'},\n",
       "  {u'@fields': {u'code': u'https://healthdata.org/code',\n",
       "    u'dct': u'http://purl.org/dc/terms/',\n",
       "    u'doc': u'https://healthdata.org/document',\n",
       "    u'foaf': u'http://xmlns.com/foaf/0.1/',\n",
       "    u'is': u'https://healthdata.org/instances',\n",
       "    u'people': u'https://healthdata.org/people',\n",
       "    u'unk': u'http://example.com/unknown'},\n",
       "   u'@message': u'create_file3',\n",
       "   u'@source_host': u'withme',\n",
       "   u'@timestamp': u'2016-11-05T23:53:07.028Z',\n",
       "   u'@version': 1,\n",
       "   u'document': u'is:21090197-6cce-4b66-8bc9-12e03029d84e',\n",
       "   u'host': u'127.0.0.1',\n",
       "   u'instance': u'code',\n",
       "   u'port': 64675,\n",
       "   u'prov': u'prefix'},\n",
       "  {u'@fields': {u'code': u'https://healthdata.org/code',\n",
       "    u'dct': u'http://purl.org/dc/terms/',\n",
       "    u'doc': u'https://healthdata.org/document',\n",
       "    u'foaf': u'http://xmlns.com/foaf/0.1/',\n",
       "    u'is': u'https://healthdata.org/instances',\n",
       "    u'people': u'https://healthdata.org/people',\n",
       "    u'unk': u'http://example.com/unknown'},\n",
       "   u'@message': u'create_file3',\n",
       "   u'@source_host': u'withme',\n",
       "   u'@timestamp': u'2016-11-05T23:53:07.028Z',\n",
       "   u'@version': 1,\n",
       "   u'document': u'is:21090197-6cce-4b66-8bc9-12e03029d84e',\n",
       "   u'host': u'127.0.0.1',\n",
       "   u'instance': u'people',\n",
       "   u'port': 64675,\n",
       "   u'prov': u'prefix'}],\n",
       " u'used': [{u'@fields': {u'_:id1': {u'prov:activity': u'is:21090197-6cce-4b66-8bc9-12e03029d84e',\n",
       "     u'prov:entity': u'code:tests/make_history.py'},\n",
       "    u'_:id3': {u'prov:activity': u'is:21090197-6cce-4b66-8bc9-12e03029d84e',\n",
       "     u'prov:entity': u'doc:gbd/first_history_test0/cvd_ihd.hdf'},\n",
       "    u'_:id4': {u'prov:activity': u'is:21090197-6cce-4b66-8bc9-12e03029d84e',\n",
       "     u'prov:entity': u'doc:gbd-read/schema/table'}},\n",
       "   u'@message': u'create_file3',\n",
       "   u'@source_host': u'withme',\n",
       "   u'@timestamp': u'2016-11-05T23:53:07.027Z',\n",
       "   u'@version': 1,\n",
       "   u'document': u'is:21090197-6cce-4b66-8bc9-12e03029d84e',\n",
       "   u'host': u'127.0.0.1',\n",
       "   u'instance': u'_:id4',\n",
       "   u'port': 64675,\n",
       "   u'prov': u'used'},\n",
       "  {u'@fields': {u'_:id1': {u'prov:activity': u'is:21090197-6cce-4b66-8bc9-12e03029d84e',\n",
       "     u'prov:entity': u'code:tests/make_history.py'},\n",
       "    u'_:id3': {u'prov:activity': u'is:21090197-6cce-4b66-8bc9-12e03029d84e',\n",
       "     u'prov:entity': u'doc:gbd/first_history_test0/cvd_ihd.hdf'},\n",
       "    u'_:id4': {u'prov:activity': u'is:21090197-6cce-4b66-8bc9-12e03029d84e',\n",
       "     u'prov:entity': u'doc:gbd-read/schema/table'}},\n",
       "   u'@message': u'create_file3',\n",
       "   u'@source_host': u'withme',\n",
       "   u'@timestamp': u'2016-11-05T23:53:07.027Z',\n",
       "   u'@version': 1,\n",
       "   u'document': u'is:21090197-6cce-4b66-8bc9-12e03029d84e',\n",
       "   u'host': u'127.0.0.1',\n",
       "   u'instance': u'_:id1',\n",
       "   u'port': 64675,\n",
       "   u'prov': u'used'},\n",
       "  {u'@fields': {u'_:id1': {u'prov:activity': u'is:21090197-6cce-4b66-8bc9-12e03029d84e',\n",
       "     u'prov:entity': u'code:tests/make_history.py'},\n",
       "    u'_:id3': {u'prov:activity': u'is:21090197-6cce-4b66-8bc9-12e03029d84e',\n",
       "     u'prov:entity': u'doc:gbd/first_history_test0/cvd_ihd.hdf'},\n",
       "    u'_:id4': {u'prov:activity': u'is:21090197-6cce-4b66-8bc9-12e03029d84e',\n",
       "     u'prov:entity': u'doc:gbd-read/schema/table'}},\n",
       "   u'@message': u'create_file3',\n",
       "   u'@source_host': u'withme',\n",
       "   u'@timestamp': u'2016-11-05T23:53:07.027Z',\n",
       "   u'@version': 1,\n",
       "   u'document': u'is:21090197-6cce-4b66-8bc9-12e03029d84e',\n",
       "   u'host': u'127.0.0.1',\n",
       "   u'instance': u'_:id3',\n",
       "   u'port': 64675,\n",
       "   u'prov': u'used'}],\n",
       " u'wasAssociatedWith': [{u'@fields': {u'_:id2': {u'prov:activity': u'is:21090197-6cce-4b66-8bc9-12e03029d84e',\n",
       "     u'prov:agent': u'people:vr24'}},\n",
       "   u'@message': u'create_file3',\n",
       "   u'@source_host': u'withme',\n",
       "   u'@timestamp': u'2016-11-05T23:53:07.027Z',\n",
       "   u'@version': 1,\n",
       "   u'document': u'is:21090197-6cce-4b66-8bc9-12e03029d84e',\n",
       "   u'host': u'127.0.0.1',\n",
       "   u'instance': u'_:id2',\n",
       "   u'port': 64675,\n",
       "   u'prov': u'wasAssociatedWith'},\n",
       "  {u'@fields': {u'_:id2': {u'prov:activity': u'is:88a9ac0e-c9aa-408f-8f16-5b2e964d3661',\n",
       "     u'prov:agent': u'people:vr24'}},\n",
       "   u'@message': u'create_file3',\n",
       "   u'@source_host': u'withme',\n",
       "   u'@timestamp': u'2016-11-05T23:53:07.525Z',\n",
       "   u'@version': 1,\n",
       "   u'document': u'is:88a9ac0e-c9aa-408f-8f16-5b2e964d3661',\n",
       "   u'host': u'127.0.0.1',\n",
       "   u'instance': u'_:id2',\n",
       "   u'port': 64676,\n",
       "   u'prov': u'wasAssociatedWith'},\n",
       "  {u'@fields': {u'_:id2': {u'prov:activity': u'is:48d9015b-edd9-4c4d-9a4b-42b171fa543d',\n",
       "     u'prov:agent': u'people:vr24'}},\n",
       "   u'@message': u'create_file3',\n",
       "   u'@source_host': u'withme',\n",
       "   u'@timestamp': u'2016-11-05T23:53:08.249Z',\n",
       "   u'@version': 1,\n",
       "   u'document': u'is:48d9015b-edd9-4c4d-9a4b-42b171fa543d',\n",
       "   u'host': u'127.0.0.1',\n",
       "   u'instance': u'_:id2',\n",
       "   u'port': 64677,\n",
       "   u'prov': u'wasAssociatedWith'}],\n",
       " u'wasGeneratedBy': [{u'@fields': {u'_:id5': {u'prov:activity': u'is:21090197-6cce-4b66-8bc9-12e03029d84e',\n",
       "     u'prov:entity': u'doc:paf/first_history_test0/cvd_ihd.hdf'}},\n",
       "   u'@message': u'create_file3',\n",
       "   u'@source_host': u'withme',\n",
       "   u'@timestamp': u'2016-11-05T23:53:07.028Z',\n",
       "   u'@version': 1,\n",
       "   u'document': u'is:21090197-6cce-4b66-8bc9-12e03029d84e',\n",
       "   u'host': u'127.0.0.1',\n",
       "   u'instance': u'_:id5',\n",
       "   u'port': 64675,\n",
       "   u'prov': u'wasGeneratedBy'},\n",
       "  {u'@fields': {u'_:id5': {u'prov:activity': u'is:88a9ac0e-c9aa-408f-8f16-5b2e964d3661',\n",
       "     u'prov:entity': u'doc:paf/first_history_test0/cvd_ihd.hdf'}},\n",
       "   u'@message': u'create_file3',\n",
       "   u'@source_host': u'withme',\n",
       "   u'@timestamp': u'2016-11-05T23:53:07.526Z',\n",
       "   u'@version': 1,\n",
       "   u'document': u'is:88a9ac0e-c9aa-408f-8f16-5b2e964d3661',\n",
       "   u'host': u'127.0.0.1',\n",
       "   u'instance': u'_:id5',\n",
       "   u'port': 64676,\n",
       "   u'prov': u'wasGeneratedBy'},\n",
       "  {u'@fields': {u'_:id5': {u'prov:activity': u'is:48d9015b-edd9-4c4d-9a4b-42b171fa543d',\n",
       "     u'prov:entity': u'doc:paf/first_history_test0/cvd_ihd.hdf'}},\n",
       "   u'@message': u'create_file3',\n",
       "   u'@source_host': u'withme',\n",
       "   u'@timestamp': u'2016-11-05T23:53:08.263Z',\n",
       "   u'@version': 1,\n",
       "   u'document': u'is:48d9015b-edd9-4c4d-9a4b-42b171fa543d',\n",
       "   u'host': u'127.0.0.1',\n",
       "   u'instance': u'_:id5',\n",
       "   u'port': 64677,\n",
       "   u'prov': u'wasGeneratedBy'}],\n",
       " u'wasInfluencedBy': [{u'@fields': {u'_:id7': [{u'prov:influencee': u'unk:processcollection',\n",
       "      u'prov:influencer': u'is:0bf9b8ca-4cee-420b-a7cc-b9ab2da9aed3'},\n",
       "     {u'prov:influencee': u'unk:processcollection',\n",
       "      u'prov:influencer': u'is:0bf9b8ca-4cee-420b-a7cc-b9ab2da9aed3'},\n",
       "     {u'prov:influencee': u'unk:processcollection',\n",
       "      u'prov:influencer': u'is:0bf9b8ca-4cee-420b-a7cc-b9ab2da9aed3'}]},\n",
       "   u'@message': u'create_file3',\n",
       "   u'@source_host': u'withme',\n",
       "   u'@timestamp': u'2016-11-05T23:53:49.701Z',\n",
       "   u'@version': 1,\n",
       "   u'document': u'is:0bf9b8ca-4cee-420b-a7cc-b9ab2da9aed3',\n",
       "   u'host': u'127.0.0.1',\n",
       "   u'instance': u'_:id7',\n",
       "   u'port': 64779,\n",
       "   u'prov': u'wasInfluencedBy'},\n",
       "  {u'@fields': {u'_:id7': [{u'prov:influencee': u'unk:processcollection',\n",
       "      u'prov:influencer': u'is:659a74ce-47b0-4cb8-acec-2bb475c45ddf'},\n",
       "     {u'prov:influencee': u'unk:processcollection',\n",
       "      u'prov:influencer': u'is:659a74ce-47b0-4cb8-acec-2bb475c45ddf'},\n",
       "     {u'prov:influencee': u'unk:processcollection',\n",
       "      u'prov:influencer': u'is:659a74ce-47b0-4cb8-acec-2bb475c45ddf'}]},\n",
       "   u'@message': u'create_file3',\n",
       "   u'@source_host': u'withme',\n",
       "   u'@timestamp': u'2016-11-05T23:53:49.716Z',\n",
       "   u'@version': 1,\n",
       "   u'document': u'is:659a74ce-47b0-4cb8-acec-2bb475c45ddf',\n",
       "   u'host': u'127.0.0.1',\n",
       "   u'instance': u'_:id7',\n",
       "   u'port': 64780,\n",
       "   u'prov': u'wasInfluencedBy'},\n",
       "  {u'@fields': {u'_:id7': [{u'prov:influencee': u'unk:processcollection',\n",
       "      u'prov:influencer': u'is:40ceea95-762f-4060-8e47-75892c34660d'},\n",
       "     {u'prov:influencee': u'unk:processcollection',\n",
       "      u'prov:influencer': u'is:40ceea95-762f-4060-8e47-75892c34660d'},\n",
       "     {u'prov:influencee': u'unk:processcollection',\n",
       "      u'prov:influencer': u'is:40ceea95-762f-4060-8e47-75892c34660d'}]},\n",
       "   u'@message': u'create_file3',\n",
       "   u'@source_host': u'withme',\n",
       "   u'@timestamp': u'2016-11-05T23:53:49.746Z',\n",
       "   u'@version': 1,\n",
       "   u'document': u'is:40ceea95-762f-4060-8e47-75892c34660d',\n",
       "   u'host': u'127.0.0.1',\n",
       "   u'instance': u'_:id7',\n",
       "   u'port': 64781,\n",
       "   u'prov': u'wasInfluencedBy'}]}"
      ]
     },
     "execution_count": 20,
     "metadata": {},
     "output_type": "execute_result"
    }
   ],
   "source": [
    "# OK, we could consider using the provenance document type as the type within the ES index.\n",
    "# Let's get a trio of log record samples for each of the document types.\n",
    "logs_by_type = defaultdict(list)\n",
    "for log in logs:\n",
    "    logs_by_type[log[RELATIONSHIP_TYPE_KEYNAME]].append(log)\n",
    "log_trio_by_type = {log_type: logs[:3] for log_type, logs in logs_by_type.items()}\n",
    "log_trio_by_type"
   ]
  },
  {
   "cell_type": "code",
   "execution_count": 29,
   "metadata": {
    "collapsed": false
   },
   "outputs": [
    {
     "data": {
      "text/plain": [
       "{u'activity': {u'is:21090197-6cce-4b66-8bc9-12e03029d84e': {u'unk:args': u'--child calculate_pafs --tag first_history_test0',\n",
       "   u'unk:command': u'/Users/vr24/virtualenvs/general_personal_dev_env/bin/python',\n",
       "   u'unk:date': u'2016-11-05T16:53:06-07:00',\n",
       "   u'unk:group_id': {u'$': 37253, u'type': u'xsd:int'},\n",
       "   u'unk:hostname': u'Gladstone.domain',\n",
       "   u'unk:interpreter': u'2.7.10 (default, Oct 23 2015, 19:19:21) ',\n",
       "   u'unk:platform': u'Darwin-15.5.0-x86_64-i386-64bit',\n",
       "   u'unk:process_id': {u'$': 37260, u'type': u'xsd:int'},\n",
       "   u'unk:sge_job_id': u'100'}},\n",
       " u'agent': {u'people:vr24': {u'unk:fullname': u'Vincent Reuter',\n",
       "   u'unk:homedir': u'/Users/vr24'}},\n",
       " u'entity': {u'code:tests/make_history.py': {u'unk:script': u'/Users/vr24/code/provda/tests/make_history.py',\n",
       "   u'unk:version_branch': u'tinkering',\n",
       "   u'unk:version_branch_hash': u'372d74f21713f47642fc424e7e3289f38b2ed5a0',\n",
       "   u'unk:version_remote': u'https://vr24@stash.ihme.washington.edu/scm/~adolgert/provda.git'},\n",
       "  u'doc:gbd-read/schema/table': {},\n",
       "  u'doc:gbd/first_history_test0/cvd_ihd.hdf': {},\n",
       "  u'doc:paf/first_history_test0/cvd_ihd.hdf': {}},\n",
       " u'hadMember': {u'_:id10': {u'prov:collection': u'unk:processcollection',\n",
       "   u'prov:entity': u'doc:562'},\n",
       "  u'_:id11': {u'prov:collection': u'unk:processcollection',\n",
       "   u'prov:entity': u'doc:563'},\n",
       "  u'_:id12': {u'prov:collection': u'unk:processcollection',\n",
       "   u'prov:entity': u'doc:570'},\n",
       "  u'_:id13': {u'prov:collection': u'unk:processcollection',\n",
       "   u'prov:entity': u'doc:571'},\n",
       "  u'_:id3': {u'prov:collection': u'unk:processcollection',\n",
       "   u'prov:entity': u'doc:550'},\n",
       "  u'_:id4': {u'prov:collection': u'unk:processcollection',\n",
       "   u'prov:entity': u'doc:551'},\n",
       "  u'_:id5': {u'prov:collection': u'unk:processcollection',\n",
       "   u'prov:entity': u'doc:552'},\n",
       "  u'_:id6': {u'prov:collection': u'unk:processcollection',\n",
       "   u'prov:entity': u'doc:553'},\n",
       "  u'_:id8': {u'prov:collection': u'unk:processcollection',\n",
       "   u'prov:entity': u'doc:560'},\n",
       "  u'_:id9': {u'prov:collection': u'unk:processcollection',\n",
       "   u'prov:entity': u'doc:561'}},\n",
       " u'prefix': {u'code': u'https://healthdata.org/code',\n",
       "  u'dct': u'http://purl.org/dc/terms/',\n",
       "  u'doc': u'https://healthdata.org/document',\n",
       "  u'foaf': u'http://xmlns.com/foaf/0.1/',\n",
       "  u'is': u'https://healthdata.org/instances',\n",
       "  u'people': u'https://healthdata.org/people',\n",
       "  u'unk': u'http://example.com/unknown'},\n",
       " u'used': {u'_:id1': {u'prov:activity': u'is:21090197-6cce-4b66-8bc9-12e03029d84e',\n",
       "   u'prov:entity': u'code:tests/make_history.py'},\n",
       "  u'_:id3': {u'prov:activity': u'is:21090197-6cce-4b66-8bc9-12e03029d84e',\n",
       "   u'prov:entity': u'doc:gbd/first_history_test0/cvd_ihd.hdf'},\n",
       "  u'_:id4': {u'prov:activity': u'is:21090197-6cce-4b66-8bc9-12e03029d84e',\n",
       "   u'prov:entity': u'doc:gbd-read/schema/table'}},\n",
       " u'wasAssociatedWith': {u'_:id2': {u'prov:activity': u'is:21090197-6cce-4b66-8bc9-12e03029d84e',\n",
       "   u'prov:agent': u'people:vr24'}},\n",
       " u'wasGeneratedBy': {u'_:id5': {u'prov:activity': u'is:21090197-6cce-4b66-8bc9-12e03029d84e',\n",
       "   u'prov:entity': u'doc:paf/first_history_test0/cvd_ihd.hdf'}},\n",
       " u'wasInfluencedBy': {u'_:id7': [{u'prov:influencee': u'unk:processcollection',\n",
       "    u'prov:influencer': u'is:0bf9b8ca-4cee-420b-a7cc-b9ab2da9aed3'},\n",
       "   {u'prov:influencee': u'unk:processcollection',\n",
       "    u'prov:influencer': u'is:0bf9b8ca-4cee-420b-a7cc-b9ab2da9aed3'},\n",
       "   {u'prov:influencee': u'unk:processcollection',\n",
       "    u'prov:influencer': u'is:0bf9b8ca-4cee-420b-a7cc-b9ab2da9aed3'}]}}"
      ]
     },
     "execution_count": 29,
     "metadata": {},
     "output_type": "execute_result"
    }
   ],
   "source": [
    "# Let's go type-wise to figure out how the '@fields' field differs.\n",
    "fields_sample_by_doctype = {doctype: logs[0][FIELDS_KEY] \n",
    "                            for doctype, logs in logs_by_type.items()}\n",
    "fields_sample_by_doctype"
   ]
  },
  {
   "cell_type": "code",
   "execution_count": 40,
   "metadata": {
    "collapsed": false
   },
   "outputs": [
    {
     "data": {
      "text/plain": [
       "{'@message': 1, 'document': 220, 'instance': 385}"
      ]
     },
     "execution_count": 40,
     "metadata": {},
     "output_type": "execute_result"
    }
   ],
   "source": [
    "def get_unique_values(doc_key, logs):\n",
    "    return {log[doc_key] for log in logs}\n",
    "\n",
    "instances = get_unique_values(INSTANCE_KEY, logs)\n",
    "documents = get_unique_values(DOCUMENT_KEY, logs)\n",
    "messages = get_unique_values(MESSAGE_KEY, logs)\n",
    "num_values_by_key = {\n",
    "    INSTANCE_KEY: len(instances), \n",
    "    DOCUMENT_KEY: len(documents), \n",
    "    MESSAGE_KEY: len(messages)\n",
    "}\n",
    "num_values_by_key"
   ]
  },
  {
   "cell_type": "code",
   "execution_count": 44,
   "metadata": {
    "collapsed": false
   },
   "outputs": [],
   "source": [
    "# OK, let's actually go type-wise and try to define a mapping for each \"@fields\".\n",
    "fields_field_by_type = {doc_type: [log[\"@fields\"] for log in logs] \n",
    "                        for doc_type, logs in logs_by_type.items()}"
   ]
  },
  {
   "cell_type": "code",
   "execution_count": 45,
   "metadata": {
    "collapsed": false
   },
   "outputs": [
    {
     "data": {
      "text/plain": [
       "{u'is:0062c93f-f450-4822-8402-7a8ffb5ddba7',\n",
       " u'is:01fae16a-81a5-4f62-8383-bbcdcf8c4b41',\n",
       " u'is:04cf8cad-d70d-4fd9-bc01-37ab23bfdec5',\n",
       " u'is:08873b7f-c512-425b-a983-5b49382cc160',\n",
       " u'is:09afef7d-e937-48c0-a3ea-90233827cada',\n",
       " u'is:0bf9b8ca-4cee-420b-a7cc-b9ab2da9aed3',\n",
       " u'is:0c688830-fdd5-4414-981d-26ec7bc06740',\n",
       " u'is:0ece8f0a-bfc7-4d4a-8aff-25b335fecf99',\n",
       " u'is:0f38887a-d5e8-4221-8d8a-cc13496b04a3',\n",
       " u'is:0f973ce9-1a6f-477c-a77d-1f4d6a6ae1fc',\n",
       " u'is:0fcb925d-515a-492e-8fc2-96c8e57d81f1',\n",
       " u'is:124a34af-9b36-4bc3-9093-0e4056ce03a3',\n",
       " u'is:159a3e8f-0a8b-4b9e-99b1-6d21129dabf3',\n",
       " u'is:16383d51-2ba7-4702-9373-ba434826839b',\n",
       " u'is:17982084-0ee5-4bf3-84b4-fe0253b702bb',\n",
       " u'is:17d1a59c-3abc-4b22-b26c-af3c84b6bec6',\n",
       " u'is:1988347b-1cbf-4551-842b-34b7456e5958',\n",
       " u'is:1ba298ff-b461-421c-bc41-e4e0fc86128e',\n",
       " u'is:1c7cbe1b-7432-4574-8387-caa0c2834114',\n",
       " u'is:1f6db551-236b-4c27-a0a0-566ddac96562',\n",
       " u'is:1f9c3152-f556-43a9-8b6b-691cf2645558',\n",
       " u'is:21090197-6cce-4b66-8bc9-12e03029d84e',\n",
       " u'is:22354a75-f76d-4b13-8cc4-f3bdcf73120a',\n",
       " u'is:22bcf064-b1f5-4289-9047-e080410b6f28',\n",
       " u'is:22ea1453-2dbe-4263-887c-f113a88af571',\n",
       " u'is:2424cd74-f001-4642-980c-39a5213f2410',\n",
       " u'is:2445ef5c-6db9-48b5-b536-40bb8546707f',\n",
       " u'is:24fa9751-37a0-4c3b-9d1d-06db767d2ffe',\n",
       " u'is:27f302e2-cc5d-4f57-b8b8-79c708fea901',\n",
       " u'is:2a179f45-e70c-4747-afa6-e4eed8a8fa65',\n",
       " u'is:2a6f96f9-d89c-4d33-ba9c-c40aa1819cbb',\n",
       " u'is:2adcac24-2596-4257-a8b0-82d3faf6808d',\n",
       " u'is:2b18d50b-502e-4aac-8784-cad3a5c70260',\n",
       " u'is:2bd57dcc-c53b-4dc2-b94a-3fe62236fca7',\n",
       " u'is:2c1825fc-63bc-4144-b0fb-c40b1f1d9406',\n",
       " u'is:2cba6c98-c0e6-4e38-a728-e99627ddb1ec',\n",
       " u'is:2cbd13a4-641e-46e1-a772-df2d1687e477',\n",
       " u'is:2d5384b4-c761-4a22-b44f-c6e997fe8301',\n",
       " u'is:2e1abdd9-c424-414d-bd99-c0d8b2e07d27',\n",
       " u'is:2e341953-f095-474d-989e-ae8d52a92708',\n",
       " u'is:2ec3d73e-816f-4855-ad93-84f748a75bac',\n",
       " u'is:2f16f264-d739-44f9-a087-1cffa522bf04',\n",
       " u'is:2f8bb654-7fca-4d06-8233-6c25e8bb8316',\n",
       " u'is:2fc12ad6-7e23-456e-b64e-1e6f8cfae272',\n",
       " u'is:30efed20-05aa-4be3-bc04-1213ca4950ff',\n",
       " u'is:32a8a2ce-32c1-4afe-be1b-7c2cf3e6a9eb',\n",
       " u'is:38493857-c41c-40de-be35-02acec28e84f',\n",
       " u'is:38949bef-4ef8-4172-841a-6e7f01526f0b',\n",
       " u'is:395f9cba-0e92-4864-850b-0787cb2e6590',\n",
       " u'is:3b90fea3-11e7-49c2-8144-195367e6edd9',\n",
       " u'is:3e8006b6-0d4a-4b32-9ffe-91b762b1e0b3',\n",
       " u'is:40ceea95-762f-4060-8e47-75892c34660d',\n",
       " u'is:410cd032-2e51-486d-9261-e67f2b60732f',\n",
       " u'is:41d73a2a-ee88-4193-9bf1-d847554a4fbe',\n",
       " u'is:4410d1b6-602a-483a-b939-1f7a95e4207c',\n",
       " u'is:44abbc7a-5268-4adb-b567-fc1f290e217c',\n",
       " u'is:44bb10e8-b39e-4b7e-872a-04d40536404c',\n",
       " u'is:46e043a6-9e42-41f4-8077-4ca76700c34c',\n",
       " u'is:471a5a66-1d6a-4001-b409-9625e3ae4ef5',\n",
       " u'is:4735de33-9c53-4cdb-84cd-bc279000a416',\n",
       " u'is:48a2c4ab-33b1-4112-af83-f45186b13fd1',\n",
       " u'is:48d9015b-edd9-4c4d-9a4b-42b171fa543d',\n",
       " u'is:4ac428ba-23e1-4572-a17f-3a67caad4d93',\n",
       " u'is:4acce1d1-a534-450b-9d91-0f5f0a00e128',\n",
       " u'is:4bb459e9-24da-45db-aa23-7ced7771b6e7',\n",
       " u'is:4cc8a5eb-c4d0-4e21-881e-3e9d1c463d25',\n",
       " u'is:4d823b34-9a75-47e4-9c9e-d23a25983b74',\n",
       " u'is:4df9adb9-9dde-438b-b08e-2f16797546fb',\n",
       " u'is:513858a0-5ed8-4ef0-9b9d-f4cb3b1d2413',\n",
       " u'is:51c7f251-aec5-4757-b73d-807cee5ee221',\n",
       " u'is:524d3d30-b4f1-4110-b594-425ef0b9a892',\n",
       " u'is:53d16910-7425-4335-ab1d-f295b335f6f4',\n",
       " u'is:54aacc34-196c-4747-8ad8-048559b9f796',\n",
       " u'is:561d72ce-5a69-4fb4-9e3f-f8b382368283',\n",
       " u'is:56292422-cef0-4365-8bc6-75fbdd4b58e6',\n",
       " u'is:56a41729-c6d5-4d84-97d7-8f273dacb9ca',\n",
       " u'is:571649b4-474e-45bd-9904-a8fed96b3257',\n",
       " u'is:57d0dc73-b501-4bfa-bc3c-e2a45c7aa24f',\n",
       " u'is:59220d6c-f7fe-4d35-83ec-fcbab81656f6',\n",
       " u'is:5a138f0c-56bf-4ee7-bf07-14e801e39de5',\n",
       " u'is:5a8c3a0d-ef6b-4ea5-8d56-42995ea3493a',\n",
       " u'is:5cf9df14-a2fa-4d99-a76e-445bd558a6e0',\n",
       " u'is:5d577ca3-a773-40d2-8dd3-df4a516aee9a',\n",
       " u'is:5f9fed5e-40f0-47ec-b63d-0f6a2b8fda7b',\n",
       " u'is:6166488b-9d39-4fa2-b641-1388392713a2',\n",
       " u'is:622e82e6-d0cd-415b-b17b-64be5ff2f0f9',\n",
       " u'is:631e8eac-63f0-4d47-8930-c59988d2fe50',\n",
       " u'is:632498f2-24cc-4a9f-b274-24855e2112bd',\n",
       " u'is:63b2a7d8-7cae-4699-934c-c4a10a6ab9fc',\n",
       " u'is:647bb83b-6215-4d1e-90ef-7b03255f80f9',\n",
       " u'is:659a74ce-47b0-4cb8-acec-2bb475c45ddf',\n",
       " u'is:65eaf0ae-af7c-426e-bced-f525d8a26389',\n",
       " u'is:681773af-e64b-496d-b934-0e4bea7b6d77',\n",
       " u'is:684e40a3-ed0b-4c40-83bd-8bf76bf51825',\n",
       " u'is:6901aaa3-1693-41bb-881d-b5bf63217ac2',\n",
       " u'is:69de2faa-00e0-456c-925d-0ad396d54dba',\n",
       " u'is:6b128293-0ebf-492b-b466-e9b208fd8e40',\n",
       " u'is:6b5fc268-4364-42f4-b3e5-fd02f802257b',\n",
       " u'is:6b6c910f-2f0c-4752-a516-4167499aac9e',\n",
       " u'is:6c9cd3ae-4218-494d-9430-b014a37bda7c',\n",
       " u'is:6fe0b94b-14bc-494a-80b9-2aec2fdd26dd',\n",
       " u'is:743a9db0-ac66-458c-a501-4ade99d69648',\n",
       " u'is:74b54709-fbfa-4f88-9b22-4e5e12ca3436',\n",
       " u'is:763380de-9c52-4307-aaed-182042e4f361',\n",
       " u'is:79665b61-5adf-4587-ad41-707e1a739b15',\n",
       " u'is:7a264cf6-a7d4-4f05-89c4-65eeee2a4add',\n",
       " u'is:7bff37f4-c1ae-4c2b-8deb-bbc87ec85bc6',\n",
       " u'is:7cc45161-9c5e-420e-aef6-e2cbe079af6b',\n",
       " u'is:7e403dc1-c0c6-4559-b2e0-9457a8c62414',\n",
       " u'is:805c4fb1-e645-4c17-ba7a-696dce7e64a6',\n",
       " u'is:80aaf9e2-9f68-4400-afcc-6d170b5de942',\n",
       " u'is:80dd575d-bcae-47b3-a199-60ca11c18cea',\n",
       " u'is:8182e94f-25b8-4434-9abe-5f750f7cbe50',\n",
       " u'is:8255e1f4-ce74-422f-a7f5-a7d9e0009b98',\n",
       " u'is:8292e2c5-574b-4fa6-8ff6-fe48834cef89',\n",
       " u'is:83152ad8-c1e5-43d9-95ba-f0baac06e17b',\n",
       " u'is:8336b148-8e13-4814-bc7a-23d1c2c901cf',\n",
       " u'is:83556280-5f05-4ec4-b74d-f6efc2f58654',\n",
       " u'is:84ca6b8a-77af-444d-8ab6-80340101855c',\n",
       " u'is:85d64445-2a7a-4630-a940-9d6a47de0ad9',\n",
       " u'is:87693236-730a-4dcf-883b-3fdb76844de7',\n",
       " u'is:88a9ac0e-c9aa-408f-8f16-5b2e964d3661',\n",
       " u'is:891cef59-6d22-461c-a3c4-fc55ace0f637',\n",
       " u'is:89fde48f-d881-472e-b215-cde8bfe78ea8',\n",
       " u'is:8a466545-19d3-46c5-beeb-f787d9cbab07',\n",
       " u'is:8ac5411c-3d22-49c1-814b-742d599a32cb',\n",
       " u'is:8ca9be42-0973-4f55-bac3-fe577a212997',\n",
       " u'is:8d2232a0-1404-4009-a1fe-ffd7d6f73968',\n",
       " u'is:8da74569-d5d7-4200-83a7-b030cda1c0a3',\n",
       " u'is:8dc17481-15a6-4a91-9041-2692a3cd20ee',\n",
       " u'is:8e994204-623f-40c6-9f58-4950571b98d9',\n",
       " u'is:8e9a8c12-3d70-4133-b5e3-6b5e2594c2b3',\n",
       " u'is:8ea25586-2194-495f-9b2f-d041f0cf1525',\n",
       " u'is:8fadcffd-5e86-437f-9b02-11f4c4b94090',\n",
       " u'is:92098f49-3648-468b-9eda-a69295236f1b',\n",
       " u'is:935a0ddf-60ae-4589-b2c5-4f1bd20d3bbd',\n",
       " u'is:94263dd2-b5d0-4504-b7aa-926068709d67',\n",
       " u'is:958b6834-d1bb-4cb2-aa1e-06d3859538e6',\n",
       " u'is:969026e8-5c0a-4329-bdf6-c6b93304015b',\n",
       " u'is:96dbfe46-9b7c-4cfb-9879-06c673145618',\n",
       " u'is:97e270b8-7fd6-48b0-a8e2-13e1bdde8771',\n",
       " u'is:9861dfba-326e-4772-8fbb-3e9feb09a20e',\n",
       " u'is:9b1eeb12-bef0-45e6-8ec6-032111e1e50b',\n",
       " u'is:9b76c21f-0741-4f0f-9233-1892337b05e9',\n",
       " u'is:9deae265-7563-424e-a910-f356910948f5',\n",
       " u'is:9e32eb7d-7660-403b-844c-f47afb2fe4ab',\n",
       " u'is:9ee88c0a-0db7-4f49-a643-d3489a737f21',\n",
       " u'is:9f75d805-6caa-4243-ab0f-9b1c79ba6ece',\n",
       " u'is:a000f485-0344-427b-9605-91fb7f85b61e',\n",
       " u'is:a014f327-e657-40ca-a324-b96130ec9efc',\n",
       " u'is:a2087203-806e-4c23-819b-c5ad83195cbc',\n",
       " u'is:a442f48c-992e-4c34-aa17-c2e358e85711',\n",
       " u'is:a52ee16a-25c4-428f-9bfb-8ed500d70d5f',\n",
       " u'is:a52f730a-808e-43f6-a3dc-97c06625f87d',\n",
       " u'is:a56dad0c-32f2-4ede-9df7-07de81b14de7',\n",
       " u'is:a7c80065-5374-4929-93af-676c6d4727ad',\n",
       " u'is:a7e8cd3d-4c5c-425f-a3ee-3516a1ffe136',\n",
       " u'is:a87eefd5-7b19-42fd-868d-e23addf1ea64',\n",
       " u'is:ac097c81-f1fe-46f3-8a88-aab5420c2848',\n",
       " u'is:acea1b37-164e-486a-84ab-da0ee250b246',\n",
       " u'is:af3fd990-5815-4937-998a-9f9452751a6f',\n",
       " u'is:b03b222c-9104-4ee5-a8f2-8d5e99f23e01',\n",
       " u'is:b11c1dd9-d504-4e76-83e0-8dfc8813a876',\n",
       " u'is:b2d463c8-362f-452f-a9da-ac7d6dfa2c2f',\n",
       " u'is:b327f2b8-dd4f-4f51-b915-e41f48ba3eac',\n",
       " u'is:b474251c-3313-4637-bc01-9ac188ac2014',\n",
       " u'is:b4d72fd9-b25d-4262-b18c-26bc59ba9904',\n",
       " u'is:b588673b-95e0-4e7d-8bb5-59f4e4638f3a',\n",
       " u'is:b7f233cd-ec1b-477c-9360-70e01ee26f5e',\n",
       " u'is:b890de8f-00a8-4c99-aed6-0bc614884400',\n",
       " u'is:ba26b968-dcc6-4f6b-9d54-0e7b45e65886',\n",
       " u'is:bc4c6bc4-c156-437c-8efd-04c477c72487',\n",
       " u'is:bc85aecd-d7d1-428e-afc5-14e2c03343ce',\n",
       " u'is:bda4e028-6382-4bb3-bdc1-8effd4e5d1fd',\n",
       " u'is:bec4cae3-3be1-457e-9e0d-41ec12458374',\n",
       " u'is:bf7b3dc4-9cf7-49cb-b946-d72837f6bd8a',\n",
       " u'is:c0296e44-ee4c-4272-9653-e1136c2ec3f5',\n",
       " u'is:c1ead4ec-6840-4a79-b148-9c3d893efbd4',\n",
       " u'is:c2ca3ab5-0649-46fb-8376-77405de0cc67',\n",
       " u'is:c2edf291-9d04-42a9-b4e2-117d8c213d14',\n",
       " u'is:c58a34cb-d7ae-4c3b-bbe7-8e572da89838',\n",
       " u'is:c73978f0-c134-4ee3-b0e9-58efa1f61b0b',\n",
       " u'is:c755cea8-fccf-4e65-84e5-9dab86f3b7a6',\n",
       " u'is:c8f051d7-1904-41fc-add8-402488a4faa9',\n",
       " u'is:c92c4862-2077-437d-9689-75482d2cb898',\n",
       " u'is:cb7f2132-8952-470d-8075-d668997bc76e',\n",
       " u'is:d1d4f931-2cb4-469e-b858-3e90dea3630a',\n",
       " u'is:d315f45c-ebc8-4347-8b80-059fae0ad0b2',\n",
       " u'is:d4235ea1-b6f7-49c2-965b-a826cdb0a57a',\n",
       " u'is:d5d8c0e5-46bb-4038-9e73-adc08efa97d6',\n",
       " u'is:d5e3e431-cc85-444f-9d64-5aabb8fe486c',\n",
       " u'is:d7128c5e-1882-45d9-b01f-573d11f1f6e6',\n",
       " u'is:d860a3fd-d58f-4ff3-ad9d-171603cf80e3',\n",
       " u'is:d969646c-9962-4593-8f07-27dac51505ef',\n",
       " u'is:db65308e-d135-451a-804b-502014e95748',\n",
       " u'is:dc268bab-23bb-4268-b283-37c684d9dc0a',\n",
       " u'is:e2576548-a958-496e-a7f5-f4f88c1d7a0e',\n",
       " u'is:e337d3e0-11d0-48ef-8080-1857564d8763',\n",
       " u'is:e3a89a24-2c8e-444c-8e95-9a3ea5cbe42b',\n",
       " u'is:e3b2a6a9-6591-43f6-8d4d-59763eecb127',\n",
       " u'is:e6b033a6-2359-4068-bb7b-c2fda97a1829',\n",
       " u'is:e7297faf-17e6-4e9c-a564-57c50661e1a9',\n",
       " u'is:e743111b-6075-4805-9a27-248272b6e486',\n",
       " u'is:e7a5f559-6d2a-49c1-b223-3d25f502ce05',\n",
       " u'is:e9d566f5-56f2-432f-b603-9158fc01a6b4',\n",
       " u'is:eb4da6dc-95b1-4fd6-9858-f714f7c7ff4c',\n",
       " u'is:ed146fdc-de5b-4299-bd69-1e0ec5b271ff',\n",
       " u'is:edf52379-943c-48d7-86e4-25f6153ac9e9',\n",
       " u'is:efc88c90-86cd-490c-98c7-216d308cf493',\n",
       " u'is:f0ba9953-b20d-402c-9cc0-05ac60410ec5',\n",
       " u'is:f17e1601-ccf4-48f5-87c9-b5b5c9654da8',\n",
       " u'is:f27e0bdb-46e7-4b5f-9ef4-993e62068716',\n",
       " u'is:f661bc25-28a2-4885-b5fe-831b11abdadf',\n",
       " u'is:f7a29a86-822b-4b4c-a2b2-425dcbe4a69b',\n",
       " u'is:f951610b-8215-49a4-9548-402975bd5c67',\n",
       " u'is:fa432c6f-054f-40df-b393-1403a843eec3',\n",
       " u'is:fba19f30-8a31-481f-a71f-0d5deeb6fe3c',\n",
       " u'is:fd2ae52f-c0f1-441f-9d69-6778a454c1f8',\n",
       " u'is:fe75eaee-73b0-407d-b260-5836a2e8ce21',\n",
       " u'is:ff21427c-71db-49b0-b124-df95612dd224'}"
      ]
     },
     "execution_count": 45,
     "metadata": {},
     "output_type": "execute_result"
    }
   ],
   "source": [
    "# Let's check out the possibilities for an \"activity.\"\n",
    "activity_fields_keys = set()\n",
    "for fields in fields_field_by_type[\"activity\"]:\n",
    "    activity_fields_keys |= set(fields.keys())\n",
    "activity_fields_keys"
   ]
  },
  {
   "cell_type": "code",
   "execution_count": 47,
   "metadata": {
    "collapsed": true
   },
   "outputs": [],
   "source": [
    "# OK, each \"@fields\" value for an acitivity appears to be a single K-V pair mapping (object).\n",
    "# Let's check that hypothesis.\n",
    "assert all([1 == len(fields_object) for fields_object in fields_field_by_type[\"activity\"]])"
   ]
  },
  {
   "cell_type": "code",
   "execution_count": 52,
   "metadata": {
    "collapsed": false
   },
   "outputs": [
    {
     "data": {
      "text/plain": [
       "{u'unk:args',\n",
       " u'unk:command',\n",
       " u'unk:date',\n",
       " u'unk:group_id',\n",
       " u'unk:hostname',\n",
       " u'unk:interpreter',\n",
       " u'unk:platform',\n",
       " u'unk:process_id',\n",
       " u'unk:sge_job_id'}"
      ]
     },
     "execution_count": 52,
     "metadata": {},
     "output_type": "execute_result"
    }
   ],
   "source": [
    "# OK, let's investigate the values.\n",
    "activity_fields_object_values_keys = set()\n",
    "for instance in fields_field_by_type[\"activity\"]:\n",
    "    for kv_pairs in instance.values():\n",
    "        activity_fields_object_values_keys |= set(kv_pairs.keys())\n",
    "activity_fields_object_values_keys"
   ]
  },
  {
   "cell_type": "code",
   "execution_count": 59,
   "metadata": {
    "collapsed": false
   },
   "outputs": [
    {
     "data": {
      "text/plain": [
       "[u'wasAssociatedWith',\n",
       " u'hadMember',\n",
       " u'used',\n",
       " u'agent',\n",
       " u'entity',\n",
       " u'prefix',\n",
       " u'activity',\n",
       " u'wasInfluencedBy',\n",
       " u'wasGeneratedBy']"
      ]
     },
     "execution_count": 59,
     "metadata": {},
     "output_type": "execute_result"
    }
   ],
   "source": [
    "# Cool! It appears that each \"@fields\" instance is an object with uniform schema.\n",
    "# Let's look back at the space of document types to bifurcate the document types\n",
    "# as either relationship (edge) type or node type.\n",
    "logs_by_type.keys()"
   ]
  },
  {
   "cell_type": "code",
   "execution_count": 72,
   "metadata": {
    "collapsed": false
   },
   "outputs": [
    {
     "data": {
      "text/plain": [
       "1540"
      ]
     },
     "execution_count": 72,
     "metadata": {},
     "output_type": "execute_result"
    }
   ],
   "source": [
    "# What is going on with \"prefix?\"\n",
    "len(logs_by_type[\"prefix\"])"
   ]
  },
  {
   "cell_type": "code",
   "execution_count": 73,
   "metadata": {
    "collapsed": false
   },
   "outputs": [
    {
     "data": {
      "text/plain": [
       "220"
      ]
     },
     "execution_count": 73,
     "metadata": {},
     "output_type": "execute_result"
    }
   ],
   "source": [
    "len({log[\"document\"] for log in logs_by_type[\"prefix\"]})"
   ]
  },
  {
   "cell_type": "code",
   "execution_count": 74,
   "metadata": {
    "collapsed": false
   },
   "outputs": [
    {
     "data": {
      "text/plain": [
       "4360"
      ]
     },
     "execution_count": 74,
     "metadata": {},
     "output_type": "execute_result"
    }
   ],
   "source": [
    "len(logs)"
   ]
  },
  {
   "cell_type": "code",
   "execution_count": 80,
   "metadata": {
    "collapsed": false
   },
   "outputs": [
    {
     "data": {
      "text/plain": [
       "220"
      ]
     },
     "execution_count": 80,
     "metadata": {},
     "output_type": "execute_result"
    }
   ],
   "source": [
    "# Hmm, how many document tags are there within the collection of logs?\n",
    "unique_document_ids = {log[\"document\"] for log in logs}\n",
    "len(unique_document_ids)"
   ]
  },
  {
   "cell_type": "code",
   "execution_count": 83,
   "metadata": {
    "collapsed": false
   },
   "outputs": [
    {
     "data": {
      "text/plain": [
       "220"
      ]
     },
     "execution_count": 83,
     "metadata": {},
     "output_type": "execute_result"
    }
   ],
   "source": [
    "# How many prefixes are there?\n",
    "len(logs_by_type[\"activity\"])"
   ]
  },
  {
   "cell_type": "code",
   "execution_count": 86,
   "metadata": {
    "collapsed": false
   },
   "outputs": [
    {
     "data": {
      "text/plain": [
       "220"
      ]
     },
     "execution_count": 86,
     "metadata": {},
     "output_type": "execute_result"
    }
   ],
   "source": [
    "# What agents are out there?\n",
    "len(logs_by_type[\"agent\"])"
   ]
  },
  {
   "cell_type": "code",
   "execution_count": 87,
   "metadata": {
    "collapsed": false
   },
   "outputs": [
    {
     "data": {
      "text/plain": [
       "[{u'@fields': {u'people:vr24': {u'unk:fullname': u'Vincent Reuter',\n",
       "    u'unk:homedir': u'/Users/vr24'}},\n",
       "  u'@message': u'create_file3',\n",
       "  u'@source_host': u'withme',\n",
       "  u'@timestamp': u'2016-11-05T23:53:07.027Z',\n",
       "  u'@version': 1,\n",
       "  u'document': u'is:21090197-6cce-4b66-8bc9-12e03029d84e',\n",
       "  u'host': u'127.0.0.1',\n",
       "  u'instance': u'people:vr24',\n",
       "  u'port': 64675,\n",
       "  u'prov': u'agent'},\n",
       " {u'@fields': {u'people:vr24': {u'unk:fullname': u'Vincent Reuter',\n",
       "    u'unk:homedir': u'/Users/vr24'}},\n",
       "  u'@message': u'create_file3',\n",
       "  u'@source_host': u'withme',\n",
       "  u'@timestamp': u'2016-11-05T23:53:07.525Z',\n",
       "  u'@version': 1,\n",
       "  u'document': u'is:88a9ac0e-c9aa-408f-8f16-5b2e964d3661',\n",
       "  u'host': u'127.0.0.1',\n",
       "  u'instance': u'people:vr24',\n",
       "  u'port': 64676,\n",
       "  u'prov': u'agent'},\n",
       " {u'@fields': {u'people:vr24': {u'unk:fullname': u'Vincent Reuter',\n",
       "    u'unk:homedir': u'/Users/vr24'}},\n",
       "  u'@message': u'create_file3',\n",
       "  u'@source_host': u'withme',\n",
       "  u'@timestamp': u'2016-11-05T23:53:08.250Z',\n",
       "  u'@version': 1,\n",
       "  u'document': u'is:48d9015b-edd9-4c4d-9a4b-42b171fa543d',\n",
       "  u'host': u'127.0.0.1',\n",
       "  u'instance': u'people:vr24',\n",
       "  u'port': 64677,\n",
       "  u'prov': u'agent'}]"
      ]
     },
     "execution_count": 87,
     "metadata": {},
     "output_type": "execute_result"
    }
   ],
   "source": [
    "# What defines an agent?\n",
    "log_trio_by_type[\"agent\"]"
   ]
  },
  {
   "cell_type": "code",
   "execution_count": 89,
   "metadata": {
    "collapsed": false
   },
   "outputs": [
    {
     "data": {
      "text/plain": [
       "{1}"
      ]
     },
     "execution_count": 89,
     "metadata": {},
     "output_type": "execute_result"
    }
   ],
   "source": [
    "# Is an agent defined by its fields?\n",
    "agent_fields_lengths = {len(log[\"@fields\"]) for log in logs_by_type[\"agent\"]}\n",
    "agent_fields_lengths"
   ]
  },
  {
   "cell_type": "code",
   "execution_count": 90,
   "metadata": {
    "collapsed": true
   },
   "outputs": [],
   "source": [
    "# OK, let's assume that an agent is defined by its fields.\n",
    "# An agent also seems to be keyed on 'instance' (e.g., \"people:vr24\")\n",
    "# The fields is then a single-object key-value pair mapping, with key matching 'instance', \n",
    "# e.g. {\"people:vr24\": {\"unk:fullname\": \"Vincent Reuter\", \"unk:homedir\": \"/Users/vr24\"}}"
   ]
  },
  {
   "cell_type": "code",
   "execution_count": 99,
   "metadata": {
    "collapsed": false
   },
   "outputs": [
    {
     "data": {
      "text/plain": [
       "11"
      ]
     },
     "execution_count": 99,
     "metadata": {},
     "output_type": "execute_result"
    }
   ],
   "source": [
    "len(logs_by_type)"
   ]
  },
  {
   "cell_type": "code",
   "execution_count": 100,
   "metadata": {
    "collapsed": true
   },
   "outputs": [],
   "source": [
    "# Let's look at the other nodes, specifically, \"activity\" and \"entity.\""
   ]
  },
  {
   "cell_type": "code",
   "execution_count": 101,
   "metadata": {
    "collapsed": false
   },
   "outputs": [
    {
     "data": {
      "text/plain": [
       "[{u'@fields': {u'is:21090197-6cce-4b66-8bc9-12e03029d84e': {u'unk:args': u'--child calculate_pafs --tag first_history_test0',\n",
       "    u'unk:command': u'/Users/vr24/virtualenvs/general_personal_dev_env/bin/python',\n",
       "    u'unk:date': u'2016-11-05T16:53:06-07:00',\n",
       "    u'unk:group_id': {u'$': 37253, u'type': u'xsd:int'},\n",
       "    u'unk:hostname': u'Gladstone.domain',\n",
       "    u'unk:interpreter': u'2.7.10 (default, Oct 23 2015, 19:19:21) ',\n",
       "    u'unk:platform': u'Darwin-15.5.0-x86_64-i386-64bit',\n",
       "    u'unk:process_id': {u'$': 37260, u'type': u'xsd:int'},\n",
       "    u'unk:sge_job_id': u'100'}},\n",
       "  u'@message': u'create_file3',\n",
       "  u'@source_host': u'withme',\n",
       "  u'@timestamp': u'2016-11-05T23:53:07.028Z',\n",
       "  u'@version': 1,\n",
       "  u'document': u'is:21090197-6cce-4b66-8bc9-12e03029d84e',\n",
       "  u'host': u'127.0.0.1',\n",
       "  u'instance': u'is:21090197-6cce-4b66-8bc9-12e03029d84e',\n",
       "  u'port': 64675,\n",
       "  u'prov': u'activity'},\n",
       " {u'@fields': {u'is:88a9ac0e-c9aa-408f-8f16-5b2e964d3661': {u'unk:args': u'--child calculate_pafs --tag first_history_test0',\n",
       "    u'unk:command': u'/Users/vr24/virtualenvs/general_personal_dev_env/bin/python',\n",
       "    u'unk:date': u'2016-11-05T16:53:07-07:00',\n",
       "    u'unk:group_id': {u'$': 37253, u'type': u'xsd:int'},\n",
       "    u'unk:hostname': u'Gladstone.domain',\n",
       "    u'unk:interpreter': u'2.7.10 (default, Oct 23 2015, 19:19:21) ',\n",
       "    u'unk:platform': u'Darwin-15.5.0-x86_64-i386-64bit',\n",
       "    u'unk:process_id': {u'$': 37266, u'type': u'xsd:int'},\n",
       "    u'unk:sge_job_id': u'101'}},\n",
       "  u'@message': u'create_file3',\n",
       "  u'@source_host': u'withme',\n",
       "  u'@timestamp': u'2016-11-05T23:53:07.526Z',\n",
       "  u'@version': 1,\n",
       "  u'document': u'is:88a9ac0e-c9aa-408f-8f16-5b2e964d3661',\n",
       "  u'host': u'127.0.0.1',\n",
       "  u'instance': u'is:88a9ac0e-c9aa-408f-8f16-5b2e964d3661',\n",
       "  u'port': 64676,\n",
       "  u'prov': u'activity'},\n",
       " {u'@fields': {u'is:48d9015b-edd9-4c4d-9a4b-42b171fa543d': {u'unk:args': u'--child calculate_pafs --tag first_history_test0',\n",
       "    u'unk:command': u'/Users/vr24/virtualenvs/general_personal_dev_env/bin/python',\n",
       "    u'unk:date': u'2016-11-05T16:53:07-07:00',\n",
       "    u'unk:group_id': {u'$': 37253, u'type': u'xsd:int'},\n",
       "    u'unk:hostname': u'Gladstone.domain',\n",
       "    u'unk:interpreter': u'2.7.10 (default, Oct 23 2015, 19:19:21) ',\n",
       "    u'unk:platform': u'Darwin-15.5.0-x86_64-i386-64bit',\n",
       "    u'unk:process_id': {u'$': 37272, u'type': u'xsd:int'},\n",
       "    u'unk:sge_job_id': u'102'}},\n",
       "  u'@message': u'create_file3',\n",
       "  u'@source_host': u'withme',\n",
       "  u'@timestamp': u'2016-11-05T23:53:08.252Z',\n",
       "  u'@version': 1,\n",
       "  u'document': u'is:48d9015b-edd9-4c4d-9a4b-42b171fa543d',\n",
       "  u'host': u'127.0.0.1',\n",
       "  u'instance': u'is:48d9015b-edd9-4c4d-9a4b-42b171fa543d',\n",
       "  u'port': 64677,\n",
       "  u'prov': u'activity'}]"
      ]
     },
     "execution_count": 101,
     "metadata": {},
     "output_type": "execute_result"
    }
   ],
   "source": [
    "log_trio_by_type[\"activity\"]"
   ]
  },
  {
   "cell_type": "code",
   "execution_count": 103,
   "metadata": {
    "collapsed": false
   },
   "outputs": [
    {
     "data": {
      "text/plain": [
       "220"
      ]
     },
     "execution_count": 103,
     "metadata": {},
     "output_type": "execute_result"
    }
   ],
   "source": [
    "# For activities, what does the instance space look like?\n",
    "activity_instances = {log[\"instance\"] for log in logs_by_type[\"activity\"]}\n",
    "len(activity_instances)"
   ]
  },
  {
   "cell_type": "code",
   "execution_count": 104,
   "metadata": {
    "collapsed": false
   },
   "outputs": [
    {
     "data": {
      "text/plain": [
       "{u'is:0062c93f-f450-4822-8402-7a8ffb5ddba7',\n",
       " u'is:01fae16a-81a5-4f62-8383-bbcdcf8c4b41',\n",
       " u'is:04cf8cad-d70d-4fd9-bc01-37ab23bfdec5',\n",
       " u'is:08873b7f-c512-425b-a983-5b49382cc160',\n",
       " u'is:09afef7d-e937-48c0-a3ea-90233827cada',\n",
       " u'is:0bf9b8ca-4cee-420b-a7cc-b9ab2da9aed3',\n",
       " u'is:0c688830-fdd5-4414-981d-26ec7bc06740',\n",
       " u'is:0ece8f0a-bfc7-4d4a-8aff-25b335fecf99',\n",
       " u'is:0f38887a-d5e8-4221-8d8a-cc13496b04a3',\n",
       " u'is:0f973ce9-1a6f-477c-a77d-1f4d6a6ae1fc',\n",
       " u'is:0fcb925d-515a-492e-8fc2-96c8e57d81f1',\n",
       " u'is:124a34af-9b36-4bc3-9093-0e4056ce03a3',\n",
       " u'is:159a3e8f-0a8b-4b9e-99b1-6d21129dabf3',\n",
       " u'is:16383d51-2ba7-4702-9373-ba434826839b',\n",
       " u'is:17982084-0ee5-4bf3-84b4-fe0253b702bb',\n",
       " u'is:17d1a59c-3abc-4b22-b26c-af3c84b6bec6',\n",
       " u'is:1988347b-1cbf-4551-842b-34b7456e5958',\n",
       " u'is:1ba298ff-b461-421c-bc41-e4e0fc86128e',\n",
       " u'is:1c7cbe1b-7432-4574-8387-caa0c2834114',\n",
       " u'is:1f6db551-236b-4c27-a0a0-566ddac96562',\n",
       " u'is:1f9c3152-f556-43a9-8b6b-691cf2645558',\n",
       " u'is:21090197-6cce-4b66-8bc9-12e03029d84e',\n",
       " u'is:22354a75-f76d-4b13-8cc4-f3bdcf73120a',\n",
       " u'is:22bcf064-b1f5-4289-9047-e080410b6f28',\n",
       " u'is:22ea1453-2dbe-4263-887c-f113a88af571',\n",
       " u'is:2424cd74-f001-4642-980c-39a5213f2410',\n",
       " u'is:2445ef5c-6db9-48b5-b536-40bb8546707f',\n",
       " u'is:24fa9751-37a0-4c3b-9d1d-06db767d2ffe',\n",
       " u'is:27f302e2-cc5d-4f57-b8b8-79c708fea901',\n",
       " u'is:2a179f45-e70c-4747-afa6-e4eed8a8fa65',\n",
       " u'is:2a6f96f9-d89c-4d33-ba9c-c40aa1819cbb',\n",
       " u'is:2adcac24-2596-4257-a8b0-82d3faf6808d',\n",
       " u'is:2b18d50b-502e-4aac-8784-cad3a5c70260',\n",
       " u'is:2bd57dcc-c53b-4dc2-b94a-3fe62236fca7',\n",
       " u'is:2c1825fc-63bc-4144-b0fb-c40b1f1d9406',\n",
       " u'is:2cba6c98-c0e6-4e38-a728-e99627ddb1ec',\n",
       " u'is:2cbd13a4-641e-46e1-a772-df2d1687e477',\n",
       " u'is:2d5384b4-c761-4a22-b44f-c6e997fe8301',\n",
       " u'is:2e1abdd9-c424-414d-bd99-c0d8b2e07d27',\n",
       " u'is:2e341953-f095-474d-989e-ae8d52a92708',\n",
       " u'is:2ec3d73e-816f-4855-ad93-84f748a75bac',\n",
       " u'is:2f16f264-d739-44f9-a087-1cffa522bf04',\n",
       " u'is:2f8bb654-7fca-4d06-8233-6c25e8bb8316',\n",
       " u'is:2fc12ad6-7e23-456e-b64e-1e6f8cfae272',\n",
       " u'is:30efed20-05aa-4be3-bc04-1213ca4950ff',\n",
       " u'is:32a8a2ce-32c1-4afe-be1b-7c2cf3e6a9eb',\n",
       " u'is:38493857-c41c-40de-be35-02acec28e84f',\n",
       " u'is:38949bef-4ef8-4172-841a-6e7f01526f0b',\n",
       " u'is:395f9cba-0e92-4864-850b-0787cb2e6590',\n",
       " u'is:3b90fea3-11e7-49c2-8144-195367e6edd9',\n",
       " u'is:3e8006b6-0d4a-4b32-9ffe-91b762b1e0b3',\n",
       " u'is:40ceea95-762f-4060-8e47-75892c34660d',\n",
       " u'is:410cd032-2e51-486d-9261-e67f2b60732f',\n",
       " u'is:41d73a2a-ee88-4193-9bf1-d847554a4fbe',\n",
       " u'is:4410d1b6-602a-483a-b939-1f7a95e4207c',\n",
       " u'is:44abbc7a-5268-4adb-b567-fc1f290e217c',\n",
       " u'is:44bb10e8-b39e-4b7e-872a-04d40536404c',\n",
       " u'is:46e043a6-9e42-41f4-8077-4ca76700c34c',\n",
       " u'is:471a5a66-1d6a-4001-b409-9625e3ae4ef5',\n",
       " u'is:4735de33-9c53-4cdb-84cd-bc279000a416',\n",
       " u'is:48a2c4ab-33b1-4112-af83-f45186b13fd1',\n",
       " u'is:48d9015b-edd9-4c4d-9a4b-42b171fa543d',\n",
       " u'is:4ac428ba-23e1-4572-a17f-3a67caad4d93',\n",
       " u'is:4acce1d1-a534-450b-9d91-0f5f0a00e128',\n",
       " u'is:4bb459e9-24da-45db-aa23-7ced7771b6e7',\n",
       " u'is:4cc8a5eb-c4d0-4e21-881e-3e9d1c463d25',\n",
       " u'is:4d823b34-9a75-47e4-9c9e-d23a25983b74',\n",
       " u'is:4df9adb9-9dde-438b-b08e-2f16797546fb',\n",
       " u'is:513858a0-5ed8-4ef0-9b9d-f4cb3b1d2413',\n",
       " u'is:51c7f251-aec5-4757-b73d-807cee5ee221',\n",
       " u'is:524d3d30-b4f1-4110-b594-425ef0b9a892',\n",
       " u'is:53d16910-7425-4335-ab1d-f295b335f6f4',\n",
       " u'is:54aacc34-196c-4747-8ad8-048559b9f796',\n",
       " u'is:561d72ce-5a69-4fb4-9e3f-f8b382368283',\n",
       " u'is:56292422-cef0-4365-8bc6-75fbdd4b58e6',\n",
       " u'is:56a41729-c6d5-4d84-97d7-8f273dacb9ca',\n",
       " u'is:571649b4-474e-45bd-9904-a8fed96b3257',\n",
       " u'is:57d0dc73-b501-4bfa-bc3c-e2a45c7aa24f',\n",
       " u'is:59220d6c-f7fe-4d35-83ec-fcbab81656f6',\n",
       " u'is:5a138f0c-56bf-4ee7-bf07-14e801e39de5',\n",
       " u'is:5a8c3a0d-ef6b-4ea5-8d56-42995ea3493a',\n",
       " u'is:5cf9df14-a2fa-4d99-a76e-445bd558a6e0',\n",
       " u'is:5d577ca3-a773-40d2-8dd3-df4a516aee9a',\n",
       " u'is:5f9fed5e-40f0-47ec-b63d-0f6a2b8fda7b',\n",
       " u'is:6166488b-9d39-4fa2-b641-1388392713a2',\n",
       " u'is:622e82e6-d0cd-415b-b17b-64be5ff2f0f9',\n",
       " u'is:631e8eac-63f0-4d47-8930-c59988d2fe50',\n",
       " u'is:632498f2-24cc-4a9f-b274-24855e2112bd',\n",
       " u'is:63b2a7d8-7cae-4699-934c-c4a10a6ab9fc',\n",
       " u'is:647bb83b-6215-4d1e-90ef-7b03255f80f9',\n",
       " u'is:659a74ce-47b0-4cb8-acec-2bb475c45ddf',\n",
       " u'is:65eaf0ae-af7c-426e-bced-f525d8a26389',\n",
       " u'is:681773af-e64b-496d-b934-0e4bea7b6d77',\n",
       " u'is:684e40a3-ed0b-4c40-83bd-8bf76bf51825',\n",
       " u'is:6901aaa3-1693-41bb-881d-b5bf63217ac2',\n",
       " u'is:69de2faa-00e0-456c-925d-0ad396d54dba',\n",
       " u'is:6b128293-0ebf-492b-b466-e9b208fd8e40',\n",
       " u'is:6b5fc268-4364-42f4-b3e5-fd02f802257b',\n",
       " u'is:6b6c910f-2f0c-4752-a516-4167499aac9e',\n",
       " u'is:6c9cd3ae-4218-494d-9430-b014a37bda7c',\n",
       " u'is:6fe0b94b-14bc-494a-80b9-2aec2fdd26dd',\n",
       " u'is:743a9db0-ac66-458c-a501-4ade99d69648',\n",
       " u'is:74b54709-fbfa-4f88-9b22-4e5e12ca3436',\n",
       " u'is:763380de-9c52-4307-aaed-182042e4f361',\n",
       " u'is:79665b61-5adf-4587-ad41-707e1a739b15',\n",
       " u'is:7a264cf6-a7d4-4f05-89c4-65eeee2a4add',\n",
       " u'is:7bff37f4-c1ae-4c2b-8deb-bbc87ec85bc6',\n",
       " u'is:7cc45161-9c5e-420e-aef6-e2cbe079af6b',\n",
       " u'is:7e403dc1-c0c6-4559-b2e0-9457a8c62414',\n",
       " u'is:805c4fb1-e645-4c17-ba7a-696dce7e64a6',\n",
       " u'is:80aaf9e2-9f68-4400-afcc-6d170b5de942',\n",
       " u'is:80dd575d-bcae-47b3-a199-60ca11c18cea',\n",
       " u'is:8182e94f-25b8-4434-9abe-5f750f7cbe50',\n",
       " u'is:8255e1f4-ce74-422f-a7f5-a7d9e0009b98',\n",
       " u'is:8292e2c5-574b-4fa6-8ff6-fe48834cef89',\n",
       " u'is:83152ad8-c1e5-43d9-95ba-f0baac06e17b',\n",
       " u'is:8336b148-8e13-4814-bc7a-23d1c2c901cf',\n",
       " u'is:83556280-5f05-4ec4-b74d-f6efc2f58654',\n",
       " u'is:84ca6b8a-77af-444d-8ab6-80340101855c',\n",
       " u'is:85d64445-2a7a-4630-a940-9d6a47de0ad9',\n",
       " u'is:87693236-730a-4dcf-883b-3fdb76844de7',\n",
       " u'is:88a9ac0e-c9aa-408f-8f16-5b2e964d3661',\n",
       " u'is:891cef59-6d22-461c-a3c4-fc55ace0f637',\n",
       " u'is:89fde48f-d881-472e-b215-cde8bfe78ea8',\n",
       " u'is:8a466545-19d3-46c5-beeb-f787d9cbab07',\n",
       " u'is:8ac5411c-3d22-49c1-814b-742d599a32cb',\n",
       " u'is:8ca9be42-0973-4f55-bac3-fe577a212997',\n",
       " u'is:8d2232a0-1404-4009-a1fe-ffd7d6f73968',\n",
       " u'is:8da74569-d5d7-4200-83a7-b030cda1c0a3',\n",
       " u'is:8dc17481-15a6-4a91-9041-2692a3cd20ee',\n",
       " u'is:8e994204-623f-40c6-9f58-4950571b98d9',\n",
       " u'is:8e9a8c12-3d70-4133-b5e3-6b5e2594c2b3',\n",
       " u'is:8ea25586-2194-495f-9b2f-d041f0cf1525',\n",
       " u'is:8fadcffd-5e86-437f-9b02-11f4c4b94090',\n",
       " u'is:92098f49-3648-468b-9eda-a69295236f1b',\n",
       " u'is:935a0ddf-60ae-4589-b2c5-4f1bd20d3bbd',\n",
       " u'is:94263dd2-b5d0-4504-b7aa-926068709d67',\n",
       " u'is:958b6834-d1bb-4cb2-aa1e-06d3859538e6',\n",
       " u'is:969026e8-5c0a-4329-bdf6-c6b93304015b',\n",
       " u'is:96dbfe46-9b7c-4cfb-9879-06c673145618',\n",
       " u'is:97e270b8-7fd6-48b0-a8e2-13e1bdde8771',\n",
       " u'is:9861dfba-326e-4772-8fbb-3e9feb09a20e',\n",
       " u'is:9b1eeb12-bef0-45e6-8ec6-032111e1e50b',\n",
       " u'is:9b76c21f-0741-4f0f-9233-1892337b05e9',\n",
       " u'is:9deae265-7563-424e-a910-f356910948f5',\n",
       " u'is:9e32eb7d-7660-403b-844c-f47afb2fe4ab',\n",
       " u'is:9ee88c0a-0db7-4f49-a643-d3489a737f21',\n",
       " u'is:9f75d805-6caa-4243-ab0f-9b1c79ba6ece',\n",
       " u'is:a000f485-0344-427b-9605-91fb7f85b61e',\n",
       " u'is:a014f327-e657-40ca-a324-b96130ec9efc',\n",
       " u'is:a2087203-806e-4c23-819b-c5ad83195cbc',\n",
       " u'is:a442f48c-992e-4c34-aa17-c2e358e85711',\n",
       " u'is:a52ee16a-25c4-428f-9bfb-8ed500d70d5f',\n",
       " u'is:a52f730a-808e-43f6-a3dc-97c06625f87d',\n",
       " u'is:a56dad0c-32f2-4ede-9df7-07de81b14de7',\n",
       " u'is:a7c80065-5374-4929-93af-676c6d4727ad',\n",
       " u'is:a7e8cd3d-4c5c-425f-a3ee-3516a1ffe136',\n",
       " u'is:a87eefd5-7b19-42fd-868d-e23addf1ea64',\n",
       " u'is:ac097c81-f1fe-46f3-8a88-aab5420c2848',\n",
       " u'is:acea1b37-164e-486a-84ab-da0ee250b246',\n",
       " u'is:af3fd990-5815-4937-998a-9f9452751a6f',\n",
       " u'is:b03b222c-9104-4ee5-a8f2-8d5e99f23e01',\n",
       " u'is:b11c1dd9-d504-4e76-83e0-8dfc8813a876',\n",
       " u'is:b2d463c8-362f-452f-a9da-ac7d6dfa2c2f',\n",
       " u'is:b327f2b8-dd4f-4f51-b915-e41f48ba3eac',\n",
       " u'is:b474251c-3313-4637-bc01-9ac188ac2014',\n",
       " u'is:b4d72fd9-b25d-4262-b18c-26bc59ba9904',\n",
       " u'is:b588673b-95e0-4e7d-8bb5-59f4e4638f3a',\n",
       " u'is:b7f233cd-ec1b-477c-9360-70e01ee26f5e',\n",
       " u'is:b890de8f-00a8-4c99-aed6-0bc614884400',\n",
       " u'is:ba26b968-dcc6-4f6b-9d54-0e7b45e65886',\n",
       " u'is:bc4c6bc4-c156-437c-8efd-04c477c72487',\n",
       " u'is:bc85aecd-d7d1-428e-afc5-14e2c03343ce',\n",
       " u'is:bda4e028-6382-4bb3-bdc1-8effd4e5d1fd',\n",
       " u'is:bec4cae3-3be1-457e-9e0d-41ec12458374',\n",
       " u'is:bf7b3dc4-9cf7-49cb-b946-d72837f6bd8a',\n",
       " u'is:c0296e44-ee4c-4272-9653-e1136c2ec3f5',\n",
       " u'is:c1ead4ec-6840-4a79-b148-9c3d893efbd4',\n",
       " u'is:c2ca3ab5-0649-46fb-8376-77405de0cc67',\n",
       " u'is:c2edf291-9d04-42a9-b4e2-117d8c213d14',\n",
       " u'is:c58a34cb-d7ae-4c3b-bbe7-8e572da89838',\n",
       " u'is:c73978f0-c134-4ee3-b0e9-58efa1f61b0b',\n",
       " u'is:c755cea8-fccf-4e65-84e5-9dab86f3b7a6',\n",
       " u'is:c8f051d7-1904-41fc-add8-402488a4faa9',\n",
       " u'is:c92c4862-2077-437d-9689-75482d2cb898',\n",
       " u'is:cb7f2132-8952-470d-8075-d668997bc76e',\n",
       " u'is:d1d4f931-2cb4-469e-b858-3e90dea3630a',\n",
       " u'is:d315f45c-ebc8-4347-8b80-059fae0ad0b2',\n",
       " u'is:d4235ea1-b6f7-49c2-965b-a826cdb0a57a',\n",
       " u'is:d5d8c0e5-46bb-4038-9e73-adc08efa97d6',\n",
       " u'is:d5e3e431-cc85-444f-9d64-5aabb8fe486c',\n",
       " u'is:d7128c5e-1882-45d9-b01f-573d11f1f6e6',\n",
       " u'is:d860a3fd-d58f-4ff3-ad9d-171603cf80e3',\n",
       " u'is:d969646c-9962-4593-8f07-27dac51505ef',\n",
       " u'is:db65308e-d135-451a-804b-502014e95748',\n",
       " u'is:dc268bab-23bb-4268-b283-37c684d9dc0a',\n",
       " u'is:e2576548-a958-496e-a7f5-f4f88c1d7a0e',\n",
       " u'is:e337d3e0-11d0-48ef-8080-1857564d8763',\n",
       " u'is:e3a89a24-2c8e-444c-8e95-9a3ea5cbe42b',\n",
       " u'is:e3b2a6a9-6591-43f6-8d4d-59763eecb127',\n",
       " u'is:e6b033a6-2359-4068-bb7b-c2fda97a1829',\n",
       " u'is:e7297faf-17e6-4e9c-a564-57c50661e1a9',\n",
       " u'is:e743111b-6075-4805-9a27-248272b6e486',\n",
       " u'is:e7a5f559-6d2a-49c1-b223-3d25f502ce05',\n",
       " u'is:e9d566f5-56f2-432f-b603-9158fc01a6b4',\n",
       " u'is:eb4da6dc-95b1-4fd6-9858-f714f7c7ff4c',\n",
       " u'is:ed146fdc-de5b-4299-bd69-1e0ec5b271ff',\n",
       " u'is:edf52379-943c-48d7-86e4-25f6153ac9e9',\n",
       " u'is:efc88c90-86cd-490c-98c7-216d308cf493',\n",
       " u'is:f0ba9953-b20d-402c-9cc0-05ac60410ec5',\n",
       " u'is:f17e1601-ccf4-48f5-87c9-b5b5c9654da8',\n",
       " u'is:f27e0bdb-46e7-4b5f-9ef4-993e62068716',\n",
       " u'is:f661bc25-28a2-4885-b5fe-831b11abdadf',\n",
       " u'is:f7a29a86-822b-4b4c-a2b2-425dcbe4a69b',\n",
       " u'is:f951610b-8215-49a4-9548-402975bd5c67',\n",
       " u'is:fa432c6f-054f-40df-b393-1403a843eec3',\n",
       " u'is:fba19f30-8a31-481f-a71f-0d5deeb6fe3c',\n",
       " u'is:fd2ae52f-c0f1-441f-9d69-6778a454c1f8',\n",
       " u'is:fe75eaee-73b0-407d-b260-5836a2e8ce21',\n",
       " u'is:ff21427c-71db-49b0-b124-df95612dd224'}"
      ]
     },
     "execution_count": 104,
     "metadata": {},
     "output_type": "execute_result"
    }
   ],
   "source": [
    "activity_instances"
   ]
  },
  {
   "cell_type": "code",
   "execution_count": 106,
   "metadata": {
    "collapsed": false
   },
   "outputs": [
    {
     "data": {
      "text/plain": [
       "{u'@fields': {u'is:21090197-6cce-4b66-8bc9-12e03029d84e': {u'unk:args': u'--child calculate_pafs --tag first_history_test0',\n",
       "   u'unk:command': u'/Users/vr24/virtualenvs/general_personal_dev_env/bin/python',\n",
       "   u'unk:date': u'2016-11-05T16:53:06-07:00',\n",
       "   u'unk:group_id': {u'$': 37253, u'type': u'xsd:int'},\n",
       "   u'unk:hostname': u'Gladstone.domain',\n",
       "   u'unk:interpreter': u'2.7.10 (default, Oct 23 2015, 19:19:21) ',\n",
       "   u'unk:platform': u'Darwin-15.5.0-x86_64-i386-64bit',\n",
       "   u'unk:process_id': {u'$': 37260, u'type': u'xsd:int'},\n",
       "   u'unk:sge_job_id': u'100'}},\n",
       " u'@message': u'create_file3',\n",
       " u'@source_host': u'withme',\n",
       " u'@timestamp': u'2016-11-05T23:53:07.028Z',\n",
       " u'@version': 1,\n",
       " u'document': u'is:21090197-6cce-4b66-8bc9-12e03029d84e',\n",
       " u'host': u'127.0.0.1',\n",
       " u'instance': u'is:21090197-6cce-4b66-8bc9-12e03029d84e',\n",
       " u'port': 64675,\n",
       " u'prov': u'activity'}"
      ]
     },
     "execution_count": 106,
     "metadata": {},
     "output_type": "execute_result"
    }
   ],
   "source": [
    "# OK great, each activity instance tag seems to be a single, hash-like string prefixed with 'is:' (perhaps namespace?)\n",
    "# Let's investigage the fields for an activity\n",
    "logs_by_type[\"activity\"][0]"
   ]
  },
  {
   "cell_type": "code",
   "execution_count": 110,
   "metadata": {
    "collapsed": false
   },
   "outputs": [
    {
     "data": {
      "text/plain": [
       "9"
      ]
     },
     "execution_count": 110,
     "metadata": {},
     "output_type": "execute_result"
    }
   ],
   "source": [
    "# OK, there are many more properties than for an agent, but this is manageable.\n",
    "# Activity is defined by \"@fields\" object, too.\n",
    "# Is there any variability in the prefix for each of the field names for an activity instance?\n",
    "activity_fields_object_values_keys = set()\n",
    "for activity_document in logs_by_type[\"activity\"]:\n",
    "    fields_object_values = activity_document[\"@fields\"].values()\n",
    "    assert 1 == sum(1 for _ in fields_object_values)\n",
    "    activity_fields_object_values_keys.update(fields_object_values[0].keys())\n",
    "len(activity_fields_object_values_keys)"
   ]
  },
  {
   "cell_type": "code",
   "execution_count": 111,
   "metadata": {
    "collapsed": false
   },
   "outputs": [
    {
     "data": {
      "text/plain": [
       "{u'unk:args',\n",
       " u'unk:command',\n",
       " u'unk:date',\n",
       " u'unk:group_id',\n",
       " u'unk:hostname',\n",
       " u'unk:interpreter',\n",
       " u'unk:platform',\n",
       " u'unk:process_id',\n",
       " u'unk:sge_job_id'}"
      ]
     },
     "execution_count": 111,
     "metadata": {},
     "output_type": "execute_result"
    }
   ],
   "source": [
    "activity_fields_object_values_keys"
   ]
  },
  {
   "cell_type": "code",
   "execution_count": 112,
   "metadata": {
    "collapsed": false
   },
   "outputs": [
    {
     "data": {
      "text/plain": [
       "[{u'@fields': {u'code:tests/make_history.py': {u'unk:script': u'/Users/vr24/code/provda/tests/make_history.py',\n",
       "    u'unk:version_branch': u'tinkering',\n",
       "    u'unk:version_branch_hash': u'372d74f21713f47642fc424e7e3289f38b2ed5a0',\n",
       "    u'unk:version_remote': u'https://vr24@stash.ihme.washington.edu/scm/~adolgert/provda.git'},\n",
       "   u'doc:gbd-read/schema/table': {},\n",
       "   u'doc:gbd/first_history_test0/cvd_ihd.hdf': {},\n",
       "   u'doc:paf/first_history_test0/cvd_ihd.hdf': {}},\n",
       "  u'@message': u'create_file3',\n",
       "  u'@source_host': u'withme',\n",
       "  u'@timestamp': u'2016-11-05T23:53:07.027Z',\n",
       "  u'@version': 1,\n",
       "  u'document': u'is:21090197-6cce-4b66-8bc9-12e03029d84e',\n",
       "  u'host': u'127.0.0.1',\n",
       "  u'instance': u'doc:gbd-read/schema/table',\n",
       "  u'port': 64675,\n",
       "  u'prov': u'entity'},\n",
       " {u'@fields': {u'code:tests/make_history.py': {u'unk:script': u'/Users/vr24/code/provda/tests/make_history.py',\n",
       "    u'unk:version_branch': u'tinkering',\n",
       "    u'unk:version_branch_hash': u'372d74f21713f47642fc424e7e3289f38b2ed5a0',\n",
       "    u'unk:version_remote': u'https://vr24@stash.ihme.washington.edu/scm/~adolgert/provda.git'},\n",
       "   u'doc:gbd-read/schema/table': {},\n",
       "   u'doc:gbd/first_history_test0/cvd_ihd.hdf': {},\n",
       "   u'doc:paf/first_history_test0/cvd_ihd.hdf': {}},\n",
       "  u'@message': u'create_file3',\n",
       "  u'@source_host': u'withme',\n",
       "  u'@timestamp': u'2016-11-05T23:53:07.027Z',\n",
       "  u'@version': 1,\n",
       "  u'document': u'is:21090197-6cce-4b66-8bc9-12e03029d84e',\n",
       "  u'host': u'127.0.0.1',\n",
       "  u'instance': u'doc:gbd/first_history_test0/cvd_ihd.hdf',\n",
       "  u'port': 64675,\n",
       "  u'prov': u'entity'},\n",
       " {u'@fields': {u'code:tests/make_history.py': {u'unk:script': u'/Users/vr24/code/provda/tests/make_history.py',\n",
       "    u'unk:version_branch': u'tinkering',\n",
       "    u'unk:version_branch_hash': u'372d74f21713f47642fc424e7e3289f38b2ed5a0',\n",
       "    u'unk:version_remote': u'https://vr24@stash.ihme.washington.edu/scm/~adolgert/provda.git'},\n",
       "   u'doc:gbd-read/schema/table': {},\n",
       "   u'doc:gbd/first_history_test0/cvd_ihd.hdf': {},\n",
       "   u'doc:paf/first_history_test0/cvd_ihd.hdf': {}},\n",
       "  u'@message': u'create_file3',\n",
       "  u'@source_host': u'withme',\n",
       "  u'@timestamp': u'2016-11-05T23:53:07.028Z',\n",
       "  u'@version': 1,\n",
       "  u'document': u'is:21090197-6cce-4b66-8bc9-12e03029d84e',\n",
       "  u'host': u'127.0.0.1',\n",
       "  u'instance': u'code:tests/make_history.py',\n",
       "  u'port': 64675,\n",
       "  u'prov': u'entity'}]"
      ]
     },
     "execution_count": 112,
     "metadata": {},
     "output_type": "execute_result"
    }
   ],
   "source": [
    "# What about an entity?\n",
    "log_trio_by_type[\"entity\"]"
   ]
  },
  {
   "cell_type": "code",
   "execution_count": 113,
   "metadata": {
    "collapsed": false
   },
   "outputs": [
    {
     "data": {
      "text/plain": [
       "{u'@fields': {u'_:id2': {u'prov:activity': u'is:21090197-6cce-4b66-8bc9-12e03029d84e',\n",
       "   u'prov:agent': u'people:vr24'}},\n",
       " u'@message': u'create_file3',\n",
       " u'@source_host': u'withme',\n",
       " u'@timestamp': u'2016-11-05T23:53:07.027Z',\n",
       " u'@version': 1,\n",
       " u'document': u'is:21090197-6cce-4b66-8bc9-12e03029d84e',\n",
       " u'host': u'127.0.0.1',\n",
       " u'instance': u'_:id2',\n",
       " u'port': 64675,\n",
       " u'prov': u'wasAssociatedWith'}"
      ]
     },
     "execution_count": 113,
     "metadata": {},
     "output_type": "execute_result"
    }
   ],
   "source": [
    "logs[0]"
   ]
  },
  {
   "cell_type": "code",
   "execution_count": 116,
   "metadata": {
    "collapsed": false
   },
   "outputs": [
    {
     "data": {
      "text/plain": [
       "1"
      ]
     },
     "execution_count": 116,
     "metadata": {},
     "output_type": "execute_result"
    }
   ],
   "source": [
    "instance_id = 'is:21090197-6cce-4b66-8bc9-12e03029d84e'\n",
    "specific_instance_logs = \\\n",
    "    filter(lambda log: log[\"instance\"] == 'is:21090197-6cce-4b66-8bc9-12e03029d84e', logs)\n",
    "len(specific_instance_logs)"
   ]
  },
  {
   "cell_type": "code",
   "execution_count": 117,
   "metadata": {
    "collapsed": false
   },
   "outputs": [
    {
     "data": {
      "text/plain": [
       "{u'@fields': {u'is:21090197-6cce-4b66-8bc9-12e03029d84e': {u'unk:args': u'--child calculate_pafs --tag first_history_test0',\n",
       "   u'unk:command': u'/Users/vr24/virtualenvs/general_personal_dev_env/bin/python',\n",
       "   u'unk:date': u'2016-11-05T16:53:06-07:00',\n",
       "   u'unk:group_id': {u'$': 37253, u'type': u'xsd:int'},\n",
       "   u'unk:hostname': u'Gladstone.domain',\n",
       "   u'unk:interpreter': u'2.7.10 (default, Oct 23 2015, 19:19:21) ',\n",
       "   u'unk:platform': u'Darwin-15.5.0-x86_64-i386-64bit',\n",
       "   u'unk:process_id': {u'$': 37260, u'type': u'xsd:int'},\n",
       "   u'unk:sge_job_id': u'100'}},\n",
       " u'@message': u'create_file3',\n",
       " u'@source_host': u'withme',\n",
       " u'@timestamp': u'2016-11-05T23:53:07.028Z',\n",
       " u'@version': 1,\n",
       " u'document': u'is:21090197-6cce-4b66-8bc9-12e03029d84e',\n",
       " u'host': u'127.0.0.1',\n",
       " u'instance': u'is:21090197-6cce-4b66-8bc9-12e03029d84e',\n",
       " u'port': 64675,\n",
       " u'prov': u'activity'}"
      ]
     },
     "execution_count": 117,
     "metadata": {},
     "output_type": "execute_result"
    }
   ],
   "source": [
    "specific_instance_logs[0]"
   ]
  },
  {
   "cell_type": "code",
   "execution_count": 118,
   "metadata": {
    "collapsed": false
   },
   "outputs": [
    {
     "data": {
      "text/plain": [
       "18"
      ]
     },
     "execution_count": 118,
     "metadata": {},
     "output_type": "execute_result"
    }
   ],
   "source": [
    "document_id = 'is:21090197-6cce-4b66-8bc9-12e03029d84e'\n",
    "specific_document_logs = \\\n",
    "    filter(lambda log: log[\"document\"] == 'is:21090197-6cce-4b66-8bc9-12e03029d84e', logs)\n",
    "len(specific_document_logs)"
   ]
  },
  {
   "cell_type": "code",
   "execution_count": 119,
   "metadata": {
    "collapsed": false
   },
   "outputs": [
    {
     "data": {
      "text/plain": [
       "[{u'@fields': {u'_:id2': {u'prov:activity': u'is:21090197-6cce-4b66-8bc9-12e03029d84e',\n",
       "    u'prov:agent': u'people:vr24'}},\n",
       "  u'@message': u'create_file3',\n",
       "  u'@source_host': u'withme',\n",
       "  u'@timestamp': u'2016-11-05T23:53:07.027Z',\n",
       "  u'@version': 1,\n",
       "  u'document': u'is:21090197-6cce-4b66-8bc9-12e03029d84e',\n",
       "  u'host': u'127.0.0.1',\n",
       "  u'instance': u'_:id2',\n",
       "  u'port': 64675,\n",
       "  u'prov': u'wasAssociatedWith'},\n",
       " {u'@fields': {u'_:id1': {u'prov:activity': u'is:21090197-6cce-4b66-8bc9-12e03029d84e',\n",
       "    u'prov:entity': u'code:tests/make_history.py'},\n",
       "   u'_:id3': {u'prov:activity': u'is:21090197-6cce-4b66-8bc9-12e03029d84e',\n",
       "    u'prov:entity': u'doc:gbd/first_history_test0/cvd_ihd.hdf'},\n",
       "   u'_:id4': {u'prov:activity': u'is:21090197-6cce-4b66-8bc9-12e03029d84e',\n",
       "    u'prov:entity': u'doc:gbd-read/schema/table'}},\n",
       "  u'@message': u'create_file3',\n",
       "  u'@source_host': u'withme',\n",
       "  u'@timestamp': u'2016-11-05T23:53:07.027Z',\n",
       "  u'@version': 1,\n",
       "  u'document': u'is:21090197-6cce-4b66-8bc9-12e03029d84e',\n",
       "  u'host': u'127.0.0.1',\n",
       "  u'instance': u'_:id4',\n",
       "  u'port': 64675,\n",
       "  u'prov': u'used'},\n",
       " {u'@fields': {u'_:id1': {u'prov:activity': u'is:21090197-6cce-4b66-8bc9-12e03029d84e',\n",
       "    u'prov:entity': u'code:tests/make_history.py'},\n",
       "   u'_:id3': {u'prov:activity': u'is:21090197-6cce-4b66-8bc9-12e03029d84e',\n",
       "    u'prov:entity': u'doc:gbd/first_history_test0/cvd_ihd.hdf'},\n",
       "   u'_:id4': {u'prov:activity': u'is:21090197-6cce-4b66-8bc9-12e03029d84e',\n",
       "    u'prov:entity': u'doc:gbd-read/schema/table'}},\n",
       "  u'@message': u'create_file3',\n",
       "  u'@source_host': u'withme',\n",
       "  u'@timestamp': u'2016-11-05T23:53:07.027Z',\n",
       "  u'@version': 1,\n",
       "  u'document': u'is:21090197-6cce-4b66-8bc9-12e03029d84e',\n",
       "  u'host': u'127.0.0.1',\n",
       "  u'instance': u'_:id1',\n",
       "  u'port': 64675,\n",
       "  u'prov': u'used'},\n",
       " {u'@fields': {u'_:id1': {u'prov:activity': u'is:21090197-6cce-4b66-8bc9-12e03029d84e',\n",
       "    u'prov:entity': u'code:tests/make_history.py'},\n",
       "   u'_:id3': {u'prov:activity': u'is:21090197-6cce-4b66-8bc9-12e03029d84e',\n",
       "    u'prov:entity': u'doc:gbd/first_history_test0/cvd_ihd.hdf'},\n",
       "   u'_:id4': {u'prov:activity': u'is:21090197-6cce-4b66-8bc9-12e03029d84e',\n",
       "    u'prov:entity': u'doc:gbd-read/schema/table'}},\n",
       "  u'@message': u'create_file3',\n",
       "  u'@source_host': u'withme',\n",
       "  u'@timestamp': u'2016-11-05T23:53:07.027Z',\n",
       "  u'@version': 1,\n",
       "  u'document': u'is:21090197-6cce-4b66-8bc9-12e03029d84e',\n",
       "  u'host': u'127.0.0.1',\n",
       "  u'instance': u'_:id3',\n",
       "  u'port': 64675,\n",
       "  u'prov': u'used'},\n",
       " {u'@fields': {u'people:vr24': {u'unk:fullname': u'Vincent Reuter',\n",
       "    u'unk:homedir': u'/Users/vr24'}},\n",
       "  u'@message': u'create_file3',\n",
       "  u'@source_host': u'withme',\n",
       "  u'@timestamp': u'2016-11-05T23:53:07.027Z',\n",
       "  u'@version': 1,\n",
       "  u'document': u'is:21090197-6cce-4b66-8bc9-12e03029d84e',\n",
       "  u'host': u'127.0.0.1',\n",
       "  u'instance': u'people:vr24',\n",
       "  u'port': 64675,\n",
       "  u'prov': u'agent'},\n",
       " {u'@fields': {u'code:tests/make_history.py': {u'unk:script': u'/Users/vr24/code/provda/tests/make_history.py',\n",
       "    u'unk:version_branch': u'tinkering',\n",
       "    u'unk:version_branch_hash': u'372d74f21713f47642fc424e7e3289f38b2ed5a0',\n",
       "    u'unk:version_remote': u'https://vr24@stash.ihme.washington.edu/scm/~adolgert/provda.git'},\n",
       "   u'doc:gbd-read/schema/table': {},\n",
       "   u'doc:gbd/first_history_test0/cvd_ihd.hdf': {},\n",
       "   u'doc:paf/first_history_test0/cvd_ihd.hdf': {}},\n",
       "  u'@message': u'create_file3',\n",
       "  u'@source_host': u'withme',\n",
       "  u'@timestamp': u'2016-11-05T23:53:07.027Z',\n",
       "  u'@version': 1,\n",
       "  u'document': u'is:21090197-6cce-4b66-8bc9-12e03029d84e',\n",
       "  u'host': u'127.0.0.1',\n",
       "  u'instance': u'doc:gbd-read/schema/table',\n",
       "  u'port': 64675,\n",
       "  u'prov': u'entity'},\n",
       " {u'@fields': {u'code:tests/make_history.py': {u'unk:script': u'/Users/vr24/code/provda/tests/make_history.py',\n",
       "    u'unk:version_branch': u'tinkering',\n",
       "    u'unk:version_branch_hash': u'372d74f21713f47642fc424e7e3289f38b2ed5a0',\n",
       "    u'unk:version_remote': u'https://vr24@stash.ihme.washington.edu/scm/~adolgert/provda.git'},\n",
       "   u'doc:gbd-read/schema/table': {},\n",
       "   u'doc:gbd/first_history_test0/cvd_ihd.hdf': {},\n",
       "   u'doc:paf/first_history_test0/cvd_ihd.hdf': {}},\n",
       "  u'@message': u'create_file3',\n",
       "  u'@source_host': u'withme',\n",
       "  u'@timestamp': u'2016-11-05T23:53:07.027Z',\n",
       "  u'@version': 1,\n",
       "  u'document': u'is:21090197-6cce-4b66-8bc9-12e03029d84e',\n",
       "  u'host': u'127.0.0.1',\n",
       "  u'instance': u'doc:gbd/first_history_test0/cvd_ihd.hdf',\n",
       "  u'port': 64675,\n",
       "  u'prov': u'entity'},\n",
       " {u'@fields': {u'code:tests/make_history.py': {u'unk:script': u'/Users/vr24/code/provda/tests/make_history.py',\n",
       "    u'unk:version_branch': u'tinkering',\n",
       "    u'unk:version_branch_hash': u'372d74f21713f47642fc424e7e3289f38b2ed5a0',\n",
       "    u'unk:version_remote': u'https://vr24@stash.ihme.washington.edu/scm/~adolgert/provda.git'},\n",
       "   u'doc:gbd-read/schema/table': {},\n",
       "   u'doc:gbd/first_history_test0/cvd_ihd.hdf': {},\n",
       "   u'doc:paf/first_history_test0/cvd_ihd.hdf': {}},\n",
       "  u'@message': u'create_file3',\n",
       "  u'@source_host': u'withme',\n",
       "  u'@timestamp': u'2016-11-05T23:53:07.028Z',\n",
       "  u'@version': 1,\n",
       "  u'document': u'is:21090197-6cce-4b66-8bc9-12e03029d84e',\n",
       "  u'host': u'127.0.0.1',\n",
       "  u'instance': u'code:tests/make_history.py',\n",
       "  u'port': 64675,\n",
       "  u'prov': u'entity'},\n",
       " {u'@fields': {u'code:tests/make_history.py': {u'unk:script': u'/Users/vr24/code/provda/tests/make_history.py',\n",
       "    u'unk:version_branch': u'tinkering',\n",
       "    u'unk:version_branch_hash': u'372d74f21713f47642fc424e7e3289f38b2ed5a0',\n",
       "    u'unk:version_remote': u'https://vr24@stash.ihme.washington.edu/scm/~adolgert/provda.git'},\n",
       "   u'doc:gbd-read/schema/table': {},\n",
       "   u'doc:gbd/first_history_test0/cvd_ihd.hdf': {},\n",
       "   u'doc:paf/first_history_test0/cvd_ihd.hdf': {}},\n",
       "  u'@message': u'create_file3',\n",
       "  u'@source_host': u'withme',\n",
       "  u'@timestamp': u'2016-11-05T23:53:07.028Z',\n",
       "  u'@version': 1,\n",
       "  u'document': u'is:21090197-6cce-4b66-8bc9-12e03029d84e',\n",
       "  u'host': u'127.0.0.1',\n",
       "  u'instance': u'doc:paf/first_history_test0/cvd_ihd.hdf',\n",
       "  u'port': 64675,\n",
       "  u'prov': u'entity'},\n",
       " {u'@fields': {u'code': u'https://healthdata.org/code',\n",
       "   u'dct': u'http://purl.org/dc/terms/',\n",
       "   u'doc': u'https://healthdata.org/document',\n",
       "   u'foaf': u'http://xmlns.com/foaf/0.1/',\n",
       "   u'is': u'https://healthdata.org/instances',\n",
       "   u'people': u'https://healthdata.org/people',\n",
       "   u'unk': u'http://example.com/unknown'},\n",
       "  u'@message': u'create_file3',\n",
       "  u'@source_host': u'withme',\n",
       "  u'@timestamp': u'2016-11-05T23:53:07.028Z',\n",
       "  u'@version': 1,\n",
       "  u'document': u'is:21090197-6cce-4b66-8bc9-12e03029d84e',\n",
       "  u'host': u'127.0.0.1',\n",
       "  u'instance': u'foaf',\n",
       "  u'port': 64675,\n",
       "  u'prov': u'prefix'},\n",
       " {u'@fields': {u'code': u'https://healthdata.org/code',\n",
       "   u'dct': u'http://purl.org/dc/terms/',\n",
       "   u'doc': u'https://healthdata.org/document',\n",
       "   u'foaf': u'http://xmlns.com/foaf/0.1/',\n",
       "   u'is': u'https://healthdata.org/instances',\n",
       "   u'people': u'https://healthdata.org/people',\n",
       "   u'unk': u'http://example.com/unknown'},\n",
       "  u'@message': u'create_file3',\n",
       "  u'@source_host': u'withme',\n",
       "  u'@timestamp': u'2016-11-05T23:53:07.028Z',\n",
       "  u'@version': 1,\n",
       "  u'document': u'is:21090197-6cce-4b66-8bc9-12e03029d84e',\n",
       "  u'host': u'127.0.0.1',\n",
       "  u'instance': u'code',\n",
       "  u'port': 64675,\n",
       "  u'prov': u'prefix'},\n",
       " {u'@fields': {u'code': u'https://healthdata.org/code',\n",
       "   u'dct': u'http://purl.org/dc/terms/',\n",
       "   u'doc': u'https://healthdata.org/document',\n",
       "   u'foaf': u'http://xmlns.com/foaf/0.1/',\n",
       "   u'is': u'https://healthdata.org/instances',\n",
       "   u'people': u'https://healthdata.org/people',\n",
       "   u'unk': u'http://example.com/unknown'},\n",
       "  u'@message': u'create_file3',\n",
       "  u'@source_host': u'withme',\n",
       "  u'@timestamp': u'2016-11-05T23:53:07.028Z',\n",
       "  u'@version': 1,\n",
       "  u'document': u'is:21090197-6cce-4b66-8bc9-12e03029d84e',\n",
       "  u'host': u'127.0.0.1',\n",
       "  u'instance': u'people',\n",
       "  u'port': 64675,\n",
       "  u'prov': u'prefix'},\n",
       " {u'@fields': {u'code': u'https://healthdata.org/code',\n",
       "   u'dct': u'http://purl.org/dc/terms/',\n",
       "   u'doc': u'https://healthdata.org/document',\n",
       "   u'foaf': u'http://xmlns.com/foaf/0.1/',\n",
       "   u'is': u'https://healthdata.org/instances',\n",
       "   u'people': u'https://healthdata.org/people',\n",
       "   u'unk': u'http://example.com/unknown'},\n",
       "  u'@message': u'create_file3',\n",
       "  u'@source_host': u'withme',\n",
       "  u'@timestamp': u'2016-11-05T23:53:07.028Z',\n",
       "  u'@version': 1,\n",
       "  u'document': u'is:21090197-6cce-4b66-8bc9-12e03029d84e',\n",
       "  u'host': u'127.0.0.1',\n",
       "  u'instance': u'doc',\n",
       "  u'port': 64675,\n",
       "  u'prov': u'prefix'},\n",
       " {u'@fields': {u'code': u'https://healthdata.org/code',\n",
       "   u'dct': u'http://purl.org/dc/terms/',\n",
       "   u'doc': u'https://healthdata.org/document',\n",
       "   u'foaf': u'http://xmlns.com/foaf/0.1/',\n",
       "   u'is': u'https://healthdata.org/instances',\n",
       "   u'people': u'https://healthdata.org/people',\n",
       "   u'unk': u'http://example.com/unknown'},\n",
       "  u'@message': u'create_file3',\n",
       "  u'@source_host': u'withme',\n",
       "  u'@timestamp': u'2016-11-05T23:53:07.028Z',\n",
       "  u'@version': 1,\n",
       "  u'document': u'is:21090197-6cce-4b66-8bc9-12e03029d84e',\n",
       "  u'host': u'127.0.0.1',\n",
       "  u'instance': u'is',\n",
       "  u'port': 64675,\n",
       "  u'prov': u'prefix'},\n",
       " {u'@fields': {u'code': u'https://healthdata.org/code',\n",
       "   u'dct': u'http://purl.org/dc/terms/',\n",
       "   u'doc': u'https://healthdata.org/document',\n",
       "   u'foaf': u'http://xmlns.com/foaf/0.1/',\n",
       "   u'is': u'https://healthdata.org/instances',\n",
       "   u'people': u'https://healthdata.org/people',\n",
       "   u'unk': u'http://example.com/unknown'},\n",
       "  u'@message': u'create_file3',\n",
       "  u'@source_host': u'withme',\n",
       "  u'@timestamp': u'2016-11-05T23:53:07.028Z',\n",
       "  u'@version': 1,\n",
       "  u'document': u'is:21090197-6cce-4b66-8bc9-12e03029d84e',\n",
       "  u'host': u'127.0.0.1',\n",
       "  u'instance': u'dct',\n",
       "  u'port': 64675,\n",
       "  u'prov': u'prefix'},\n",
       " {u'@fields': {u'code': u'https://healthdata.org/code',\n",
       "   u'dct': u'http://purl.org/dc/terms/',\n",
       "   u'doc': u'https://healthdata.org/document',\n",
       "   u'foaf': u'http://xmlns.com/foaf/0.1/',\n",
       "   u'is': u'https://healthdata.org/instances',\n",
       "   u'people': u'https://healthdata.org/people',\n",
       "   u'unk': u'http://example.com/unknown'},\n",
       "  u'@message': u'create_file3',\n",
       "  u'@source_host': u'withme',\n",
       "  u'@timestamp': u'2016-11-05T23:53:07.028Z',\n",
       "  u'@version': 1,\n",
       "  u'document': u'is:21090197-6cce-4b66-8bc9-12e03029d84e',\n",
       "  u'host': u'127.0.0.1',\n",
       "  u'instance': u'unk',\n",
       "  u'port': 64675,\n",
       "  u'prov': u'prefix'},\n",
       " {u'@fields': {u'is:21090197-6cce-4b66-8bc9-12e03029d84e': {u'unk:args': u'--child calculate_pafs --tag first_history_test0',\n",
       "    u'unk:command': u'/Users/vr24/virtualenvs/general_personal_dev_env/bin/python',\n",
       "    u'unk:date': u'2016-11-05T16:53:06-07:00',\n",
       "    u'unk:group_id': {u'$': 37253, u'type': u'xsd:int'},\n",
       "    u'unk:hostname': u'Gladstone.domain',\n",
       "    u'unk:interpreter': u'2.7.10 (default, Oct 23 2015, 19:19:21) ',\n",
       "    u'unk:platform': u'Darwin-15.5.0-x86_64-i386-64bit',\n",
       "    u'unk:process_id': {u'$': 37260, u'type': u'xsd:int'},\n",
       "    u'unk:sge_job_id': u'100'}},\n",
       "  u'@message': u'create_file3',\n",
       "  u'@source_host': u'withme',\n",
       "  u'@timestamp': u'2016-11-05T23:53:07.028Z',\n",
       "  u'@version': 1,\n",
       "  u'document': u'is:21090197-6cce-4b66-8bc9-12e03029d84e',\n",
       "  u'host': u'127.0.0.1',\n",
       "  u'instance': u'is:21090197-6cce-4b66-8bc9-12e03029d84e',\n",
       "  u'port': 64675,\n",
       "  u'prov': u'activity'},\n",
       " {u'@fields': {u'_:id5': {u'prov:activity': u'is:21090197-6cce-4b66-8bc9-12e03029d84e',\n",
       "    u'prov:entity': u'doc:paf/first_history_test0/cvd_ihd.hdf'}},\n",
       "  u'@message': u'create_file3',\n",
       "  u'@source_host': u'withme',\n",
       "  u'@timestamp': u'2016-11-05T23:53:07.028Z',\n",
       "  u'@version': 1,\n",
       "  u'document': u'is:21090197-6cce-4b66-8bc9-12e03029d84e',\n",
       "  u'host': u'127.0.0.1',\n",
       "  u'instance': u'_:id5',\n",
       "  u'port': 64675,\n",
       "  u'prov': u'wasGeneratedBy'}]"
      ]
     },
     "execution_count": 119,
     "metadata": {},
     "output_type": "execute_result"
    }
   ],
   "source": [
    "specific_document_logs"
   ]
  },
  {
   "cell_type": "code",
   "execution_count": 120,
   "metadata": {
    "collapsed": false
   },
   "outputs": [
    {
     "data": {
      "text/plain": [
       "220"
      ]
     },
     "execution_count": 120,
     "metadata": {},
     "output_type": "execute_result"
    }
   ],
   "source": [
    "# Does the space of documents account for the total log collection? Let's investigate!\n",
    "document_ids = {log[\"document\"] for log in logs}\n",
    "len(document_ids)"
   ]
  },
  {
   "cell_type": "code",
   "execution_count": 123,
   "metadata": {
    "collapsed": false
   },
   "outputs": [
    {
     "data": {
      "text/plain": [
       "defaultdict(int, {18: 160, 20: 40, 34: 20})"
      ]
     },
     "execution_count": 123,
     "metadata": {},
     "output_type": "execute_result"
    }
   ],
   "source": [
    "def filter_records(logs, field, match_value):\n",
    "    return [log for log in logs if log[field] == match_value]\n",
    "\n",
    "# What's the distribution of number of records per document ID?\n",
    "num_docs_by_record_count = defaultdict(int)\n",
    "for doc_id in document_ids:\n",
    "    num_docs_by_record_count[sum(1 for _ in filter_records(logs, \"document\", doc_id))] += 1\n",
    "num_docs_by_record_count"
   ]
  },
  {
   "cell_type": "code",
   "execution_count": 126,
   "metadata": {
    "collapsed": false
   },
   "outputs": [
    {
     "data": {
      "text/plain": [
       "{u'activity',\n",
       " u'agent',\n",
       " u'entity',\n",
       " u'hadMember',\n",
       " u'prefix',\n",
       " u'used',\n",
       " u'wasAssociatedWith',\n",
       " u'wasGeneratedBy',\n",
       " u'wasInfluencedBy'}"
      ]
     },
     "execution_count": 126,
     "metadata": {},
     "output_type": "execute_result"
    }
   ],
   "source": [
    "{log[\"prov\"] for log in logs}"
   ]
  },
  {
   "cell_type": "code",
   "execution_count": null,
   "metadata": {
    "collapsed": true
   },
   "outputs": [],
   "source": []
  }
 ],
 "metadata": {
  "kernelspec": {
   "display_name": "Python 2",
   "language": "python",
   "name": "python2"
  },
  "language_info": {
   "codemirror_mode": {
    "name": "ipython",
    "version": 2
   },
   "file_extension": ".py",
   "mimetype": "text/x-python",
   "name": "python",
   "nbconvert_exporter": "python",
   "pygments_lexer": "ipython2",
   "version": "2.7.10"
  }
 },
 "nbformat": 4,
 "nbformat_minor": 1
}
